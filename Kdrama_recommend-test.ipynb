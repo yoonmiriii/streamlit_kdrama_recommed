{
 "cells": [
  {
   "cell_type": "markdown",
   "id": "91a081df",
   "metadata": {},
   "source": [
    "본 자료는 다음 링크의 내용을 참고하였습니다.\n",
    "\n",
    "- Reference : https://www.kaggle.com/datasets/robertonacu/tmdb-kdramas-2022/data"
   ]
  },
  {
   "cell_type": "markdown",
   "id": "be41e371",
   "metadata": {},
   "source": [
    "# 드라마 추천하기"
   ]
  },
  {
   "cell_type": "markdown",
   "id": "821876ca",
   "metadata": {},
   
  },
  {
   "cell_type": "code",
   "execution_count": 224,
   "id": "24bd5f05",
   "metadata": {},
   "outputs": [],
   "source": [
    "import pandas as pd\n",
    "import numpy as np\n",
    "import nltk\n",
    "from nltk.stem.porter import PorterStemmer\n",
    "# https://scikit-learn.org/stable/modules/generated/sklearn.feature_extraction.text.CountVectorizer.html\n",
    "from sklearn.feature_extraction.text import CountVectorizer\n",
    "# https://scikit-learn.org/stable/modules/generated/sklearn.metrics.pairwise.cosine_similarity.html\n",
    "from sklearn.metrics.pairwise import cosine_similarity"
   ]
  },
  {
   "cell_type": "code",
   "execution_count": 225,
   "id": "7d5acf32-7829-4e4c-aa88-c6aa8c8250b8",
   "metadata": {},
   "outputs": [],
   "source": [
    "df_series = pd.read_csv('./kmdb_kdrama/series.csv')\n",
    "df_genres = pd.read_csv('./kmdb_kdrama/genres.csv')\n",
    "df_networks = pd.read_csv('./kmdb_kdrama/networks.csv')\n",
    "df_people = pd.read_csv('./kmdb_kdrama/people.csv')"
   ]
  },
  {
   "cell_type": "code",
   "execution_count": 226,
   "id": "39266187",
   "metadata": {},
   "outputs": [
    {
     "data": {
      "text/html": [
       "<div>\n",
       "<style scoped>\n",
       "    .dataframe tbody tr th:only-of-type {\n",
       "        vertical-align: middle;\n",
       "    }\n",
       "\n",
       "    .dataframe tbody tr th {\n",
       "        vertical-align: top;\n",
       "    }\n",
       "\n",
       "    .dataframe thead th {\n",
       "        text-align: right;\n",
       "    }\n",
       "</style>\n",
       "<table border=\"1\" class=\"dataframe\">\n",
       "  <thead>\n",
       "    <tr style=\"text-align: right;\">\n",
       "      <th></th>\n",
       "      <th>tmdb_id</th>\n",
       "      <th>name</th>\n",
       "      <th>original_name</th>\n",
       "      <th>keywords</th>\n",
       "      <th>airing_date</th>\n",
       "      <th>poster_img_url</th>\n",
       "      <th>background_img_url</th>\n",
       "      <th>directors_ids</th>\n",
       "      <th>cast_ids</th>\n",
       "      <th>genres_ids</th>\n",
       "      <th>...</th>\n",
       "      <th>episode_run_time</th>\n",
       "      <th>synopsis</th>\n",
       "      <th>popularity</th>\n",
       "      <th>average_rating</th>\n",
       "      <th>rating_count</th>\n",
       "      <th>next_episode_to_air</th>\n",
       "      <th>next_episode_air_date</th>\n",
       "      <th>origin_country</th>\n",
       "      <th>networks_ids</th>\n",
       "      <th>production_companies_ids</th>\n",
       "    </tr>\n",
       "  </thead>\n",
       "  <tbody>\n",
       "    <tr>\n",
       "      <th>0</th>\n",
       "      <td>208249</td>\n",
       "      <td>Game of Witches</td>\n",
       "      <td>마녀의 게임</td>\n",
       "      <td>NaN</td>\n",
       "      <td>2022-10-11</td>\n",
       "      <td>https://image.tmdb.org/t/p/w500/9bTjPzX48VZGal...</td>\n",
       "      <td>https://image.tmdb.org/t/p/original/akjmJsCDpv...</td>\n",
       "      <td>NaN</td>\n",
       "      <td>582555, 2117665, 1066220</td>\n",
       "      <td>18, 80, 9648</td>\n",
       "      <td>...</td>\n",
       "      <td>30.0</td>\n",
       "      <td>Yu Kyung is a successful woman who is proficie...</td>\n",
       "      <td>414.151</td>\n",
       "      <td>NaN</td>\n",
       "      <td>NaN</td>\n",
       "      <td>25.0</td>\n",
       "      <td>2022-11-14</td>\n",
       "      <td>KR</td>\n",
       "      <td>97</td>\n",
       "      <td>26511, 136349</td>\n",
       "    </tr>\n",
       "    <tr>\n",
       "      <th>1</th>\n",
       "      <td>99966</td>\n",
       "      <td>All of Us Are Dead</td>\n",
       "      <td>지금 우리 학교는</td>\n",
       "      <td>high school, bullying, based on comic, horror,...</td>\n",
       "      <td>2022-01-28</td>\n",
       "      <td>https://image.tmdb.org/t/p/w500/6zUUtzj7aJzOdo...</td>\n",
       "      <td>https://image.tmdb.org/t/p/original/8Xs20y8gFR...</td>\n",
       "      <td>1182291</td>\n",
       "      <td>2125084, 1493898, 2185341, 2074587, 2402531, 1...</td>\n",
       "      <td>10759, 18, 10765</td>\n",
       "      <td>...</td>\n",
       "      <td>65.0</td>\n",
       "      <td>A high school becomes ground zero for a zombie...</td>\n",
       "      <td>398.111</td>\n",
       "      <td>8.421</td>\n",
       "      <td>2750.0</td>\n",
       "      <td>NaN</td>\n",
       "      <td>NaN</td>\n",
       "      <td>KR</td>\n",
       "      <td>213</td>\n",
       "      <td>56797, 86981, 113553</td>\n",
       "    </tr>\n",
       "    <tr>\n",
       "      <th>2</th>\n",
       "      <td>112888</td>\n",
       "      <td>True Beauty</td>\n",
       "      <td>여신강림</td>\n",
       "      <td>high school, beauty, makeover, hidden identity...</td>\n",
       "      <td>2020-12-09</td>\n",
       "      <td>https://image.tmdb.org/t/p/w500/sld43SJArZqlnA...</td>\n",
       "      <td>https://image.tmdb.org/t/p/original/31N42Lhrxl...</td>\n",
       "      <td>NaN</td>\n",
       "      <td>1252016, 1604826, 2333298, 2175208, 1108037, 1...</td>\n",
       "      <td>35, 18</td>\n",
       "      <td>...</td>\n",
       "      <td>75.0</td>\n",
       "      <td>Lim Ju-kyung is a high school student. Since s...</td>\n",
       "      <td>396.708</td>\n",
       "      <td>8.524</td>\n",
       "      <td>1156.0</td>\n",
       "      <td>NaN</td>\n",
       "      <td>NaN</td>\n",
       "      <td>KR</td>\n",
       "      <td>NaN</td>\n",
       "      <td>36225, 86418, 119174</td>\n",
       "    </tr>\n",
       "    <tr>\n",
       "      <th>3</th>\n",
       "      <td>93405</td>\n",
       "      <td>Squid Game</td>\n",
       "      <td>오징어 게임</td>\n",
       "      <td>secret organization, challenge, survival, fict...</td>\n",
       "      <td>2021-09-17</td>\n",
       "      <td>https://image.tmdb.org/t/p/w500/dDlEmu3EZ0Pgg9...</td>\n",
       "      <td>https://image.tmdb.org/t/p/original/4y6kEEfdrN...</td>\n",
       "      <td>1294471</td>\n",
       "      <td>73249, 1593672, 3194501, 1557181, 1048070, 191...</td>\n",
       "      <td>10759, 9648, 18</td>\n",
       "      <td>...</td>\n",
       "      <td>54.0</td>\n",
       "      <td>Hundreds of cash-strapped players accept a str...</td>\n",
       "      <td>323.945</td>\n",
       "      <td>7.835</td>\n",
       "      <td>11835.0</td>\n",
       "      <td>NaN</td>\n",
       "      <td>NaN</td>\n",
       "      <td>KR</td>\n",
       "      <td>213</td>\n",
       "      <td>112647</td>\n",
       "    </tr>\n",
       "    <tr>\n",
       "      <th>4</th>\n",
       "      <td>211174</td>\n",
       "      <td>Vengeance of the Bride</td>\n",
       "      <td>태풍의 신부</td>\n",
       "      <td>revenge, daughter–in–law, enemy, woman</td>\n",
       "      <td>2022-10-10</td>\n",
       "      <td>https://image.tmdb.org/t/p/w500/aHUyK2XA76mn9G...</td>\n",
       "      <td>https://image.tmdb.org/t/p/original/5gGfJIMB2y...</td>\n",
       "      <td>NaN</td>\n",
       "      <td>1568455, 1368061, 1940498, 1233712, 139509, 17...</td>\n",
       "      <td>18, 9648, 10751</td>\n",
       "      <td>...</td>\n",
       "      <td>40.0</td>\n",
       "      <td>The story of a woman who becomes the daughter-...</td>\n",
       "      <td>302.588</td>\n",
       "      <td>NaN</td>\n",
       "      <td>NaN</td>\n",
       "      <td>26.0</td>\n",
       "      <td>2022-11-14</td>\n",
       "      <td>KR</td>\n",
       "      <td>342</td>\n",
       "      <td>77994</td>\n",
       "    </tr>\n",
       "  </tbody>\n",
       "</table>\n",
       "<p>5 rows × 22 columns</p>\n",
       "</div>"
      ],
      "text/plain": [
       "   tmdb_id                    name original_name  \\\n",
       "0   208249         Game of Witches        마녀의 게임   \n",
       "1    99966      All of Us Are Dead     지금 우리 학교는   \n",
       "2   112888             True Beauty          여신강림   \n",
       "3    93405              Squid Game        오징어 게임   \n",
       "4   211174  Vengeance of the Bride        태풍의 신부   \n",
       "\n",
       "                                            keywords airing_date  \\\n",
       "0                                                NaN  2022-10-11   \n",
       "1  high school, bullying, based on comic, horror,...  2022-01-28   \n",
       "2  high school, beauty, makeover, hidden identity...  2020-12-09   \n",
       "3  secret organization, challenge, survival, fict...  2021-09-17   \n",
       "4             revenge, daughter–in–law, enemy, woman  2022-10-10   \n",
       "\n",
       "                                      poster_img_url  \\\n",
       "0  https://image.tmdb.org/t/p/w500/9bTjPzX48VZGal...   \n",
       "1  https://image.tmdb.org/t/p/w500/6zUUtzj7aJzOdo...   \n",
       "2  https://image.tmdb.org/t/p/w500/sld43SJArZqlnA...   \n",
       "3  https://image.tmdb.org/t/p/w500/dDlEmu3EZ0Pgg9...   \n",
       "4  https://image.tmdb.org/t/p/w500/aHUyK2XA76mn9G...   \n",
       "\n",
       "                                  background_img_url directors_ids  \\\n",
       "0  https://image.tmdb.org/t/p/original/akjmJsCDpv...           NaN   \n",
       "1  https://image.tmdb.org/t/p/original/8Xs20y8gFR...       1182291   \n",
       "2  https://image.tmdb.org/t/p/original/31N42Lhrxl...           NaN   \n",
       "3  https://image.tmdb.org/t/p/original/4y6kEEfdrN...       1294471   \n",
       "4  https://image.tmdb.org/t/p/original/5gGfJIMB2y...           NaN   \n",
       "\n",
       "                                            cast_ids        genres_ids  ...  \\\n",
       "0                           582555, 2117665, 1066220      18, 80, 9648  ...   \n",
       "1  2125084, 1493898, 2185341, 2074587, 2402531, 1...  10759, 18, 10765  ...   \n",
       "2  1252016, 1604826, 2333298, 2175208, 1108037, 1...            35, 18  ...   \n",
       "3  73249, 1593672, 3194501, 1557181, 1048070, 191...   10759, 9648, 18  ...   \n",
       "4  1568455, 1368061, 1940498, 1233712, 139509, 17...   18, 9648, 10751  ...   \n",
       "\n",
       "   episode_run_time                                           synopsis  \\\n",
       "0              30.0  Yu Kyung is a successful woman who is proficie...   \n",
       "1              65.0  A high school becomes ground zero for a zombie...   \n",
       "2              75.0  Lim Ju-kyung is a high school student. Since s...   \n",
       "3              54.0  Hundreds of cash-strapped players accept a str...   \n",
       "4              40.0  The story of a woman who becomes the daughter-...   \n",
       "\n",
       "   popularity average_rating  rating_count  next_episode_to_air  \\\n",
       "0     414.151            NaN           NaN                 25.0   \n",
       "1     398.111          8.421        2750.0                  NaN   \n",
       "2     396.708          8.524        1156.0                  NaN   \n",
       "3     323.945          7.835       11835.0                  NaN   \n",
       "4     302.588            NaN           NaN                 26.0   \n",
       "\n",
       "   next_episode_air_date  origin_country networks_ids production_companies_ids  \n",
       "0             2022-11-14              KR           97            26511, 136349  \n",
       "1                    NaN              KR          213     56797, 86981, 113553  \n",
       "2                    NaN              KR          NaN     36225, 86418, 119174  \n",
       "3                    NaN              KR          213                   112647  \n",
       "4             2022-11-14              KR          342                    77994  \n",
       "\n",
       "[5 rows x 22 columns]"
      ]
     },
     "execution_count": 226,
     "metadata": {},
     "output_type": "execute_result"
    }
   ],
   "source": [
    "df_series.head()"
   ]
  },
  {
   "cell_type": "code",
   "execution_count": 227,
   "id": "7252143a-8019-48ea-8200-40512403fa36",
   "metadata": {},
   "outputs": [
    {
     "name": "stdout",
     "output_type": "stream",
     "text": [
      "<class 'pandas.core.frame.DataFrame'>\n",
      "RangeIndex: 1514 entries, 0 to 1513\n",
      "Data columns (total 22 columns):\n",
      " #   Column                    Non-Null Count  Dtype  \n",
      "---  ------                    --------------  -----  \n",
      " 0   tmdb_id                   1514 non-null   int64  \n",
      " 1   name                      1514 non-null   object \n",
      " 2   original_name             1514 non-null   object \n",
      " 3   keywords                  972 non-null    object \n",
      " 4   airing_date               1450 non-null   object \n",
      " 5   poster_img_url            1420 non-null   object \n",
      " 6   background_img_url        1182 non-null   object \n",
      " 7   directors_ids             164 non-null    object \n",
      " 8   cast_ids                  1474 non-null   object \n",
      " 9   genres_ids                1514 non-null   object \n",
      " 10  number_of_seasons         1510 non-null   float64\n",
      " 11  number_of_episodes        1501 non-null   float64\n",
      " 12  episode_run_time          1294 non-null   float64\n",
      " 13  synopsis                  1436 non-null   object \n",
      " 14  popularity                1514 non-null   float64\n",
      " 15  average_rating            1127 non-null   float64\n",
      " 16  rating_count              1127 non-null   float64\n",
      " 17  next_episode_to_air       36 non-null     float64\n",
      " 18  next_episode_air_date     36 non-null     object \n",
      " 19  origin_country            1468 non-null   object \n",
      " 20  networks_ids              1309 non-null   object \n",
      " 21  production_companies_ids  906 non-null    object \n",
      "dtypes: float64(7), int64(1), object(14)\n",
      "memory usage: 260.3+ KB\n"
     ]
    }
   ],
   "source": [
    "df_series.info()"
   ]
  },
  {
   "cell_type": "code",
   "execution_count": 228,
   "id": "d295488e-558f-455e-be31-f9dc9110b301",
   "metadata": {},
   "outputs": [
    {
     "data": {
      "text/plain": [
       "(1514, 22)"
      ]
     },
     "execution_count": 228,
     "metadata": {},
     "output_type": "execute_result"
    }
   ],
   "source": [
    "df_series.shape"
   ]
  },
  {
   "cell_type": "code",
   "execution_count": 229,
   "id": "a2d44687-961b-465a-bee2-da7bd5739116",
   "metadata": {},
   "outputs": [
    {
     "data": {
      "text/plain": [
       "Index(['tmdb_id', 'name', 'original_name', 'keywords', 'airing_date',\n",
       "       'poster_img_url', 'background_img_url', 'directors_ids', 'cast_ids',\n",
       "       'genres_ids', 'number_of_seasons', 'number_of_episodes',\n",
       "       'episode_run_time', 'synopsis', 'popularity', 'average_rating',\n",
       "       'rating_count', 'next_episode_to_air', 'next_episode_air_date',\n",
       "       'origin_country', 'networks_ids', 'production_companies_ids'],\n",
       "      dtype='object')"
      ]
     },
     "execution_count": 229,
     "metadata": {},
     "output_type": "execute_result"
    }
   ],
   "source": [
    "df_series.columns"
   ]
  },
  {
   "cell_type": "code",
   "execution_count": 230,
   "id": "4e2ffbdb-eb4f-407b-bd2c-9dc52f555976",
   "metadata": {},
   "outputs": [],
   "source": [
    "columns = ['tmdb_id', 'name', 'original_name', 'keywords', 'poster_img_url', 'directors_ids', 'cast_ids',\n",
    "       'genres_ids', 'number_of_episodes', 'episode_run_time', 'synopsis', 'popularity', 'average_rating', 'rating_count', 'networks_ids']"
   ]
  },
  {
   "cell_type": "code",
   "execution_count": 231,
   "id": "66cc611d-d270-48bf-9f62-4698e24d6d51",
   "metadata": {},
   "outputs": [],
   "source": [
    "df = df_series[columns]"
   ]
  },
  {
   "cell_type": "code",
   "execution_count": 232,
   "id": "1aa398cb-e7a0-4908-89ea-d9cf1591ed86",
   "metadata": {},
   "outputs": [
    {
     "data": {
      "text/html": [
       "<div>\n",
       "<style scoped>\n",
       "    .dataframe tbody tr th:only-of-type {\n",
       "        vertical-align: middle;\n",
       "    }\n",
       "\n",
       "    .dataframe tbody tr th {\n",
       "        vertical-align: top;\n",
       "    }\n",
       "\n",
       "    .dataframe thead th {\n",
       "        text-align: right;\n",
       "    }\n",
       "</style>\n",
       "<table border=\"1\" class=\"dataframe\">\n",
       "  <thead>\n",
       "    <tr style=\"text-align: right;\">\n",
       "      <th></th>\n",
       "      <th>tmdb_id</th>\n",
       "      <th>name</th>\n",
       "      <th>original_name</th>\n",
       "      <th>keywords</th>\n",
       "      <th>poster_img_url</th>\n",
       "      <th>directors_ids</th>\n",
       "      <th>cast_ids</th>\n",
       "      <th>genres_ids</th>\n",
       "      <th>number_of_episodes</th>\n",
       "      <th>episode_run_time</th>\n",
       "      <th>synopsis</th>\n",
       "      <th>popularity</th>\n",
       "      <th>average_rating</th>\n",
       "      <th>rating_count</th>\n",
       "      <th>networks_ids</th>\n",
       "    </tr>\n",
       "  </thead>\n",
       "  <tbody>\n",
       "    <tr>\n",
       "      <th>0</th>\n",
       "      <td>208249</td>\n",
       "      <td>Game of Witches</td>\n",
       "      <td>마녀의 게임</td>\n",
       "      <td>NaN</td>\n",
       "      <td>https://image.tmdb.org/t/p/w500/9bTjPzX48VZGal...</td>\n",
       "      <td>NaN</td>\n",
       "      <td>582555, 2117665, 1066220</td>\n",
       "      <td>18, 80, 9648</td>\n",
       "      <td>29.0</td>\n",
       "      <td>30.0</td>\n",
       "      <td>Yu Kyung is a successful woman who is proficie...</td>\n",
       "      <td>414.151</td>\n",
       "      <td>NaN</td>\n",
       "      <td>NaN</td>\n",
       "      <td>97</td>\n",
       "    </tr>\n",
       "    <tr>\n",
       "      <th>1</th>\n",
       "      <td>99966</td>\n",
       "      <td>All of Us Are Dead</td>\n",
       "      <td>지금 우리 학교는</td>\n",
       "      <td>high school, bullying, based on comic, horror,...</td>\n",
       "      <td>https://image.tmdb.org/t/p/w500/6zUUtzj7aJzOdo...</td>\n",
       "      <td>1182291</td>\n",
       "      <td>2125084, 1493898, 2185341, 2074587, 2402531, 1...</td>\n",
       "      <td>10759, 18, 10765</td>\n",
       "      <td>12.0</td>\n",
       "      <td>65.0</td>\n",
       "      <td>A high school becomes ground zero for a zombie...</td>\n",
       "      <td>398.111</td>\n",
       "      <td>8.421</td>\n",
       "      <td>2750.0</td>\n",
       "      <td>213</td>\n",
       "    </tr>\n",
       "    <tr>\n",
       "      <th>2</th>\n",
       "      <td>112888</td>\n",
       "      <td>True Beauty</td>\n",
       "      <td>여신강림</td>\n",
       "      <td>high school, beauty, makeover, hidden identity...</td>\n",
       "      <td>https://image.tmdb.org/t/p/w500/sld43SJArZqlnA...</td>\n",
       "      <td>NaN</td>\n",
       "      <td>1252016, 1604826, 2333298, 2175208, 1108037, 1...</td>\n",
       "      <td>35, 18</td>\n",
       "      <td>16.0</td>\n",
       "      <td>75.0</td>\n",
       "      <td>Lim Ju-kyung is a high school student. Since s...</td>\n",
       "      <td>396.708</td>\n",
       "      <td>8.524</td>\n",
       "      <td>1156.0</td>\n",
       "      <td>NaN</td>\n",
       "    </tr>\n",
       "  </tbody>\n",
       "</table>\n",
       "</div>"
      ],
      "text/plain": [
       "   tmdb_id                name original_name  \\\n",
       "0   208249     Game of Witches        마녀의 게임   \n",
       "1    99966  All of Us Are Dead     지금 우리 학교는   \n",
       "2   112888         True Beauty          여신강림   \n",
       "\n",
       "                                            keywords  \\\n",
       "0                                                NaN   \n",
       "1  high school, bullying, based on comic, horror,...   \n",
       "2  high school, beauty, makeover, hidden identity...   \n",
       "\n",
       "                                      poster_img_url directors_ids  \\\n",
       "0  https://image.tmdb.org/t/p/w500/9bTjPzX48VZGal...           NaN   \n",
       "1  https://image.tmdb.org/t/p/w500/6zUUtzj7aJzOdo...       1182291   \n",
       "2  https://image.tmdb.org/t/p/w500/sld43SJArZqlnA...           NaN   \n",
       "\n",
       "                                            cast_ids        genres_ids  \\\n",
       "0                           582555, 2117665, 1066220      18, 80, 9648   \n",
       "1  2125084, 1493898, 2185341, 2074587, 2402531, 1...  10759, 18, 10765   \n",
       "2  1252016, 1604826, 2333298, 2175208, 1108037, 1...            35, 18   \n",
       "\n",
       "   number_of_episodes  episode_run_time  \\\n",
       "0                29.0              30.0   \n",
       "1                12.0              65.0   \n",
       "2                16.0              75.0   \n",
       "\n",
       "                                            synopsis  popularity  \\\n",
       "0  Yu Kyung is a successful woman who is proficie...     414.151   \n",
       "1  A high school becomes ground zero for a zombie...     398.111   \n",
       "2  Lim Ju-kyung is a high school student. Since s...     396.708   \n",
       "\n",
       "   average_rating  rating_count networks_ids  \n",
       "0             NaN           NaN           97  \n",
       "1           8.421        2750.0          213  \n",
       "2           8.524        1156.0          NaN  "
      ]
     },
     "execution_count": 232,
     "metadata": {},
     "output_type": "execute_result"
    }
   ],
   "source": [
    "df.head(3)"
   ]
  },
  {
   "cell_type": "code",
   "execution_count": 233,
   "id": "0acc1934-6603-4f99-a4b4-38068e7d4699",
   "metadata": {},
   "outputs": [
    {
     "name": "stdout",
     "output_type": "stream",
     "text": [
      "<class 'pandas.core.frame.DataFrame'>\n",
      "RangeIndex: 1514 entries, 0 to 1513\n",
      "Data columns (total 15 columns):\n",
      " #   Column              Non-Null Count  Dtype  \n",
      "---  ------              --------------  -----  \n",
      " 0   tmdb_id             1514 non-null   int64  \n",
      " 1   name                1514 non-null   object \n",
      " 2   original_name       1514 non-null   object \n",
      " 3   keywords            972 non-null    object \n",
      " 4   poster_img_url      1420 non-null   object \n",
      " 5   directors_ids       164 non-null    object \n",
      " 6   cast_ids            1474 non-null   object \n",
      " 7   genres_ids          1514 non-null   object \n",
      " 8   number_of_episodes  1501 non-null   float64\n",
      " 9   episode_run_time    1294 non-null   float64\n",
      " 10  synopsis            1436 non-null   object \n",
      " 11  popularity          1514 non-null   float64\n",
      " 12  average_rating      1127 non-null   float64\n",
      " 13  rating_count        1127 non-null   float64\n",
      " 14  networks_ids        1309 non-null   object \n",
      "dtypes: float64(5), int64(1), object(9)\n",
      "memory usage: 177.6+ KB\n"
     ]
    }
   ],
   "source": [
    "df.info()"
   ]
  },
  {
   "cell_type": "code",
   "execution_count": 234,
   "id": "3914d4ea",
   "metadata": {},
   "outputs": [
    {
     "data": {
      "text/plain": [
       "7.509714285714286"
      ]
     },
     "execution_count": 234,
     "metadata": {},
     "output_type": "execute_result"
    }
   ],
   "source": [
    "# 평점 평균\n",
    "C = df['average_rating'].mean()\n",
    "C"
   ]
  },
  {
   "cell_type": "code",
   "execution_count": 235,
   "id": "997a4bd1",
   "metadata": {},
   "outputs": [
    {
     "data": {
      "text/plain": [
       "61.39999999999998"
      ]
     },
     "execution_count": 235,
     "metadata": {},
     "output_type": "execute_result"
    }
   ],
   "source": [
    "# 평점이 많이 달린 상위 90%의 개수\n",
    "m = df['rating_count'].quantile(0.9)\n",
    "m"
   ]
  },
  {
   "cell_type": "code",
   "execution_count": 236,
   "id": "0e31d588",
   "metadata": {},
   "outputs": [
    {
     "data": {
      "text/html": [
       "<div>\n",
       "<style scoped>\n",
       "    .dataframe tbody tr th:only-of-type {\n",
       "        vertical-align: middle;\n",
       "    }\n",
       "\n",
       "    .dataframe tbody tr th {\n",
       "        vertical-align: top;\n",
       "    }\n",
       "\n",
       "    .dataframe thead th {\n",
       "        text-align: right;\n",
       "    }\n",
       "</style>\n",
       "<table border=\"1\" class=\"dataframe\">\n",
       "  <thead>\n",
       "    <tr style=\"text-align: right;\">\n",
       "      <th></th>\n",
       "      <th>tmdb_id</th>\n",
       "      <th>name</th>\n",
       "      <th>original_name</th>\n",
       "      <th>keywords</th>\n",
       "      <th>poster_img_url</th>\n",
       "      <th>directors_ids</th>\n",
       "      <th>cast_ids</th>\n",
       "      <th>genres_ids</th>\n",
       "      <th>number_of_episodes</th>\n",
       "      <th>episode_run_time</th>\n",
       "      <th>synopsis</th>\n",
       "      <th>popularity</th>\n",
       "      <th>average_rating</th>\n",
       "      <th>rating_count</th>\n",
       "      <th>networks_ids</th>\n",
       "    </tr>\n",
       "  </thead>\n",
       "  <tbody>\n",
       "    <tr>\n",
       "      <th>1</th>\n",
       "      <td>99966</td>\n",
       "      <td>All of Us Are Dead</td>\n",
       "      <td>지금 우리 학교는</td>\n",
       "      <td>high school, bullying, based on comic, horror,...</td>\n",
       "      <td>https://image.tmdb.org/t/p/w500/6zUUtzj7aJzOdo...</td>\n",
       "      <td>1182291</td>\n",
       "      <td>2125084, 1493898, 2185341, 2074587, 2402531, 1...</td>\n",
       "      <td>10759, 18, 10765</td>\n",
       "      <td>12.0</td>\n",
       "      <td>65.0</td>\n",
       "      <td>A high school becomes ground zero for a zombie...</td>\n",
       "      <td>398.111</td>\n",
       "      <td>8.421</td>\n",
       "      <td>2750.0</td>\n",
       "      <td>213</td>\n",
       "    </tr>\n",
       "    <tr>\n",
       "      <th>2</th>\n",
       "      <td>112888</td>\n",
       "      <td>True Beauty</td>\n",
       "      <td>여신강림</td>\n",
       "      <td>high school, beauty, makeover, hidden identity...</td>\n",
       "      <td>https://image.tmdb.org/t/p/w500/sld43SJArZqlnA...</td>\n",
       "      <td>NaN</td>\n",
       "      <td>1252016, 1604826, 2333298, 2175208, 1108037, 1...</td>\n",
       "      <td>35, 18</td>\n",
       "      <td>16.0</td>\n",
       "      <td>75.0</td>\n",
       "      <td>Lim Ju-kyung is a high school student. Since s...</td>\n",
       "      <td>396.708</td>\n",
       "      <td>8.524</td>\n",
       "      <td>1156.0</td>\n",
       "      <td>NaN</td>\n",
       "    </tr>\n",
       "    <tr>\n",
       "      <th>3</th>\n",
       "      <td>93405</td>\n",
       "      <td>Squid Game</td>\n",
       "      <td>오징어 게임</td>\n",
       "      <td>secret organization, challenge, survival, fict...</td>\n",
       "      <td>https://image.tmdb.org/t/p/w500/dDlEmu3EZ0Pgg9...</td>\n",
       "      <td>1294471</td>\n",
       "      <td>73249, 1593672, 3194501, 1557181, 1048070, 191...</td>\n",
       "      <td>10759, 9648, 18</td>\n",
       "      <td>9.0</td>\n",
       "      <td>54.0</td>\n",
       "      <td>Hundreds of cash-strapped players accept a str...</td>\n",
       "      <td>323.945</td>\n",
       "      <td>7.835</td>\n",
       "      <td>11835.0</td>\n",
       "      <td>213</td>\n",
       "    </tr>\n",
       "    <tr>\n",
       "      <th>6</th>\n",
       "      <td>112836</td>\n",
       "      <td>Money Heist: Korea - Joint Economic Area</td>\n",
       "      <td>종이의 집: 공동경제구역</td>\n",
       "      <td>robbery, bank, remake, money, bank robbery, ho...</td>\n",
       "      <td>https://image.tmdb.org/t/p/w500/fjAAxDPzllwnCM...</td>\n",
       "      <td>NaN</td>\n",
       "      <td>10112, 28662, 1593672, 1937533, 551682, 125760...</td>\n",
       "      <td>10759, 80, 18, 9648</td>\n",
       "      <td>12.0</td>\n",
       "      <td>NaN</td>\n",
       "      <td>Disguised under the shadows of a mask, a crew ...</td>\n",
       "      <td>202.731</td>\n",
       "      <td>7.886</td>\n",
       "      <td>398.0</td>\n",
       "      <td>213</td>\n",
       "    </tr>\n",
       "    <tr>\n",
       "      <th>7</th>\n",
       "      <td>67915</td>\n",
       "      <td>Goblin</td>\n",
       "      <td>쓸쓸하고 찬란하神-도깨비</td>\n",
       "      <td>romance, super power, past life, immortal</td>\n",
       "      <td>https://image.tmdb.org/t/p/w500/c2gon6zbqzL73D...</td>\n",
       "      <td>1724565</td>\n",
       "      <td>150903, 1067849, 1238592, 1254169, 1398345, 12...</td>\n",
       "      <td>18, 10765</td>\n",
       "      <td>16.0</td>\n",
       "      <td>77.0</td>\n",
       "      <td>In his quest for a bride to break his immortal...</td>\n",
       "      <td>160.914</td>\n",
       "      <td>8.711</td>\n",
       "      <td>2361.0</td>\n",
       "      <td>NaN</td>\n",
       "    </tr>\n",
       "    <tr>\n",
       "      <th>...</th>\n",
       "      <td>...</td>\n",
       "      <td>...</td>\n",
       "      <td>...</td>\n",
       "      <td>...</td>\n",
       "      <td>...</td>\n",
       "      <td>...</td>\n",
       "      <td>...</td>\n",
       "      <td>...</td>\n",
       "      <td>...</td>\n",
       "      <td>...</td>\n",
       "      <td>...</td>\n",
       "      <td>...</td>\n",
       "      <td>...</td>\n",
       "      <td>...</td>\n",
       "      <td>...</td>\n",
       "    </tr>\n",
       "    <tr>\n",
       "      <th>308</th>\n",
       "      <td>131026</td>\n",
       "      <td>Dali &amp; the Cocky Prince</td>\n",
       "      <td>달리와 감자탕</td>\n",
       "      <td>restaurant, romance, art, art gallery, bankrup...</td>\n",
       "      <td>https://image.tmdb.org/t/p/w500/r6X8JNFfgiq91M...</td>\n",
       "      <td>NaN</td>\n",
       "      <td>1983073, 1493885, 1564168, 2506031, 1875826, 1...</td>\n",
       "      <td>35, 18</td>\n",
       "      <td>16.0</td>\n",
       "      <td>63.0</td>\n",
       "      <td>An ignorant but strong-willed man and an upper...</td>\n",
       "      <td>11.853</td>\n",
       "      <td>7.663</td>\n",
       "      <td>80.0</td>\n",
       "      <td>342</td>\n",
       "    </tr>\n",
       "    <tr>\n",
       "      <th>347</th>\n",
       "      <td>83601</td>\n",
       "      <td>Top Management</td>\n",
       "      <td>탑 매니지먼트</td>\n",
       "      <td>based on novel or book, romance</td>\n",
       "      <td>https://image.tmdb.org/t/p/w500/yjZdSUu368HcVJ...</td>\n",
       "      <td>NaN</td>\n",
       "      <td>1882314, 1571598, 1604826, 2034742, 3668501, 1...</td>\n",
       "      <td>18</td>\n",
       "      <td>16.0</td>\n",
       "      <td>30.0</td>\n",
       "      <td>A former K-Pop idol trainee finds a new dream ...</td>\n",
       "      <td>11.255</td>\n",
       "      <td>8.042</td>\n",
       "      <td>72.0</td>\n",
       "      <td>1436</td>\n",
       "    </tr>\n",
       "    <tr>\n",
       "      <th>398</th>\n",
       "      <td>83755</td>\n",
       "      <td>Hymn of Death</td>\n",
       "      <td>사의찬미</td>\n",
       "      <td>infidelity, arranged marriage, forbidden love,...</td>\n",
       "      <td>https://image.tmdb.org/t/p/w500/xhi0dblvDPyNZb...</td>\n",
       "      <td>NaN</td>\n",
       "      <td>1095818, 1523579, 1690348, 2039484, 1676563, 2...</td>\n",
       "      <td>18</td>\n",
       "      <td>6.0</td>\n",
       "      <td>30.0</td>\n",
       "      <td>Based on a true story, the drama tells the tra...</td>\n",
       "      <td>9.279</td>\n",
       "      <td>8.400</td>\n",
       "      <td>80.0</td>\n",
       "      <td>156</td>\n",
       "    </tr>\n",
       "    <tr>\n",
       "      <th>463</th>\n",
       "      <td>3262</td>\n",
       "      <td>All About Eve</td>\n",
       "      <td>이브의 모든것</td>\n",
       "      <td>romance</td>\n",
       "      <td>https://image.tmdb.org/t/p/w500/n4w8f5pdTjlgEY...</td>\n",
       "      <td>NaN</td>\n",
       "      <td>83123, 16962, 148673, 1223133, 1233717, 125758...</td>\n",
       "      <td>18</td>\n",
       "      <td>20.0</td>\n",
       "      <td>50.0</td>\n",
       "      <td>This drama is about two girls, Jin Sun Mi and ...</td>\n",
       "      <td>8.467</td>\n",
       "      <td>8.667</td>\n",
       "      <td>75.0</td>\n",
       "      <td>97</td>\n",
       "    </tr>\n",
       "    <tr>\n",
       "      <th>664</th>\n",
       "      <td>138489</td>\n",
       "      <td>The Mysterious Class</td>\n",
       "      <td>남고괴담</td>\n",
       "      <td>NaN</td>\n",
       "      <td>https://image.tmdb.org/t/p/w500/jdOcvOnM3ePiXN...</td>\n",
       "      <td>NaN</td>\n",
       "      <td>3080472, 3080473, 3080462, 3080469, 3080464, 3...</td>\n",
       "      <td>9648, 18</td>\n",
       "      <td>8.0</td>\n",
       "      <td>20.0</td>\n",
       "      <td>In an all-boys school, a class of 12th grade s...</td>\n",
       "      <td>5.606</td>\n",
       "      <td>7.900</td>\n",
       "      <td>82.0</td>\n",
       "      <td>247</td>\n",
       "    </tr>\n",
       "  </tbody>\n",
       "</table>\n",
       "<p>113 rows × 15 columns</p>\n",
       "</div>"
      ],
      "text/plain": [
       "     tmdb_id                                      name  original_name  \\\n",
       "1      99966                        All of Us Are Dead      지금 우리 학교는   \n",
       "2     112888                               True Beauty           여신강림   \n",
       "3      93405                                Squid Game         오징어 게임   \n",
       "6     112836  Money Heist: Korea - Joint Economic Area  종이의 집: 공동경제구역   \n",
       "7      67915                                    Goblin  쓸쓸하고 찬란하神-도깨비   \n",
       "..       ...                                       ...            ...   \n",
       "308   131026                   Dali & the Cocky Prince        달리와 감자탕   \n",
       "347    83601                            Top Management        탑 매니지먼트   \n",
       "398    83755                             Hymn of Death           사의찬미   \n",
       "463     3262                             All About Eve        이브의 모든것   \n",
       "664   138489                      The Mysterious Class           남고괴담   \n",
       "\n",
       "                                              keywords  \\\n",
       "1    high school, bullying, based on comic, horror,...   \n",
       "2    high school, beauty, makeover, hidden identity...   \n",
       "3    secret organization, challenge, survival, fict...   \n",
       "6    robbery, bank, remake, money, bank robbery, ho...   \n",
       "7            romance, super power, past life, immortal   \n",
       "..                                                 ...   \n",
       "308  restaurant, romance, art, art gallery, bankrup...   \n",
       "347                    based on novel or book, romance   \n",
       "398  infidelity, arranged marriage, forbidden love,...   \n",
       "463                                            romance   \n",
       "664                                                NaN   \n",
       "\n",
       "                                        poster_img_url directors_ids  \\\n",
       "1    https://image.tmdb.org/t/p/w500/6zUUtzj7aJzOdo...       1182291   \n",
       "2    https://image.tmdb.org/t/p/w500/sld43SJArZqlnA...           NaN   \n",
       "3    https://image.tmdb.org/t/p/w500/dDlEmu3EZ0Pgg9...       1294471   \n",
       "6    https://image.tmdb.org/t/p/w500/fjAAxDPzllwnCM...           NaN   \n",
       "7    https://image.tmdb.org/t/p/w500/c2gon6zbqzL73D...       1724565   \n",
       "..                                                 ...           ...   \n",
       "308  https://image.tmdb.org/t/p/w500/r6X8JNFfgiq91M...           NaN   \n",
       "347  https://image.tmdb.org/t/p/w500/yjZdSUu368HcVJ...           NaN   \n",
       "398  https://image.tmdb.org/t/p/w500/xhi0dblvDPyNZb...           NaN   \n",
       "463  https://image.tmdb.org/t/p/w500/n4w8f5pdTjlgEY...           NaN   \n",
       "664  https://image.tmdb.org/t/p/w500/jdOcvOnM3ePiXN...           NaN   \n",
       "\n",
       "                                              cast_ids           genres_ids  \\\n",
       "1    2125084, 1493898, 2185341, 2074587, 2402531, 1...     10759, 18, 10765   \n",
       "2    1252016, 1604826, 2333298, 2175208, 1108037, 1...               35, 18   \n",
       "3    73249, 1593672, 3194501, 1557181, 1048070, 191...      10759, 9648, 18   \n",
       "6    10112, 28662, 1593672, 1937533, 551682, 125760...  10759, 80, 18, 9648   \n",
       "7    150903, 1067849, 1238592, 1254169, 1398345, 12...            18, 10765   \n",
       "..                                                 ...                  ...   \n",
       "308  1983073, 1493885, 1564168, 2506031, 1875826, 1...               35, 18   \n",
       "347  1882314, 1571598, 1604826, 2034742, 3668501, 1...                   18   \n",
       "398  1095818, 1523579, 1690348, 2039484, 1676563, 2...                   18   \n",
       "463  83123, 16962, 148673, 1223133, 1233717, 125758...                   18   \n",
       "664  3080472, 3080473, 3080462, 3080469, 3080464, 3...             9648, 18   \n",
       "\n",
       "     number_of_episodes  episode_run_time  \\\n",
       "1                  12.0              65.0   \n",
       "2                  16.0              75.0   \n",
       "3                   9.0              54.0   \n",
       "6                  12.0               NaN   \n",
       "7                  16.0              77.0   \n",
       "..                  ...               ...   \n",
       "308                16.0              63.0   \n",
       "347                16.0              30.0   \n",
       "398                 6.0              30.0   \n",
       "463                20.0              50.0   \n",
       "664                 8.0              20.0   \n",
       "\n",
       "                                              synopsis  popularity  \\\n",
       "1    A high school becomes ground zero for a zombie...     398.111   \n",
       "2    Lim Ju-kyung is a high school student. Since s...     396.708   \n",
       "3    Hundreds of cash-strapped players accept a str...     323.945   \n",
       "6    Disguised under the shadows of a mask, a crew ...     202.731   \n",
       "7    In his quest for a bride to break his immortal...     160.914   \n",
       "..                                                 ...         ...   \n",
       "308  An ignorant but strong-willed man and an upper...      11.853   \n",
       "347  A former K-Pop idol trainee finds a new dream ...      11.255   \n",
       "398  Based on a true story, the drama tells the tra...       9.279   \n",
       "463  This drama is about two girls, Jin Sun Mi and ...       8.467   \n",
       "664  In an all-boys school, a class of 12th grade s...       5.606   \n",
       "\n",
       "     average_rating  rating_count networks_ids  \n",
       "1             8.421        2750.0          213  \n",
       "2             8.524        1156.0          NaN  \n",
       "3             7.835       11835.0          213  \n",
       "6             7.886         398.0          213  \n",
       "7             8.711        2361.0          NaN  \n",
       "..              ...           ...          ...  \n",
       "308           7.663          80.0          342  \n",
       "347           8.042          72.0         1436  \n",
       "398           8.400          80.0          156  \n",
       "463           8.667          75.0           97  \n",
       "664           7.900          82.0          247  \n",
       "\n",
       "[113 rows x 15 columns]"
      ]
     },
     "execution_count": 236,
     "metadata": {},
     "output_type": "execute_result"
    }
   ],
   "source": [
    "# 추천을 많이한 상위 10프로 드라마 개수\n",
    "q_drama = df.copy().loc[df['rating_count'] >= m]\n",
    "q_drama"
   ]
  },
  {
   "cell_type": "code",
   "execution_count": 237,
   "id": "4252a5ba",
   "metadata": {},
   "outputs": [],
   "source": [
    "# 가중 평가 점수 : 평가수 대비 평가 점수\n",
    "def weighted_rating(x, m=m, C=C):\n",
    "    v = x['rating_count']\n",
    "    R = x['average_rating']\n",
    "    return (v / (v + m) * R) + (m / (m + v) * C)"
   ]
  },
  {
   "cell_type": "code",
   "execution_count": 238,
   "id": "aa5c5732",
   "metadata": {},
   "outputs": [
    {
     "data": {
      "text/html": [
       "<div>\n",
       "<style scoped>\n",
       "    .dataframe tbody tr th:only-of-type {\n",
       "        vertical-align: middle;\n",
       "    }\n",
       "\n",
       "    .dataframe tbody tr th {\n",
       "        vertical-align: top;\n",
       "    }\n",
       "\n",
       "    .dataframe thead th {\n",
       "        text-align: right;\n",
       "    }\n",
       "</style>\n",
       "<table border=\"1\" class=\"dataframe\">\n",
       "  <thead>\n",
       "    <tr style=\"text-align: right;\">\n",
       "      <th></th>\n",
       "      <th>tmdb_id</th>\n",
       "      <th>name</th>\n",
       "      <th>original_name</th>\n",
       "      <th>keywords</th>\n",
       "      <th>poster_img_url</th>\n",
       "      <th>directors_ids</th>\n",
       "      <th>cast_ids</th>\n",
       "      <th>genres_ids</th>\n",
       "      <th>number_of_episodes</th>\n",
       "      <th>episode_run_time</th>\n",
       "      <th>synopsis</th>\n",
       "      <th>popularity</th>\n",
       "      <th>average_rating</th>\n",
       "      <th>rating_count</th>\n",
       "      <th>networks_ids</th>\n",
       "      <th>score</th>\n",
       "    </tr>\n",
       "  </thead>\n",
       "  <tbody>\n",
       "    <tr>\n",
       "      <th>1</th>\n",
       "      <td>99966</td>\n",
       "      <td>All of Us Are Dead</td>\n",
       "      <td>지금 우리 학교는</td>\n",
       "      <td>high school, bullying, based on comic, horror,...</td>\n",
       "      <td>https://image.tmdb.org/t/p/w500/6zUUtzj7aJzOdo...</td>\n",
       "      <td>1182291</td>\n",
       "      <td>2125084, 1493898, 2185341, 2074587, 2402531, 1...</td>\n",
       "      <td>10759, 18, 10765</td>\n",
       "      <td>12.0</td>\n",
       "      <td>65.0</td>\n",
       "      <td>A high school becomes ground zero for a zombie...</td>\n",
       "      <td>398.111</td>\n",
       "      <td>8.421</td>\n",
       "      <td>2750.0</td>\n",
       "      <td>213</td>\n",
       "      <td>8.401098</td>\n",
       "    </tr>\n",
       "    <tr>\n",
       "      <th>2</th>\n",
       "      <td>112888</td>\n",
       "      <td>True Beauty</td>\n",
       "      <td>여신강림</td>\n",
       "      <td>high school, beauty, makeover, hidden identity...</td>\n",
       "      <td>https://image.tmdb.org/t/p/w500/sld43SJArZqlnA...</td>\n",
       "      <td>NaN</td>\n",
       "      <td>1252016, 1604826, 2333298, 2175208, 1108037, 1...</td>\n",
       "      <td>35, 18</td>\n",
       "      <td>16.0</td>\n",
       "      <td>75.0</td>\n",
       "      <td>Lim Ju-kyung is a high school student. Since s...</td>\n",
       "      <td>396.708</td>\n",
       "      <td>8.524</td>\n",
       "      <td>1156.0</td>\n",
       "      <td>NaN</td>\n",
       "      <td>8.472844</td>\n",
       "    </tr>\n",
       "    <tr>\n",
       "      <th>3</th>\n",
       "      <td>93405</td>\n",
       "      <td>Squid Game</td>\n",
       "      <td>오징어 게임</td>\n",
       "      <td>secret organization, challenge, survival, fict...</td>\n",
       "      <td>https://image.tmdb.org/t/p/w500/dDlEmu3EZ0Pgg9...</td>\n",
       "      <td>1294471</td>\n",
       "      <td>73249, 1593672, 3194501, 1557181, 1048070, 191...</td>\n",
       "      <td>10759, 9648, 18</td>\n",
       "      <td>9.0</td>\n",
       "      <td>54.0</td>\n",
       "      <td>Hundreds of cash-strapped players accept a str...</td>\n",
       "      <td>323.945</td>\n",
       "      <td>7.835</td>\n",
       "      <td>11835.0</td>\n",
       "      <td>213</td>\n",
       "      <td>7.833321</td>\n",
       "    </tr>\n",
       "  </tbody>\n",
       "</table>\n",
       "</div>"
      ],
      "text/plain": [
       "   tmdb_id                name original_name  \\\n",
       "1    99966  All of Us Are Dead     지금 우리 학교는   \n",
       "2   112888         True Beauty          여신강림   \n",
       "3    93405          Squid Game        오징어 게임   \n",
       "\n",
       "                                            keywords  \\\n",
       "1  high school, bullying, based on comic, horror,...   \n",
       "2  high school, beauty, makeover, hidden identity...   \n",
       "3  secret organization, challenge, survival, fict...   \n",
       "\n",
       "                                      poster_img_url directors_ids  \\\n",
       "1  https://image.tmdb.org/t/p/w500/6zUUtzj7aJzOdo...       1182291   \n",
       "2  https://image.tmdb.org/t/p/w500/sld43SJArZqlnA...           NaN   \n",
       "3  https://image.tmdb.org/t/p/w500/dDlEmu3EZ0Pgg9...       1294471   \n",
       "\n",
       "                                            cast_ids        genres_ids  \\\n",
       "1  2125084, 1493898, 2185341, 2074587, 2402531, 1...  10759, 18, 10765   \n",
       "2  1252016, 1604826, 2333298, 2175208, 1108037, 1...            35, 18   \n",
       "3  73249, 1593672, 3194501, 1557181, 1048070, 191...   10759, 9648, 18   \n",
       "\n",
       "   number_of_episodes  episode_run_time  \\\n",
       "1                12.0              65.0   \n",
       "2                16.0              75.0   \n",
       "3                 9.0              54.0   \n",
       "\n",
       "                                            synopsis  popularity  \\\n",
       "1  A high school becomes ground zero for a zombie...     398.111   \n",
       "2  Lim Ju-kyung is a high school student. Since s...     396.708   \n",
       "3  Hundreds of cash-strapped players accept a str...     323.945   \n",
       "\n",
       "   average_rating  rating_count networks_ids     score  \n",
       "1           8.421        2750.0          213  8.401098  \n",
       "2           8.524        1156.0          NaN  8.472844  \n",
       "3           7.835       11835.0          213  7.833321  "
      ]
     },
     "execution_count": 238,
     "metadata": {},
     "output_type": "execute_result"
    }
   ],
   "source": [
    "q_drama['score'] = q_drama.apply(weighted_rating, axis=1)\n",
    "q_drama.head(3)"
   ]
  },
  {
   "cell_type": "code",
   "execution_count": null,
   "id": "665a0960-bc51-4724-8b9f-fbfee5c362a4",
   "metadata": {},
   "outputs": [],
   "source": []
  },
  {
   "cell_type": "code",
   "execution_count": 239,
   "id": "6859b30a",
   "metadata": {},
   "outputs": [
    {
     "data": {
      "text/plain": [
       "136    8.716\n",
       "7      8.711\n",
       "33     8.710\n",
       "75     8.708\n",
       "39     8.700\n",
       "       ...  \n",
       "296    7.500\n",
       "160    7.311\n",
       "221    7.300\n",
       "257    7.227\n",
       "71     7.200\n",
       "Name: average_rating, Length: 113, dtype: float64"
      ]
     },
     "execution_count": 239,
     "metadata": {},
     "output_type": "execute_result"
    }
   ],
   "source": [
    "q_drama['average_rating'].sort_values(ascending=False)"
   ]
  },
  {
   "cell_type": "code",
   "execution_count": 240,
   "id": "b2074bea",
   "metadata": {},
   "outputs": [
    {
     "data": {
      "text/html": [
       "<div>\n",
       "<style scoped>\n",
       "    .dataframe tbody tr th:only-of-type {\n",
       "        vertical-align: middle;\n",
       "    }\n",
       "\n",
       "    .dataframe tbody tr th {\n",
       "        vertical-align: top;\n",
       "    }\n",
       "\n",
       "    .dataframe thead th {\n",
       "        text-align: right;\n",
       "    }\n",
       "</style>\n",
       "<table border=\"1\" class=\"dataframe\">\n",
       "  <thead>\n",
       "    <tr style=\"text-align: right;\">\n",
       "      <th></th>\n",
       "      <th>name</th>\n",
       "      <th>rating_count</th>\n",
       "      <th>average_rating</th>\n",
       "      <th>score</th>\n",
       "    </tr>\n",
       "  </thead>\n",
       "  <tbody>\n",
       "    <tr>\n",
       "      <th>7</th>\n",
       "      <td>Goblin</td>\n",
       "      <td>2361.0</td>\n",
       "      <td>8.711</td>\n",
       "      <td>8.680551</td>\n",
       "    </tr>\n",
       "    <tr>\n",
       "      <th>33</th>\n",
       "      <td>Weightlifting Fairy Kim Bok-Joo</td>\n",
       "      <td>648.0</td>\n",
       "      <td>8.710</td>\n",
       "      <td>8.606113</td>\n",
       "    </tr>\n",
       "    <tr>\n",
       "      <th>36</th>\n",
       "      <td>Vincenzo</td>\n",
       "      <td>630.0</td>\n",
       "      <td>8.688</td>\n",
       "      <td>8.583362</td>\n",
       "    </tr>\n",
       "    <tr>\n",
       "      <th>32</th>\n",
       "      <td>It's Okay to Not Be Okay</td>\n",
       "      <td>1062.0</td>\n",
       "      <td>8.613</td>\n",
       "      <td>8.552699</td>\n",
       "    </tr>\n",
       "    <tr>\n",
       "      <th>75</th>\n",
       "      <td>Scarlet Heart: Ryeo</td>\n",
       "      <td>406.0</td>\n",
       "      <td>8.708</td>\n",
       "      <td>8.550587</td>\n",
       "    </tr>\n",
       "    <tr>\n",
       "      <th>78</th>\n",
       "      <td>Hotel Del Luna</td>\n",
       "      <td>423.0</td>\n",
       "      <td>8.690</td>\n",
       "      <td>8.540393</td>\n",
       "    </tr>\n",
       "    <tr>\n",
       "      <th>26</th>\n",
       "      <td>Crash Landing on You</td>\n",
       "      <td>383.0</td>\n",
       "      <td>8.700</td>\n",
       "      <td>8.535546</td>\n",
       "    </tr>\n",
       "    <tr>\n",
       "      <th>104</th>\n",
       "      <td>My Holo Love</td>\n",
       "      <td>747.0</td>\n",
       "      <td>8.571</td>\n",
       "      <td>8.490393</td>\n",
       "    </tr>\n",
       "    <tr>\n",
       "      <th>2</th>\n",
       "      <td>True Beauty</td>\n",
       "      <td>1156.0</td>\n",
       "      <td>8.524</td>\n",
       "      <td>8.472844</td>\n",
       "    </tr>\n",
       "    <tr>\n",
       "      <th>93</th>\n",
       "      <td>Mr. Queen</td>\n",
       "      <td>263.0</td>\n",
       "      <td>8.673</td>\n",
       "      <td>8.452822</td>\n",
       "    </tr>\n",
       "  </tbody>\n",
       "</table>\n",
       "</div>"
      ],
      "text/plain": [
       "                                name  rating_count  average_rating     score\n",
       "7                             Goblin        2361.0           8.711  8.680551\n",
       "33   Weightlifting Fairy Kim Bok-Joo         648.0           8.710  8.606113\n",
       "36                          Vincenzo         630.0           8.688  8.583362\n",
       "32          It's Okay to Not Be Okay        1062.0           8.613  8.552699\n",
       "75               Scarlet Heart: Ryeo         406.0           8.708  8.550587\n",
       "78                    Hotel Del Luna         423.0           8.690  8.540393\n",
       "26              Crash Landing on You         383.0           8.700  8.535546\n",
       "104                     My Holo Love         747.0           8.571  8.490393\n",
       "2                        True Beauty        1156.0           8.524  8.472844\n",
       "93                         Mr. Queen         263.0           8.673  8.452822"
      ]
     },
     "execution_count": 240,
     "metadata": {},
     "output_type": "execute_result"
    }
   ],
   "source": [
    "q_drama = q_drama.sort_values('score', ascending=False)\n",
    "q_drama[['name', 'rating_count', 'average_rating', 'score']].head(10)"
   ]
  },
  {
   "cell_type": "code",
   "execution_count": 241,
   "id": "9d403114",
   "metadata": {},
   "outputs": [
    {
     "data": {
      "image/png": "iVBORw0KGgoAAAANSUhEUgAABN4AAAGHCAYAAABvSJ++AAAAOXRFWHRTb2Z0d2FyZQBNYXRwbG90bGliIHZlcnNpb24zLjguNCwgaHR0cHM6Ly9tYXRwbG90bGliLm9yZy8fJSN1AAAACXBIWXMAAA9hAAAPYQGoP6dpAACBtElEQVR4nOzdeXxN1/7/8fchMkdEDAlCaCSCGENrTGJoVE2lhhpTQ6vmlhquKq6pqtRUrTFBtbQ1XFU1S8xqCkoMVUSJak0hCEnO7w8/++s0QQxHEn09H4/zuDlrr73WZ++V3d58utZeJrPZbBYAAAAAAACAZypbRgcAAAAAAAAAvIhIvAEAAAAAAABWQOINAAAAAAAAsAISbwAAAAAAAIAVkHgDAAAAAAAArIDEGwAAAAAAAGAFJN4AAAAAAAAAKyDxBgAAAAAAAFgBiTcAAAAAAADACki8AQAAAJIiIiJkMpmMj42NjQoVKqS3335bZ8+ezejwJElhYWHy9vZ+Ln0NGzbM4n44OjqqUKFCCg0N1ZQpU3Tt2rXnEgcAAFmZTUYHAAAAAGQm4eHhKlGihG7evKlNmzZpzJgxioqK0sGDB+Xk5JTR4T13q1atkqurq27fvq1z585p/fr16t+/v8aNG6cff/xRZcuWzegQAQDItEi8AQAAAPcpXbq0AgMDJUkhISFKTk7WiBEjtGzZMrVp0yaDo3u2bty4IUdHx4fWqVixovLkyWN8b9WqlXr06KGgoCA1atRIx44dk52d3VP1AQDAi4qlpgAAAMBDvPLKK5Kk06dPS5Ju3bqlQYMGqWjRorK1tVXBggXVvXt3XblyxeI8b29vNWjQQEuXLlWZMmVkb2+vYsWKafLkyRb17i1xPXXqlEV5ZGSkTCaTIiMjHxrfF198oZo1aypfvnxycnJSQECAPv30U925c8eiXnBwsEqXLq1NmzapatWqcnR0VMeOHR//hkgqW7asBg8erNjYWC1atChdfSxatEivvvqqPD095eDgIH9/fw0cOFAJCQkWbYeFhcnZ2VlHjhxRaGionJyc5OnpqU8++USStGPHDlWvXl1OTk7y9fXV3LlzLc7/66+/1K1bN5UsWVLOzs7Kly+fatWqpc2bNz/RtQIA8DSY8QYAAAA8xG+//SZJyps3r8xms5o0aaL169dr0KBBqlGjhg4cOKChQ4dq+/bt2r59u8Xsr+joaPXp00fDhg2Th4eHFixYoN69e+v27dvq16/fM4nvxIkTat26tZEI3L9/v0aNGqUjR45ozpw5FnXj4uLUtm1b9e/fX6NHj1a2bE/+3+EbNWqk/v37a9OmTWrfvv0j+zh+/Ljq16+vPn36yMnJSUeOHNHYsWP1yy+/aMOGDRZt37lzR02bNlXXrl314Ycf6ptvvtGgQYMUHx+vxYsXa8CAASpUqJCmTJmisLAwlS5dWhUrVpQkXbp0SZI0dOhQeXh46Pr161q6dKmCg4O1fv16BQcHP/E1AwDwuEi8AQAAAPdJTk5WUlKSbt26paioKI0cOVIuLi5q1KiR1qxZo9WrV+vTTz/Vhx9+KEmqW7euvLy81LJlS82bN09dunQx2jp37pz27dtnvAfttdde04ULFzRixAh169btmSzBnDBhgvFzSkqKatSoIXd3d7399tsaP3683NzcjOOXLl3S999/r1q1aj11v0WKFJF09xrv96A+PvroI+Nns9msatWqyd/fX0FBQTpw4IDKlCljHL99+7ZGjhyppk2bSro7k27FihUaM2aM9u7dq/Lly0uSAgMDlS9fPn3zzTdG4s3Pz0/Tpk0z2kpOTlZoaKhOnTqlyZMnk3gDADxXLDUFAAAA7vPKK68oR44ccnFxUYMGDeTh4aGff/5Z+fPnN2ZmhYWFWZzTvHlzOTk5af369RblpUqVSrX5QOvWrRUfH6+9e/c+k3j37dunRo0ayd3dXdmzZ1eOHDnUvn17JScn69ixYxZ13dzcnknSTbqbPEvLg/r4/fff1bp1a3l4eBhxBgUFSZJiYmIs6ppMJtWvX9/4bmNjIx8fH3l6ehpJN0nKnTu38uXLZywDvuerr75ShQoVZG9vLxsbG+XIkUPr169P1Q8AANbGjDcAAADgPvPmzZO/v79sbGyUP39+eXp6GscuXrwoGxsb5c2b1+Ick8kkDw8PXbx40aLcw8MjVfv3yv5Z90nExsaqRo0a8vPz06RJk+Tt7S17e3v98ssv6t69u27evGlR//5reVr3kl0FChR4ZB/Xr19XjRo1ZG9vr5EjR8rX11eOjo46c+aMmjZtmipOR0dH2dvbW5TZ2toqd+7cqdq2tbXVrVu3jO8TJkxQ37591bVrV40YMUJ58uRR9uzZNWTIEBJvAIDnjsQbAAAAcB9/f39jV9N/cnd3V1JSkv766y+L5JvZbNb58+dVqVIli/rnz59P1ca9Mnd3d0kyEkyJiYkW9f7+++9Hxrps2TIlJCRoyZIlxtJP6e675dJiMpke2WZ6LV++XJJSLd1Mq48NGzbo3LlzioyMNGa5SUq1IcWz8PXXXys4OFhffvmlRfm1a9eeeV8AADwKS00BAACAdKpdu7aku8md+y1evFgJCQnG8XsOHTqk/fv3W5R98803cnFxUYUKFSTd3f1Ukg4cOGBR715i62HuJbnu39DBbDZr5syZ6biaJ7d//36NHj1a3t7eatGixSPrpxWnJE2fPv2Zx2YymVL1c+DAAW3fvv2Z9wUAwKMw4w0AAABIp7p16yo0NFQDBgxQfHy8qlWrZuxqWr58ebVr186ifoECBdSoUSMNGzZMnp6e+vrrr7V27VqNHTvW2FihUqVK8vPzU79+/ZSUlCQ3NzctXbpUW7ZsSVc8tra2euutt9S/f3/dunVLX375pS5fvvzMrnnPnj1ydXXVnTt3dO7cOa1fv17z589Xvnz59OOPP8rW1vaRbVStWlVubm7q2rWrhg4dqhw5cmjBggWpkpLPQoMGDTRixAgNHTpUQUFBOnr0qP773/+qaNGiSkpKeub9AQDwMMx4AwAAANLJZDJp2bJl+uCDDxQeHq769evrs88+U7t27bRhw4ZUM63KlSunCRMmaPz48WrcuLG2bt2qCRMmqH///kad7Nmz68cff1SJEiXUtWtXtW/fXnZ2dpo6deoj4ylRooQWL16sy5cvq2nTpurZs6fKlSunyZMnP7NrrlevnqpUqaK6devq/fff1+nTpzV27Fj9+uuvKl26dLracHd3108//SRHR0e1bdtWHTt2lLOzsxYtWvTM4rxn8ODB6tu3r2bPnq3XX39ds2bN0ldffaXq1as/874AAHgUk/lB2xEBAAAAeGLe3t4qXbq0VqxYkdGhAACADMKMNwAAAAAAAMAKSLwBAAAAAAAAVsBSUwAAAAAAAMAKmPEGAAAAAAAAWAGJNwAAAAAAAMAKSLwBAAAAAAAAVmCT0QEAwNNISUnRuXPn5OLiIpPJlNHhAAAAAABecGazWdeuXVOBAgWULdvD57SReAOQpZ07d05eXl4ZHQYAAAAA4F/mzJkzKlSo0EPrkHgDkKW5uLhIuvsPvJw5c2ZwNAAAAACAF118fLy8vLyMv0cfhsQbgCzt3vLSnDlzkngDAAAAADw36XndEZsrAAAAAAAAAFZA4g0AAAAAAACwAhJvAAAAAAAAgBWQeAMAAAAAAACsgMQbAAAAAAAAYAUk3gAAAAAAAAArIPEGAAAAAAAAWAGJNwAAAAAAAMAKSLwBAAAAAAAAVkDiDQAAAAAAALACEm8AAAAAAACAFdhkdAAA8CxM2H9R9s63MzoMAAAAAMATGFg+T0aHYBXMeAMAAAAAAACsgMQbAAAAAAAAYAUk3gAAAAAAAAArIPEGAAAAAAAAWAGJNwAAAAAAAMAKSLwBWcCMGTPk5eWlbNmyaeLEic+s3bCwMDVp0iTD2wAAAAAA4EVE4g0vlPPnz6t3797y8fGRvb298ufPr+rVq+urr77SjRs3Mjq8JxIfH68ePXpowIABOnv2rN55551UdV555RW99957FmVffvmlTCaTZs+ebVHeqVMnVa1aVZI0adIkRUREGMeCg4PVp0+fZ34NAAAAAAD8G9lkdADAs/L777+rWrVqypUrl0aPHq2AgAAlJSXp2LFjmjNnjgoUKKBGjRpldJiPLTY2Vnfu3NHrr78uT0/PNOuEhIRo6dKlFmWRkZHy8vLSxo0b1alTJ4vyVq1aSZJcXV2tFzgAAAAAAP9yzHjDC6Nbt26ysbHR7t271aJFC/n7+ysgIEDNmjXTTz/9pIYNGxp1J0yYoICAADk5OcnLy0vdunXT9evXjeMRERHKlSuXVqxYIT8/Pzk6OurNN99UQkKC5s6dK29vb7m5ualnz55KTk42zrt9+7b69++vggULysnJSS+//LIiIyMfGndsbKwaN24sZ2dn5cyZUy1atNCff/5pxBEQECBJKlasmEwmk06dOpWqjZCQEB09elRxcXFGWVRUlAYNGmTR/5kzZ/T7778rJCREkuUy0bCwMEVFRWnSpEkymUwWfR06dEivv/66cubMKRcXF9WoUUMnTpywiOGzzz6Tp6en3N3d1b17d925cyfd9+X06dNq2LCh3Nzc5OTkpFKlSmnlypUPvW8AAAAAAGR2JN7wQrh48aLWrFmj7t27y8nJKc06JpPJ+DlbtmyaPHmyfv31V82dO1cbNmxQ//79LerfuHFDkydP1sKFC7Vq1SpFRkaqadOmWrlypVauXKn58+drxowZ+uGHH4xz3n77bW3dulULFy7UgQMH1Lx5c9WrV0/Hjx9PMyaz2awmTZro0qVLioqK0tq1a3XixAm1bNlSktSyZUutW7dOkvTLL78oLi5OXl5eqdqpVq2acuTIYSSzDh8+rJs3b6pjx46Kj483+t+4caNsbW2Npab3mzRpkqpUqaIuXbooLi7O6Ovs2bOqWbOm7O3ttWHDBu3Zs0cdO3ZUUlKSce7GjRt14sQJbdy4UXPnzlVERITFEtZH3Zfu3bsrMTFRmzZt0sGDBzV27Fg5Ozunec8SExMVHx9v8QEAAAAAIDNiqSleCL/99pvMZrP8/PwsyvPkyaNbt25JupvcGTt2rCRZvMesaNGiGjFihN577z1NmzbNKL9z546+/PJLvfTSS5KkN998U/Pnz9eff/4pZ2dnlSxZUiEhIdq4caNatmypEydO6Ntvv9Uff/yhAgUKSJL69eunVatWKTw8XKNHj04V97p163TgwAGdPHnSSKjNnz9fpUqV0q5du1SpUiW5u7tLkvLmzSsPD480r9/JyUmVKlVSZGSk3nrrLUVGRqp69eqys7NTtWrVFBkZqeLFiysyMlIvv/yyHB0dU7Xh6uoqW1tbOTo6WvTzxRdfyNXVVQsXLlSOHDkkSb6+vhbnurm5aerUqcqePbtKlCih119/XevXr1eXLl3SdV9iY2PVrFkzi9l9DzJmzBgNHz78gccBAAAAAMgsmPGGF8r9s9qku7PEoqOjVapUKSUmJhrlGzduVN26dVWwYEG5uLioffv2unjxohISEow6jo6ORtJNkvLnzy9vb2+LmVj58+fXhQsXJEl79+6V2WyWr6+vnJ2djU9UVFSqZZn3xMTEyMvLy2IWW8mSJZUrVy7FxMQ81rWHhIQYM94iIyMVHBwsSQoKCrIor1Wr1mO1Gx0drRo1ahhJt7SUKlVK2bNnN757eno+1n3p1auXRo4cqWrVqmno0KE6cODAA/saNGiQrl69anzOnDnzWNcDAAAAAMDzwow3vBB8fHxkMpl05MgRi/J7M6ccHByMstOnT6t+/frq2rWrRowYody5c2vLli3q1KmTxXvJ/ploMplMaZalpKRIklJSUpQ9e3bt2bPHIgkl6YHLJs1mc6pk4cPKHyYkJESjRo3S2bNnFRUVpX79+km6m3ibMmWKYmNjdfLkSeP9bul1/717kKe9L507d1ZoaKh++uknrVmzRmPGjNH48ePVs2fPVH3Z2dnJzs7usa4BAAAAAICMwIw3vBDc3d1Vt25dTZ061WLWWlp2796tpKQkjR8/Xq+88op8fX117ty5p46hfPnySk5O1oULF+Tj42PxedAS0ZIlSyo2NtZi1tbhw4d19epV+fv7P1b/VatWlZ2dnaZNm6abN2+qYsWKkqTAwEBdvXpV06dPl729vV555ZUHtmFra2uxWYQklSlTRps3b7ZISj6O9N4XLy8vde3aVUuWLFHfvn01c+bMJ+oPAAAAAIDMgsQbXhjTpk1TUlKSAgMDtWjRIsXExOjo0aP6+uuvdeTIEWO21UsvvaSkpCRNmTJFv//+u+bPn6+vvvrqqfv39fVVmzZt1L59ey1ZskQnT57Url27NHbs2Afu0FmnTh2VKVNGbdq00d69e/XLL7+offv2CgoKUmBg4GP17+DgoJdffllTpkxRtWrVjOvNkSOHqlSpoilTphjJuQfx9vbWzp07derUKf39999KSUlRjx49FB8fr1atWmn37t06fvy45s+fr6NHjz6z+9KnTx+tXr1aJ0+e1N69e7Vhw4bHTjwCAAAAAJDZkHjDC+Oll17Svn37VKdOHQ0aNEhly5ZVYGCgpkyZon79+mnEiBGSpHLlymnChAkaO3asSpcurQULFmjMmDHPJIbw8HC1b99effv2lZ+fnxo1aqSdO3emuROpdHdJ5rJly+Tm5qaaNWuqTp06KlasmBYtWvRE/YeEhOjatWvG+93uCQoK0rVr1x65zLRfv37Knj27SpYsqbx58yo2Nlbu7u7asGGDrl+/rqCgIFWsWFEzZ8586Dvf/ulR9yU5OVndu3eXv7+/6tWrJz8/P4uNLgAAAAAAyIpMZrPZnNFBAMCTio+Pl6urq4Zu+l32zi4ZHQ4AAAAA4AkMLJ8no0NIt3t/h169elU5c+Z8aF1mvAEAAAAAAABWQOINAAAAAAAAsAISbwAAAAAAAIAVkHgDAAAAAAAArIDEGwAAAAAAAGAFNhkdAAA8Cx+UdX/kbjIAAAAAADxPzHgDAAAAAAAArIDEGwAAAAAAAGAFJN4AAAAAAAAAKyDxBgAAAAAAAFgBmysAeCFM2H9R9s63MzoMAAAAAMhSBpbPk9EhvNCY8QYAAAAAAABYAYk3AAAAAAAAwApIvAEAAAAAAABWQOINAAAAAAAAsAISbwAAAAAAAIAVkHgDAAAAAAAArIDEG144kZGRMplMunLliiQpIiJCuXLleup2hw0bpvz588tkMmnZsmVP3R4eLDg4WH369MnoMAAAAAAAeCok3pAlbdu2TdmzZ1e9evWeS38xMTEaPny4pk+frri4OL322mup6vwz4Xe/cuXKadiwYU8Vw82bN+Xm5qbcuXPr5s2bT9XWwwwbNkwmk0kmk0k2NjbKkyePatasqYkTJyoxMdFq/QIAAAAA8KIh8YYsac6cOerZs6e2bNmi2NhYq/d34sQJSVLjxo3l4eEhOzs7q/f5T4sXL1bp0qVVsmRJLVmy5JH179y588R9lSpVSnFxcYqNjdXGjRvVvHlzjRkzRlWrVtW1a9eeuF0AAAAAAP5NSLwhy0lISNB3332n9957Tw0aNFBERMRTt3nw4EHVqlVLDg4Ocnd31zvvvKPr169LujsDrGHDhpKkbNmyyWQyPXV/w4YNU+HChWVnZ6cCBQqoV69ejzxn9uzZatu2rdq2bavZs2enOm4ymfTVV1+pcePGcnJy0siRIyVJP/74oypWrCh7e3sVK1ZMw4cPV1JS0kP7srGxkYeHhwoUKKCAgAD17NlTUVFR+vXXXzV27Fij3u3bt9W/f38VLFhQTk5OevnllxUZGWkcv3jxot566y0VKlRIjo6OCggI0LfffmvRV0JCgtq3by9nZ2d5enpq/Pjxj7wXAAAAAABkBSTekOUsWrRIfn5+8vPzU9u2bRUeHi6z2fzE7d24cUP16tWTm5ubdu3ape+//17r1q1Tjx49JEn9+vVTeHi4JCkuLk5xcXFPFf8PP/ygzz//XNOnT9fx48e1bNkyBQQEPPScEydOaPv27WrRooVatGihbdu26ffff09Vb+jQoWrcuLEOHjyojh07avXq1Wrbtq169eqlw4cPa/r06YqIiNCoUaMeO+4SJUrotddes5ht9/bbb2vr1q1auHChDhw4oObNm6tevXo6fvy4JOnWrVuqWLGiVqxYoV9//VXvvPOO2rVrp507dxptfPjhh9q4caOWLl2qNWvWKDIyUnv27HlgHImJiYqPj7f4AAAAAACQGZF4Q5Zzb+aXJNWrV0/Xr1/X+vXrn7i9BQsW6ObNm5o3b55Kly6tWrVqaerUqZo/f77+/PNPOTs7G5szeHh4yMPD46nij42NlYeHh+rUqaPChQurcuXK6tKly0PPmTNnjl577TXjHW/16tXTnDlzUtVr3bq1OnbsqGLFiqlIkSIaNWqUBg4cqA4dOqhYsWKqW7euRowYoenTpz9R7CVKlNCpU6ck3U0Gfvvtt/r+++9Vo0YNvfTSS+rXr5+qV69uJCoLFiyofv36qVy5cipWrJh69uyp0NBQff/995Kk69eva/bs2frss89Ut25dBQQEaO7cuUpOTn5gDGPGjJGrq6vx8fLyeqJrAQAAAADA2ki8IUs5evSofvnlF7Vq1UrS3SWRLVu2TDMJlV4xMTEqW7asnJycjLJq1aopJSVFR48efeqY/6l58+a6efOmihUrpi5dumjp0qUPXfqZnJysuXPnGslGSWrbtm2aCarAwECL73v27NF///tfOTs7G58uXbooLi5ON27ceOzYzWazsdR27969MpvN8vX1tWg/KirKeCdecnKyRo0apTJlysjd3V3Ozs5as2aN8V6+EydO6Pbt26pSpYrRR+7cueXn5/fAGAYNGqSrV68anzNnzjz2dQAAAAAA8DzYZHQAwOOYPXu2kpKSVLBgQaPMbDYrR44cunz5stzc3B67zfuTSf/0OO9zy5kzpyTp6tWrxgy5e65cuSJXV1dJkpeXl44ePaq1a9dq3bp16tatm8aNG6eoqCjlyJEjVburV6/W2bNn1bJlS4vy5ORkrVmzxmKH1fuTh5KUkpKi4cOHq2nTpqnatbe3T/e13RMTE6OiRYsabWfPnl179uxR9uzZLeo5OztLksaPH6/PP/9cEydOVEBAgJycnNSnTx/dvn1bkp5oibCdnV2GbG4BAAAAAMDjYsYbsoykpCTNmzdP48ePV3R0tPHZv3+/ihQpogULFjxRuyVLllR0dLQSEhKMsq1btypbtmzy9fVNdzvFixdXtmzZtGvXLovyuLg4nT171mIWl4ODgxo1aqTJkycrMjJS27dv18GDB9Nsd/bs2WrVqpXFNUdHR6tNmzZpbrJwvwoVKujo0aPy8fFJ9cmW7fEe/yNHjmjVqlVq1qyZJKl8+fJKTk7WhQsXUrV9bznu5s2b1bhxY7Vt21Zly5ZVsWLFjPe/SZKPj49y5MihHTt2GGWXL1/WsWPHHis2AAAAAAAyI2a8IctYsWKFLl++rE6dOhmzx+558803NXv2bGNDhMfRpk0bDR06VB06dNCwYcP0119/qWfPnmrXrp3y58+f7nZcXFz07rvvqm/fvrKxsVHZsmV17tw5DR48WP7+/nr11VclSREREUpOTtbLL78sR0dHzZ8/Xw4ODipSpEiqNv/66y/9+OOPWr58uUqXLm1xrEOHDnr99df1119/KW/evGnG9PHHH6tBgwby8vJS8+bNlS1bNh04cEAHDx40dj1NS1JSks6fP6+UlBRdvHhRkZGRGjlypMqVK6cPP/xQkuTr66s2bdqoffv2Gj9+vMqXL6+///5bGzZsUEBAgOrXry8fHx8tXrxY27Ztk5ubmyZMmKDz58/L399f0t2ZcZ06ddKHH34od3d35c+fX4MHD37spCAAAAAAAJkRf90iy5g9e7bq1KmTKukmSc2aNVN0dLT27t372O06Ojpq9erVunTpkipVqqQ333xTtWvX1tSpUx+7rc8//1ydO3fWf/7zH5UqVUpt2rRR0aJFtWbNGtnY3M1z58qVSzNnzlS1atVUpkwZrV+/Xj/++KPc3d1TtTdv3jw5OTmpdu3aqY6FhITIxcVF8+fPf2A8oaGhWrFihdauXatKlSrplVde0YQJE9JM8t3v0KFD8vT0VOHChRUcHKzvvvtOgwYN0ubNm41lpJIUHh6u9u3bq2/fvvLz81OjRo20c+dOY8ODIUOGqEKFCgoNDVVwcLA8PDzUpEkTi77GjRunmjVrqlGjRqpTp46qV6+uihUrPjQ+AAAAAACyApP5SV6yBACZRHx8vFxdXTV00++yd3bJ6HAAAAAAIEsZWD5PRoeQ5dz7O/Tq1avG+94fhBlvAAAAAAAAgBWQeAMAAAAAAACsgMQbAAAAAAAAYAUk3gAAAAAAAAArsMnoAADgWfigrPsjX2oJAAAAAMDzxIw3AAAAAAAAwApIvAEAAAAAAABWQOINAAAAAAAAsAISbwAAAAAAAIAVkHgDAAAAAAAArIBdTQG8ECbsvyh759sZHQYAAAAAZHoDy+fJ6BD+NZjxBgAAAAAAAFgBiTcAAAAAAADACki8AQAAAAAAAFZA4g0AAAAAAACwAhJvAAAAAAAAgBWQeAMAAAAAAACsgMQb8IyZTKaHfsLCwp5bLGFhYRZ9u7u7q169ejpw4MBzi+GeyMhImUwmXbly5bn3DQAAAABARiDxBjxjcXFxxmfixInKmTOnRdmkSZMs6t+5c8eq8dSrV8/oe/369bKxsVGDBg2s2icAAAAAACDxBjxzHh4exsfV1VUmk8n4fuvWLeXKlUvfffedgoODZW9vr6+//lrDhg1TuXLlLNqZOHGivL29LcrCw8Pl7+8ve3t7lShRQtOmTXtkPHZ2dkb/5cqV04ABA3TmzBn99ddfRp2zZ8+qZcuWcnNzk7u7uxo3bqxTp04Zx3ft2qW6desqT548cnV1VVBQkPbu3WscP3XqlEwmk6Kjo42yK1euyGQyKTIyUqdOnVJISIgkyc3NzZj5N2/ePLm7uysxMdEi5mbNmql9+/aPvDYAAAAAADIzEm9ABhgwYIB69eqlmJgYhYaGpuucmTNnavDgwRo1apRiYmI0evRoDRkyRHPnzk13v9evX9eCBQvk4+Mjd3d3SdKNGzcUEhIiZ2dnbdq0SVu2bJGzs7Pq1aun27dvS5KuXbumDh06aPPmzdqxY4eKFy+u+vXr69q1a+nq18vLS4sXL5YkHT161Jj517x5cyUnJ2v58uVG3b///lsrVqzQ22+/nWZbiYmJio+Pt/gAAAAAAJAZ2WR0AMC/UZ8+fdS0adPHOmfEiBEaP368cV7RokV1+PBhTZ8+XR06dHjgeStWrJCzs7MkKSEhQZ6enlqxYoWyZbubd1+4cKGyZcumWbNmyWQySbo7sy5XrlyKjIzUq6++qlq1alm0OX36dLm5uSkqKipdy1azZ8+u3LlzS5Ly5cunXLlyGcdat26t8PBwNW/eXJK0YMECFSpUSMHBwWm2NWbMGA0fPvyRfQIAAAAAkNGY8QZkgMDAwMeq/9dff+nMmTPq1KmTnJ2djc/IkSN14sSJh54bEhKi6OhoRUdHa+fOnXr11Vf12muv6fTp05KkPXv26LfffpOLi4vRbu7cuXXr1i2j7QsXLqhr167y9fWVq6urXF1ddf36dcXGxj7ZDbhPly5dtGbNGp09e1bS3aTfvU0h0jJo0CBdvXrV+Jw5c+apYwAAAAAAwBqY8QZkACcnJ4vv2bJlk9lstii7f9OFlJQUSXeXm7788ssW9bJnz/7Ivnx8fIzvFStWlKurq2bOnKmRI0cqJSVFFStW1IIFC1KdmzdvXkl3d0f966+/NHHiRBUpUkR2dnaqUqWKsRT13uy5+68hvZtGlC9fXmXLltW8efMUGhqqgwcP6scff3xgfTs7O9nZ2aWrbQAAAAAAMhKJNyATyJs3r86fPy+z2WzM9Lp/o4L8+fOrYMGC+v3339WmTZun6stkMilbtmy6efOmJKlChQpatGiR8uXLp5w5c6Z5zubNmzVt2jTVr19fknTmzBn9/fffFvFLd3d0LV++fKr4JcnW1laSlJycnKr9zp076/PPP9fZs2dVp04deXl5PdU1AgAAAACQGbDUFMgEgoOD9ddff+nTTz/ViRMn9MUXX+jnn3+2qDNs2DCNGTNGkyZN0rFjx3Tw4EGFh4drwoQJD207MTFR58+f1/nz5xUTE6OePXvq+vXratiwoSSpTZs2ypMnjxo3bqzNmzfr5MmTioqKUu/evfXHH39Iknx8fDR//nzFxMRo586datOmjRwcHIw+HBwc9Morr+iTTz7R4cOHtWnTJn300UcWcRQpUkQmk0krVqzQX3/9pevXrxvH2rRpo7Nnz2rmzJnq2LHjU91LAAAAAAAyCxJvQCbg7++vadOm6YsvvlDZsmX1yy+/qF+/fhZ1OnfurFmzZikiIkIBAQEKCgpSRESEihYt+tC2V61aJU9PT3l6eurll1/Wrl279P333xubFzg6OmrTpk0qXLiwmjZtKn9/f3Xs2FE3b940ZsDNmTNHly9fVvny5dWuXTv16tVL+fLls+hnzpw5unPnjgIDA9W7d2+NHDnS4njBggU1fPhwDRw4UPnz51ePHj2MYzlz5lSzZs3k7OysJk2aPOFdBAAAAAAgczGZ//liKQDIAHXr1pW/v78mT578WOfFx8fL1dVVQzf9LntnFytFBwAAAAAvjoHl82R0CFnavb9Dr169+sBXNt3DO94AZKhLly5pzZo12rBhg6ZOnZrR4QAAAAAA8MyQeAOQoSpUqKDLly9r7Nix8vPzy+hwAAAAAAB4Zki8AchQp06dyugQAAAAAACwCjZXAAAAAAAAAKyAxBsAAAAAAABgBSw1BfBC+KCs+yN3kwEAAAAA4HlixhsAAAAAAABgBSTeAAAAAAAAACsg8QYAAAAAAABYAYk3AAAAAAAAwArYXAHAC2HC/ouyd76d0WEAAAAAT2Rg+TwZHQIAK2DGGwAAAAAAAGAFJN4AAAAAAAAAKyDxBgAAAAAAAFgBiTcAAAAAAADACki8AQAAAAAAAFZA4g0AAAAAAACwAhJvQBYVERGhXLlyPbTOsGHDVK5cuecSDwAAAAAAsETiDXjGLly4oHfffVeFCxeWnZ2dPDw8FBoaqu3btz/Tflq2bKljx449k7YWL16sWrVqyc3NTY6OjvLz81PHjh21b9++Z9I+AAAAAAD/RiTegGesWbNm2r9/v+bOnatjx45p+fLlCg4O1qVLl55pPw4ODsqXL99TtzNgwAC1bNlS5cqV0/Lly3Xo0CHNmDFDL730kv7zn/88g0gBAAAAAPh3IvEGPENXrlzRli1bNHbsWIWEhKhIkSKqXLmyBg0apNdff92od/z4cdWsWVP29vYqWbKk1q5dK5PJpGXLlkmSIiMjZTKZdOXKFeOc6OhomUwmnTp1SlLaS00/+eQT5c+fXy4uLurUqZNu3br10Hh37NihTz/9VBMmTNCECRNUo0YNFS1aVEFBQRo8eLBWrlxp1D1x4oQaN26s/Pnzy9nZWZUqVdK6dess2vP29tbIkSPVvn17OTs7q0iRIvrf//6nv/76S40bN5azs7MCAgK0e/dui/O2bdummjVrysHBQV5eXurVq5cSEhLSedcBAAAAAMicSLwBz5Czs7OcnZ21bNkyJSYmplknJSVFTZs2Vfbs2bVjxw599dVXGjBgwFP3/d1332no0KEaNWqUdu/eLU9PT02bNu2h53z77bdydnZWt27d0jxuMpmMn69fv6769etr3bp12rdvn0JDQ9WwYUPFxsZanPP555+rWrVq2rdvn15//XW1a9dO7du3V9u2bbV37175+Pioffv2MpvNkqSDBw8qNDRUTZs21YEDB7Ro0SJt2bJFPXr0SDOmxMRExcfHW3wAAAAAAMiMSLwBz5CNjY0iIiI0d+5c5cqVS9WqVdN//vMfHThwwKizbt06xcTEaP78+SpXrpxq1qyp0aNHP3XfEydOVMeOHdW5c2f5+flp5MiRKlmy5EPPOXbsmIoVKyYbGxujbMKECUYC0dnZWVevXpUklS1bVu+++64CAgJUvHhxjRw5UsWKFdPy5cst2qxfv77effddFS9eXB9//LGuXbumSpUqqXnz5vL19dWAAQMUExOjP//8U5I0btw4tW7dWn369FHx4sVVtWpVTZ48WfPmzUtzxt6YMWPk6upqfLy8vJ721gEAAAAAYBUk3oBnrFmzZjp37pyWL1+u0NBQRUZGqkKFCoqIiJAkxcTEqHDhwipUqJBxTpUqVZ6635iYmFTtpKfd+2e1SVLHjh0VHR2t6dOnKyEhwZiZlpCQoP79+6tkyZLKlSuXnJ2ddeTIkVQz3sqUKWP8nD9/fklSQEBAqrILFy5Ikvbs2aOIiAiLZF9oaKhSUlJ08uTJVPEOGjRIV69eNT5nzpx55DUCAAAAAJARbB5dBcDjsre3V926dVW3bl19/PHH6ty5s4YOHaqwsDAjkXW/fya/smW7mxO/v+6dO3eeeZzFixfXli1bdOfOHeXIkUOSlCtXLuXKlUt//PGHRd0PP/xQq1ev1meffSYfHx85ODjozTff1O3bty3q3WtH+r/rSqssJSXF+N93331XvXr1ShVf4cKFU5XZ2dnJzs7uSS4XAAAAAIDnihlvwHNQsmRJY7OAkiVLKjY2VufOnTOOb9++3aJ+3rx5JUlxcXFGWXR09EP78Pf3144dOyzK/vn9n9566y1dv379ke+Ck6TNmzcrLCxMb7zxhgICAuTh4WFs9PA0KlSooEOHDsnHxyfVx9bW9qnbBwAAAAAgozDjDXiGLl68qObNm6tjx44qU6aMXFxctHv3bn366adq3LixJKlOnTry8/NT+/btNX78eMXHx2vw4MEW7fj4+MjLy0vDhg3TyJEjdfz4cY0fP/6hfffu3VsdOnRQYGCgqlevrgULFujQoUMqVqzYA8+pUqWK+vbtq759++r06dNq2rSpvLy8FBcXp9mzZ8tkMhmz73x8fLRkyRI1bNhQJpNJQ4YMMWatPY0BAwbolVdeUffu3dWlSxc5OTkpJiZGa9eu1ZQpU566fQAAAAAAMgoz3oBnyNnZWS+//LI+//xz1axZU6VLl9aQIUPUpUsXTZ06VdLdZaRLly5VYmKiKleurM6dO2vUqFEW7eTIkUPffvutjhw5orJly2rs2LEaOXLkQ/tu2bKlPv74Yw0YMEAVK1bU6dOn9d577z0y5s8++0zffPON9u3bpwYNGqh48eJq3ry5UlJStH37duXMmVPS3d1K3dzcVLVqVTVs2FChoaGqUKHCE96p/1OmTBlFRUXp+PHjqlGjhsqXL68hQ4bI09PzqdsGAAAAACAjmcxpvXAKwHNnMpm0dOlSNWnSJKNDyVLi4+Pl6uqqoZt+l72zS0aHAwAAADyRgeXzZHQIANLp3t+hV69eNSarPAgz3gAAAAAAAAArIPEGAAAAAAAAWAGbKwCZBKu+AQAAAAB4sTDjDQAAAAAAALACZrwBeCF8UNb9kS+1BAAAAADgeWLGGwAAAAAAAGAFJN4AAAAAAAAAKyDxBgAAAAAAAFgBiTcAAAAAAADACki8AQAAAAAAAFbArqYAXggT9l+UvfPtjA4DAAAAGWxg+TwZHQIAGJjxBgAAAAAAAFgBiTcAAAAAAADACki8AQAAAAAAAFZA4g0AAAAAAACwAhJvAAAAAAAAgBWQeAMAAAAAAACsgMQbkMGWLVsmHx8fZc+eXX369En3ecOGDVO5cuWsFteTSE9MYWFhatKkyXOJBwAAAACAjETiDWlq2LCh6tSpk+ax7du3y2Qyae/evc85qhfTu+++qzfffFNnzpzRiBEj0qxjMpm0bNmy5xJPcHCwTCaTTCaTsmXLpvz586t58+Y6ffr0I8/t16+f1q9f/xyiBAAAAAAg8yPxhjR16tRJGzZsSDPZMmfOHJUrV04VKlTIgMheLNevX9eFCxcUGhqqAgUKyMXFJaNDkiR16dJFcXFxOnv2rP73v//pzJkzatu27QPrm81mJSUlydnZWe7u7s8xUgAAAAAAMi8Sb0hTgwYNlC9fPkVERFiU37hxQ4sWLVKnTp0kSdu2bVPNmjXl4OAgLy8v9erVSwkJCUZ9b29vjR49Wh07dpSLi4sKFy6sGTNmWLS5bds2lStXTvb29goMDNSyZctkMpkUHR1t1Dl8+LDq168vZ2dn5c+fX+3atdPff/9tHF+1apWqV6+uXLlyyd3dXQ0aNNCJEyeM46dOnZLJZNKSJUsUEhIiR0dHlS1bVtu3b7eIZevWrQoKCpKjo6Pc3NwUGhqqy5cvS7qbXPr0009VrFgxOTg4qGzZsvrhhx8eeh8vX76s9u3by83NTY6Ojnrttdd0/PhxSVJkZKSRaKtVq5ZMJpMiIyNTteHt7S1JeuONN2QymYzv98yfP1/e3t5ydXVVq1atdO3aNePYk8QsSY6OjvLw8JCnp6deeeUVde/e3WKGY2RkpEwmk1avXq3AwEDZ2dlp8+bNqZaaJicn64MPPjDGpX///jKbzRZ9PW6MiYmJio+Pt/gAAAAAAJAZkXhDmmxsbNS+fXtFRERYJEq+//573b59W23atNHBgwcVGhqqpk2b6sCBA1q0aJG2bNmiHj16WLQ1fvx4BQYGat++ferWrZvee+89HTlyRJJ07do1NWzYUAEBAdq7d69GjBihAQMGWJwfFxenoKAglStXTrt379aqVav0559/qkWLFkadhIQEffDBB9q1a5fWr1+vbNmy6Y033lBKSopFW4MHD1a/fv0UHR0tX19fvfXWW0pKSpIkRUdHq3bt2ipVqpS2b9+uLVu2qGHDhkpOTpYkffTRRwoPD9eXX36pQ4cO6f3331fbtm0VFRX1wPsYFham3bt3a/ny5dq+fbvMZrPq16+vO3fuqGrVqjp69KgkafHixYqLi1PVqlVTtbFr1y5JUnh4uOLi4ozvknTixAktW7ZMK1as0IoVKxQVFaVPPvnEOP4kMf/TpUuX9P333+vll19Odax///4aM2aMYmJiVKZMmVTHx48frzlz5mj27NnasmWLLl26pKVLl1rUedwYx4wZI1dXV+Pj5eWV7msBAAAAAOB5Mpn/Of0E+P+OHDkif39/bdiwQSEhIZKkoKAgFSxYUN98843at28vBwcHTZ8+3Thny5YtCgoKUkJCguzt7eXt7a0aNWpo/vz5ku7ObvLw8NDw4cPVtWtXffXVV/roo4/0xx9/yN7eXpI0a9YsdenSRfv27VO5cuX08ccfa+fOnVq9erXRzx9//CEvLy8dPXpUvr6+qWL/66+/lC9fPh08eFClS5fWqVOnVLRoUc2aNcuYrXf48GGVKlVKMTExKlGihFq3bq3Y2Fht2bIlVXsJCQnKkyePNmzYoCpVqhjlnTt31o0bN/TNN9+kOuf48ePy9fXV1q1bjYTaxYsX5eXlpblz56p58+a6cuWK3NzctHHjRgUHBz9wLEwmk5YuXWqxKcGwYcM0btw4nT9/3pg5179/f23atEk7dux4opilu+9427Ztm2xtbWU2m3Xjxg35+vpq9erVxmy7yMhIhYSEaNmyZWrcuLFFTMuWLTNmKxYoUEC9e/c2kqlJSUkqWrSoKlasqGXLlj1RjImJiUpMTDS+x8fHy8vLS0M3/S5758yxVBcAAAAZZ2D5PBkdAoAXXHx8vFxdXXX16lXlzJnzoXVtnlNMyIJKlCihqlWras6cOQoJCdGJEye0efNmrVmzRpK0Z88e/fbbb1qwYIFxjtlsVkpKik6ePCl/f39JspgJZTKZ5OHhoQsXLkiSjh49qjJlyhhJN0mqXLmyRRx79uzRxo0b5ezsnCrGEydOyNfXVydOnNCQIUO0Y8cO/f3338ZMt9jYWJUuXdqof38snp6ekqQLFy6oRIkSio6OVvPmzdO8F4cPH9atW7dUt25di/Lbt2+rfPnyaZ4TExMjGxsbi5li7u7u8vPzU0xMTJrnPC5vb2+L98J5enoa9/ZJYr6nTZs2Gjx4sCTpzz//1OjRo/Xqq69qz549Fv0FBgY+sI2rV68qLi7OIqFmY2OjwMBAYxblk8RoZ2cnOzu7h8YPAAAAAEBmQOIND9WpUyf16NFDX3zxhcLDw1WkSBHVrl1bkpSSkqJ3331XvXr1SnVe4cKFjZ9z5MhhccxkMhmJMbPZLJPJZHH8n5MwU1JS1LBhQ40dOzZVP/eSZw0bNpSXl5dmzpypAgUKKCUlRaVLl9bt27ct6t8fy71+78Xi4ODwwPtwr85PP/2kggULWhx7UBLoQZNJ07rmJ/Wwe/skMd/j6uoqHx8fSZKPj49mz54tT09PLVq0SJ07dzbqOTk5PVX8TxMjAAAAAACZHYk3PFSLFi3Uu3dvffPNN5o7d666dOliJI0qVKigQ4cOGQmaJ1GiRAktWLBAiYmJRqJl9+7dFnUqVKigxYsXy9vbWzY2qX9lL168qJiYGE2fPl01atSQpDSXiz5KmTJltH79eg0fPjzVsZIlS8rOzk6xsbEKCgpKV3slS5ZUUlKSdu7cabHU9NixY8ZswPTKkSOH8a659HqSmB8ke/bskqSbN2+m+xxXV1d5enpqx44dqlmzpqS7S0337Nlj7Ij7LGMEAAAAACCzIfGGh3J2dlbLli31n//8R1evXlVYWJhxbMCAAcaOl126dJGTk5NiYmK0du1aTZkyJV3tt27dWoMHD9Y777yjgQMHKjY2Vp999pmk/5uR1r17d82cOVNvvfWWPvzwQ+XJk0e//fabFi5cqJkzZ8rNzU3u7u6aMWOGPD09FRsbq4EDBz72tQ4aNEgBAQHq1q2bunbtKltbW23cuFHNmzdXnjx51K9fP73//vtKSUlR9erVFR8fr23btsnZ2VkdOnRI1V7x4sXVuHFjdenSRdOnT5eLi4sGDhyoggULWrwXLT28vb21fv16VatWTXZ2dnJzc3vkOS4uLo8d8z03btzQ+fPnJd1dajpy5EjZ29vr1Vdffay4e/furU8++UTFixeXv7+/JkyYoCtXrjyTGAEAAAAAyOzY1RSP1KlTJ12+fFl16tSxWEJapkwZRUVF6fjx46pRo4bKly+vIUOGGMs/0yNnzpz68ccfFR0drXLlymnw4MH6+OOPJcl471uBAgW0detWJScnKzQ0VKVLl1bv3r3l6uqqbNmyKVu2bFq4cKH27Nmj0qVL6/3339e4ceMe+zp9fX21Zs0a7d+/X5UrV1aVKlX0v//9z5hlN2LECH388ccaM2aM/P39FRoaqh9//FFFixZ9YJvh4eGqWLGiGjRooCpVqshsNmvlypWplog+yvjx47V27Vp5eXk98v1s93uSmCVp5syZ8vT0lKenp0JCQvTXX39p5cqV8vPze6y4+/btq/bt2yssLExVqlSRi4uL3njjjWcSIwAAAAAAmR27miLTWbBggd5++21dvXr1oe9dA6T/202GXU0BAAAgsaspAOtjV1NkKfPmzVOxYsVUsGBB7d+/XwMGDFCLFi1IugEAAAAAgCyNxBsy3Pnz5/Xxxx/r/Pnz8vT0VPPmzTVq1KiMDgsAAAAAAOCpkHhDhuvfv7/69++f0WEAAAAAAAA8U2yuAAAAAAAAAFgBM94AvBA+KOv+yJdaAgAAAADwPDHjDQAAAAAAALACEm8AAAAAAACAFZB4AwAAAAAAAKyAxBsAAAAAAABgBSTeAAAAAAAAACtgV1MAL4QJ+y/K3vl2RocBAMALb2D5PBkdAgAAWQYz3gAAAAAAAAArIPEGAAAAAAAAWAGJNwAAAAAAAMAKSLwBAAAAAAAAVkDiDQAAAAAAALACEm8A0s1kMmnZsmWSpFOnTslkMik6OvqJ23sWbQAAAAAAkFmReAMgSTp//rx69+4tHx8f2dvbK3/+/Kpevbq++uor3bhxI1V9Ly8vxcXFqXTp0pKkyMhImUwmXbly5TlHDgAAAABA5mST0QEAyHi///67qlWrply5cmn06NEKCAhQUlKSjh07pjlz5qhAgQJq1KiRxTnZs2eXh4dHBkUMAAAAAEDmx4w3AOrWrZtsbGy0e/dutWjRQv7+/goICFCzZs30008/qWHDhqnOuX+Z6KlTpxQSEiJJcnNzk8lkUlhYmCQpJSVFY8eOlY+Pj+zs7FS4cGGNGjXKoq3ff/9dISEhcnR0VNmyZbV9+3arXzMAAAAAANZG4g34l7t48aLWrFmj7t27y8nJKc06JpPpoW14eXlp8eLFkqSjR48qLi5OkyZNkiQNGjRIY8eO1ZAhQ3T48GF98803yp8/v8X5gwcPVr9+/RQdHS1fX1+99dZbSkpKSrOvxMRExcfHW3wAAAAAAMiMSLwB/3K//fabzGaz/Pz8LMrz5MkjZ2dnOTs7a8CAAQ9tI3v27MqdO7ckKV++fPLw8JCrq6uuXbumSZMm6dNPP1WHDh300ksvqXr16urcubPF+f369dPrr78uX19fDR8+XKdPn9Zvv/2WZl9jxoyRq6ur8fHy8nqKqwcAAAAAwHpIvAGQlHpW2y+//KLo6GiVKlVKiYmJT9RmTEyMEhMTVbt27YfWK1OmjPGzp6enJOnChQtp1h00aJCuXr1qfM6cOfNEsQEAAAAAYG1srgD8y/n4+MhkMunIkSMW5cWKFZMkOTg4PHHb6T03R44cxs/3EoApKSlp1rWzs5Odnd0TxwQAAAAAwPPCjDfgX87d3V1169bV1KlTlZCQ8MTt2NraSpKSk5ONsuLFi8vBwUHr169/6jgBAAAAAMhqSLwB0LRp05SUlKTAwEAtWrRIMTExOnr0qL7++msdOXJE2bNnf2QbRYoUkclk0ooVK/TXX3/p+vXrsre314ABA9S/f3/NmzdPJ06c0I4dOzR79uzncFUAAAAAAGQslpoC0EsvvaR9+/Zp9OjRGjRokP744w/Z2dmpZMmS6tevn7p16/bINgoWLKjhw4dr4MCBevvtt9W+fXtFRERoyJAhsrGx0ccff6xz587J09NTXbt2fQ5XBQAAAABAxjKZzWZzRgcBAE8qPj5erq6uGrrpd9k7u2R0OAAAvPAGls+T0SEAAJCh7v0devXqVeXMmfOhdVlqCgAAAAAAAFgBiTcAAAAAAADACki8AQAAAAAAAFZA4g0AAAAAAACwAnY1BfBC+KCs+yNfagkAAAAAwPPEjDcAAAAAAADACki8AQAAAAAAAFZA4g0AAAAAAACwAhJvAAAAAAAAgBWQeAMAAAAAAACsgF1NAbwQJuy/KHvn2xkdBgAAj21g+TwZHQIAALASZrwBAAAAAAAAVkDiDQAAAAAAALACEm8AAAAAAACAFZB4AwAAAAAAAKyAxBsAAAAAAABgBSTeAAAAAAAAACsg8faUhg0bpnLlymV0GP8KERERypUrV0aHkeVERkbKZDLpypUrGR0KAAAAAAD/Ko+VeAsLC5PJZFLXrl1THevWrZtMJpPCwsKeVWxW87BEhLe3tyZOnJjutvr166f169enq+7TJOn+GZfZbFbfvn3l4uKiDRs2PFGbGS04OFh9+vRJd/2WLVvq2LFjVukjODhYJpMp1Set3/WspmrVqoqLi5Orq+tTt+Xn5ydbW1udPXv2GUQGAAAAAMCL7bFnvHl5eWnhwoW6efOmUXbr1i19++23Kly48DMNLitwdnaWu7v7c+0zOTlZnTp10rx587RhwwbVqlXridq5c+fOM47MuhwcHJQvXz6rtd+lSxfFxcVZfD799FOr9fe82NraysPDQyaT6ana2bJli27duqXmzZsrIiLikfVv3779VP0BAAAAAJDVPXbirUKFCipcuLCWLFlilC1ZskReXl4qX768Rd3ExET16tVL+fLlk729vapXr65du3YZx+/NPFu/fr0CAwPl6OioqlWr6ujRoxbt/Pjjj6pYsaLs7e1VrFgxDR8+XElJSZKkjh07qkGDBhb1k5KS5OHhoTlz5jzu5aVy9epVvfPOO8qXL59y5sypWrVqaf/+/cbxf85ii4yMVOXKleXk5KRcuXKpWrVqOn36tCIiIjR8+HDt37/fmE2VnuTFPyUmJqp58+Zau3atNm3apEqVKkmSUlJS9N///leFChWSnZ2dypUrp1WrVhnnnTp1SiaTSd99952Cg4Nlb2+vr7/+WpIUHh4uf39/2dvbq0SJEpo2bZpFnwMGDJCvr68cHR1VrFgxDRkyxCpJu8uXL6t9+/Zyc3OTo6OjXnvtNR0/ftw4/s+lpvfu/fz58+Xt7S1XV1e1atVK165dk3R3hmZUVJQmTZpk3PNTp049sH9HR0d5eHhYfHLmzGkc/+OPP9SqVSvlzp1bTk5OCgwM1M6dO43jX375pV566SXZ2trKz89P8+fPt2jfZDJp1qxZeuONN+To6KjixYtr+fLlFnWioqJUuXJl2dnZydPTUwMHDjR+16W7M/N69uypPn36yM3NTfnz59eMGTOUkJCgt99+Wy4uLnrppZf0888/G+ekNcNz69atCgoKkqOjo9zc3BQaGqrLly8/dHxmz56t1q1bq127dpozZ47MZrPFcW9vb40cOVJhYWFydXVVly5dJEnbtm1TzZo15eDgIC8vL/Xq1UsJCQnGeV9//bUCAwPl4uIiDw8PtW7dWhcuXHhoLAAAAAAAZAVP9I63t99+W+Hh4cb3OXPmqGPHjqnq9e/fX4sXL9bcuXO1d+9e+fj4KDQ0VJcuXbKoN3jwYI0fP167d++WjY2NRVurV69W27Zt1atXLx0+fFjTp09XRESERo0aJUnq3LmzVq1apbi4OOOclStX6vr162rRosWTXJ7BbDbr9ddf1/nz57Vy5Urt2bNHFSpUUO3atVNdg3Q34dekSRMFBQXpwIED2r59u9555x2ZTCa1bNlSffv2ValSpYzZVC1btpR0N0EUHBz8yHiuX7+u119/XYcOHdLWrVvl7+9vHJs0aZLGjx+vzz77TAcOHFBoaKgaNWpkkbiS7ibRevXqpZiYGIWGhmrmzJkaPHiwRo0apZiYGI0ePVpDhgzR3LlzjXNcXFwUERGhw4cPa9KkSZo5c6Y+//zzJ7yrDxYWFqbdu3dr+fLl2r59u8xms+rXr//QJN+JEye0bNkyrVixQitWrFBUVJQ++eQT455UqVLFYiabl5fXE8V2/fp1BQUF6dy5c1q+fLn279+v/v37KyUlRZK0dOlS9e7dW3379tWvv/6qd999V2+//bY2btxo0c7w4cPVokULHThwQPXr11ebNm2M36WzZ8+qfv36qlSpkvbv368vv/xSs2fP1siRIy3amDt3rvLkyaNffvlFPXv21HvvvafmzZuratWq2rt3r0JDQ9WuXTvduHEjzWuJjo5W7dq1VapUKW3fvl1btmxRw4YNlZyc/MDrv3btmr7//nu1bdtWdevWVUJCgiIjI1PVGzdunEqXLq09e/ZoyJAhOnjwoEJDQ9W0aVMdOHBAixYt0pYtW9SjRw/jnNu3b2vEiBHav3+/li1bppMnTz50yXpiYqLi4+MtPgAAAAAAZEYm8z+nrTxEWFiYrly5olmzZqlQoUI6cuSITCaTSpQooTNnzqhz587KlSuXIiIilJCQIDc3N0VERKh169aS7i5t9Pb2Vp8+ffThhx8qMjJSISEhWrdunWrXri3pbtLs9ddf182bN2Vvb6+aNWvqtdde06BBg4w4vv76a/Xv31/nzp2TJJUqVUodOnRQ//79JUlvvPGGcuXKZZEcvN+9fp2cnFIdu3HjhiZMmKA+ffpow4YNeuONN3ThwgXZ2dkZdXx8fNS/f3+98847GjZsmJYtW6bo6GhdunRJ7u7uioyMVFBQUKq27697v0GDBuns2bOaN2/eA++9t7e34uLi5OLiosOHD6daclmwYEF1795d//nPf4yyypUrq1KlSvriiy906tQpFS1aVBMnTlTv3r2NOoULF9bYsWP11ltvGWUjR47UypUrtW3btjRjGTdunBYtWqTdu3c/MN70CA4OVrly5TRx4kQdP35cvr6+2rp1q6pWrSpJunjxory8vDR37lxjeWOfPn2MmVvDhg3TuHHjdP78ebm4uEi6m+zdtGmTduzYkaqPR8Wybds22draWpR/8cUX6tChg2bMmKF+/frp1KlTyp07d6rzq1WrplKlSmnGjBlGWYsWLZSQkKCffvpJ0t0Zbx999JFGjBghSUpISJCLi4tWrlypevXqafDgwVq8eLFiYmKMZaHTpk3TgAEDdPXqVWXLlk3BwcFKTk7W5s2bJd1dduzq6qqmTZsavz/nz5+Xp6entm/frldeecX4fb98+bJy5cql1q1bKzY2Vlu2bEn3WM2cOVPTpk3Tvn37JEl9+vTR33//bcyalO7+jpYvX15Lly41ytq3by8HBwdNnz7dKNuyZYuCgoKUkJAge3v7VH3t2rVLlStX1rVr1+Ts7Jzq+LBhwzR8+PBU5UM3/S57Z5d0XxMAAJnFwPJ5MjoEAADwGOLj4+Xq6qqrV69arJRLi82TdJAnTx69/vrrmjt3rjErLE8ey//DcOLECd25c0fVqlUzynLkyKHKlSsrJibGom6ZMmWMnz09PSVJFy5cUOHChbVnzx7t2rXLmOEm3U023Lp1Szdu3JCjo6M6d+6sGTNmqH///rpw4YJ++umndG14sHnzZiNhc8/9M8/27Nmj69evp3qH282bN3XixIlU7eXOnVthYWEKDQ1V3bp1VadOHbVo0cK4pgcZM2bMI2OVpFdffVXr1q3T6NGjLRJJ8fHxOnfunMW9lu4mg+5fFitJgYGBxs9//fWXzpw5o06dOhnLAqW7M/fufxH/Dz/8oIkTJ+q3337T9evXlZSU9NBfrNdee81IDBUpUkSHDh165LXFxMTIxsZGL7/8slHm7u4uPz+/VL8v9/P29rYYQ09PzydeptimTRsNHjzYouxegjM6Olrly5dPM+l2L/533nnHoqxatWqaNGmSRdn9v+tOTk5ycXEx4o2JiVGVKlUs3sVWrVo1Xb9+XX/88YfxDsX728iePbvc3d0VEBBglOXPn1+SHngfoqOj1bx58zSPPcjs2bPVtm1b43vbtm1Vs2ZNXblyxWL57/2/X9LdZ+i3337TggULjDKz2ayUlBSdPHlS/v7+2rdvn4YNG2Ykr+/NIoyNjVXJkiVTxTJo0CB98MEHxvf4+PgnnskIAAAAAIA1PVHiTbr7brV7y8W++OKLVMfvTaT75wvdzWZzqrIcOXIYP987du+P75SUFA0fPlxNmzZN1ce92TLt27fXwIEDtX37dm3fvl3e3t6qUaPGI6+haNGiFkkDSbKx+b9bkpKSIk9PzzSX1P3zvHvCw8PVq1cvrVq1SosWLdJHH32ktWvX6pVXXnlkPI9Su3Zt9erVS40bN1ZycrKmTJlicTw99/r+WX737vHMmTMtEl7S3YSOJO3YsUOtWrXS8OHDFRoaKldXVy1cuFDjx49/YJyzZs0yNt+4f2wf5kETL9O6hvv9s32TyWRc1+NydXWVj49PmsccHBweef7j/q7fO+devGnVT+s5SquNhz1DT3It9zt8+LB27typXbt2acCAAUZ5cnKyvv32W7333ntG2T9nkaakpOjdd99Vr169UrVbuHBhJSQk6NVXX9Wrr76qr7/+Wnnz5lVsbKxCQ0MfuDmDnZ2dxQxUAAAAAAAyqydOvNWrV8/4wzg0NDTVcR8fH9na2mrLli0WS013796tPn36pLufChUq6OjRow9MiEh3Z0Y1adJE4eHh2r59u95+++3Hu5iH9H3+/HnZ2NjI29s73eeVL19e5cuX16BBg1SlShV98803euWVV2Rra/vQ92ilR926dbVixQo1bNhQKSkpmjp1qnLmzKkCBQpoy5YtqlmzplF327Ztqly58gPbyp8/vwoWLKjff/9dbdq0SbPO1q1bVaRIEYuZYKdPn35ojAULFnzMq5JKliyppKQk7dy502Kp6bFjxyzeZfe4nsU9l+7OMps1a5YuXbqU5qw3f39/bdmyRe3btzfKtm3b9lixlyxZUosXL7ZIwG3btk0uLi5PdE8fpEyZMlq/fn2ayzXTMnv2bNWsWTNVgn3+/PmaPXu2ReLtnypUqKBDhw498Pk9ePCg/v77b33yySfGrLWnXcIMAAAAAEBm8cSJt+zZsxtLAO/Njrqfk5OT3nvvPX344YfKnTu3ChcurE8//VQ3btxQp06d0t3Pxx9/rAYNGsjLy0vNmzdXtmzZdODAAR08eNDipfOdO3dWgwYNlJycrA4dOjzpZVmoU6eOqlSpoiZNmmjs2LHy8/PTuXPntHLlSjVp0iTVsrqTJ09qxowZatSokQoUKKCjR4/q2LFjRjLG29tbJ0+eVHR0tAoVKiQXFxfZ2dml6x1v96tVq5Z++uknNWjQQGazWV988YU+/PBDDR06VC+99JLKlSun8PBwRUdHWyzxS8uwYcPUq1cv5cyZU6+99poSExO1e/duXb58WR988IF8fHwUGxurhQsXqlKlSvrpp58s3uH1rBQvXlyNGzdWly5dNH36dLm4uGjgwIEqWLCgGjdu/MTtent7a+fOnTp16pScnZ2VO3duZcuW9p4iN27c0Pnz5y3K7Ozs5ObmprfeekujR49WkyZNNGbMGHl6emrfvn0qUKCAqlSpog8//FAtWrQwNt/48ccftWTJEq1bty7dsXbr1k0TJ05Uz5491aNHDx09elRDhw7VBx988MCYn8SgQYMUEBCgbt26qWvXrrK1tdXGjRvVvHnzVEvG79y5o/nz5+u///2vSpcubXGsc+fO+vTTT7V//36VLVs2zb4GDBigV155Rd27d1eXLl3k5OSkmJgYrV27VlOmTFHhwoVla2urKVOmqGvXrvr111+Nd+ABAAAAAJDVPdVf8zlz5nzou74++eQTNWvWTO3atVOFChX022+/afXq1XJzc0t3H6GhoVqxYoXWrl2rSpUq6ZVXXtGECRNUpEgRi3p16tSRp6enQkNDVaBAgSe+pvuZTCatXLlSNWvWVMeOHeXr66tWrVrp1KlTxnu07ufo6KgjR46oWbNm8vX11TvvvKMePXro3XfflSQ1a9ZM9erVU0hIiPLmzatvv/1WkhQXF6fY2NjHii04OFgrV67U/Pnz9d5776lnz57q27ev+vbtq4CAAK1atUrLly9X8eLFH9pO586dNWvWLEVERCggIEBBQUGKiIhQ0aJFJUmNGzfW+++/rx49eqhcuXLatm2bhgwZ8lixPkhKSorF0t7w8HBVrFhRDRo0UJUqVWQ2m7Vy5cp0L1dNS79+/ZQ9e3aVLFnSWMb4IDNnzpSnp6fF596mE7a2tlqzZo3y5cun+vXrKyAgQJ988omRdG7SpIkmTZqkcePGqVSpUpo+fbrCw8PTtVvtPQULFtTKlSv1yy+/qGzZsuratas6deqkjz766ImvPy2+vr5as2aN9u/fr8qVK6tKlSr63//+ZzEW9yxfvlwXL17UG2+8kepY8eLFFRAQoNmzZz+wrzJlyigqKkrHjx9XjRo1VL58eQ0ZMsR472HevHkVERGh77//XiVLltQnn3yizz777NldLAAAAAAAGeixdjXNzG7cuKECBQpozpw5ab4PDplPiRIl1LlzZ/Xr1y+jQ0EWdm83GXY1BQBkVexqCgBA1mL1XU0zk5SUFJ0/f17jx4+Xq6urGjVqlNEh4REuXLign3/+WUePHlXt2rUzOhwAAAAAAACryPKJt9jYWBUtWlSFChVSREREmsvlkLnUq1dPly9f1uTJk1W+fPmMDgcAAAAAAMAqsnyWytvbWy/Iatl/jb1792Z0CAAAAAAAAFb37LZKBAAAAAAAAGDI8jPeAECSPijr/siXWgIAAAAA8Dwx4w0AAAAAAACwAhJvAAAAAAAAgBWQeAMAAAAAAACsgMQbAAAAAAAAYAUk3gAAAAAAAAArYFdTAC+ECfsvyt75dkaHAQAvlIHl82R0CAAAAFkaM94AAAAAAAAAKyDxBgAAAAAAAFgBiTcAAAAAAADACki8AQAAAAAAAFZA4g0AAAAAAACwAhJvAJ7YsGHDVK5cuYfWCQsLU5MmTYzvwcHB6tOnj1XjAgAAAAAgMyDxBvxLnT9/Xr1795aPj4/s7e2VP39+Va9eXV999ZVu3LhhtX6XLFmiESNGWK19AAAAAAAyC5uMDgDA8/f777+rWrVqypUrl0aPHq2AgAAlJSXp2LFjmjNnjgoUKKBGjRpZpe/cuXNbpV0AAAAAADIbZrwB/0LdunWTjY2Ndu/erRYtWsjf318BAQFq1qyZfvrpJzVs2FCSFBsbq8aNG8vZ2Vk5c+ZUixYt9Oeff6Zqb/r06fLy8pKjo6OaN2+uK1euPLDvfy419fb21ujRo9WxY0e5uLiocOHCmjFjxrO+ZAAAAAAAnjsSb8C/zMWLF7VmzRp1795dTk5OadYxmUwym81q0qSJLl26pKioKK1du1YnTpxQy5YtLer+9ttv+u677/Tjjz9q1apVio6OVvfu3R8rpvHjxyswMFD79u1Tt27d9N577+nIkSNp1k1MTFR8fLzFBwAAAACAzIjEG/Av89tvv8lsNsvPz8+iPE+ePHJ2dpazs7MGDBigdevW6cCBA/rmm29UsWJFvfzyy5o/f76ioqK0a9cu47xbt25p7ty5KleunGrWrKkpU6Zo4cKFOn/+fLpjql+/vrp16yYfHx8NGDBAefLkUWRkZJp1x4wZI1dXV+Pj5eX1RPcBAAAAAABrI/EG/EuZTCaL77/88ouio6NVqlQpJSYmKiYmRl5eXhaJrZIlSypXrlyKiYkxygoXLqxChQoZ36tUqaKUlBQdPXo03bGUKVPGIi4PDw9duHAhzbqDBg3S1atXjc+ZM2fS3Q8AAAAAAM8TmysA/zI+Pj4ymUyplnIWK1ZMkuTg4CBJMpvNqZJzDyu/596xh9X5pxw5cqRqIyUlJc26dnZ2srOzS3fbAAAAAABkFGa8Af8y7u7uqlu3rqZOnaqEhIQH1itZsqRiY2MtZpQdPnxYV69elb+/v1EWGxurc+fOGd+3b9+ubNmyydfX1zoXAAAAAABAFkHiDfgXmjZtmpKSkhQYGKhFixYpJiZGR48e1ddff60jR44oe/bsqlOnjsqUKaM2bdpo7969+uWXX9S+fXsFBQUpMDDQaMve3l4dOnTQ/v37tXnzZvXq1UstWrSQh4dHBl4hAAAAAAAZj6WmwL/QSy+9pH379mn06NEaNGiQ/vjjD9nZ2alkyZLq16+funXrJpPJpGXLlqlnz56qWbOmsmXLpnr16mnKlCkWbfn4+Khp06aqX7++Ll26pPr162vatGkZdGUAAAAAAGQeJrPZbM7oIADgScXHx8vV1VVDN/0ue2eXjA4HAF4oA8vnyegQAAAAMp17f4devXpVOXPmfGhdlpoCAAAAAAAAVkDiDQAAAAAAALACEm8AAAAAAACAFZB4AwAAAAAAAKyAxBsAAAAAAABgBTYZHQAAPAsflHV/5G4yAAAAAAA8T8x4AwAAAAAAAKyAxBsAAAAAAABgBSTeAAAAAAAAACsg8QYAAAAAAABYAZsrAHghTNh/UfbOtzM6DACwmoHl82R0CAAAAHhMzHgDAAAAAAAArIDEGwAAAAAAAGAFJN4AAAAAAAAAKyDxBgAAAAAAAFgBiTcAAAAAAADACki8AQAAAAAAAFZA4g0ZytvbWxMnTjS+m0wmLVu2LMPiAQAAAAAAeFZIvGVyYWFhMplMqT716tVLdxvBwcHq06eP9YJ8huLi4vTaa69ldBiP5OfnJ1tbW509e9ai/NSpUzKZTIqOjrYoDwsLU5MmTZ5fgFbg6empsWPHWpQNGDBAJpNJ69evtyivXbu2Wrdu/TzDAwAAAAAg0yHxlgXUq1dPcXFxFp9vv/32mfZhNpuVlJT0TNu8Jzk5WSkpKemq6+HhITs7O6vEcc/t27ef6vwtW7bo1q1bat68uSIiIp5NUOn0tLE/jeDgYG3cuNGiLDIyUl5eXhblt2/f1vbt2xUSEvK8QwQAAAAAIFMh8ZYF2NnZycPDw+Lj5uYm6W7iw9bWVps3bzbqjx8/Xnny5FFcXJzCwsIUFRWlSZMmGbPlTp06pcjISJlMJq1evVqBgYGys7PT5s2bdeLECTVu3Fj58+eXs7OzKlWqpHXr1lnEc/nyZbVv315ubm5ydHTUa6+9puPHjxvHIyIilCtXLq1YsUIlS5aUnZ2dTp8+rQsXLqhhw4ZycHBQ0aJFtWDBglTXev9S03uzx5YsWaKQkBA5OjqqbNmy2r59u1H/4sWLeuutt1SoUCE5OjoqICAgVVIyODhYPXr00AcffKA8efKobt266tixoxo0aGBRLykpSR4eHpozZ85Dx2P27Nlq3bq12rVrpzlz5shsNhvHihYtKkkqX768TCaTgoODNWzYMM2dO1f/+9//jDGIjIyUJB08eFC1atWSg4OD3N3d9c477+j69etGe/dmyo0ZM0YFChSQr69vuu6LJG3btk01a9aUg4ODvLy81KtXLyUkJEiS/vvf/yogICDVtVWsWFEff/xxmtcdEhKirVu3Ggnaa9euad++fRo4cKBxPZK0c+dO3bx500i8LV68WKVKlZKdnZ28vb01fvx4i3Yf9fsEAAAAAEBWReIti7u3jLRdu3a6evWq9u/fr8GDB2vmzJny9PTUpEmTVKVKFXXp0sWYLefl5WWc379/f40ZM0YxMTEqU6aMrl+/rvr162vdunXat2+fQkND1bBhQ8XGxhrnhIWFaffu3Vq+fLm2b98us9ms+vXr686dO0adGzduaMyYMZo1a5YOHTqkfPnyKSwsTKdOndKGDRv0ww8/aNq0abpw4cIjr3Hw4MHq16+foqOj5evrq7feestI/ty6dUsVK1bUihUr9Ouvv+qdd95Ru3bttHPnTos25s6dKxsbG23dulXTp09X586dtWrVKsXFxRl1Vq5cqevXr6tFixYPjOXatWv6/vvv1bZtW9WtW1cJCQkWSadffvlFkrRu3TrFxcVpyZIl6tevn1q0aGExc7Fq1aq6ceOG6tWrJzc3N+3atUvff/+91q1bpx49elj0uX79esXExGjt2rVasWJFuu7LwYMHFRoaqqZNm+rAgQNatGiRtmzZYrTdsWNHHT58WLt27TLaO3DggPbt26ewsLA0rz0kJETXr183ztm8ebN8fX315ptvateuXbpx44YkaePGjSpUqJB8fHy0Z88etWjRQq1atdLBgwc1bNgwDRkyxGKmYHp+n+6XmJio+Ph4iw8AAAAAAJmRTUYHgEdbsWKFnJ2dLcoGDBigIUOGSJJGjhypdevW6Z133tGhQ4fUrl07vfHGG5IkV1dX2draytHRUR4eHqna/u9//6u6desa393d3VW2bFnj+8iRI7V06VItX75cPXr00PHjx7V8+XJt3bpVVatWlSQtWLBAXl5eWrZsmZo3by5JunPnjqZNm2a0dezYMf3888/asWOHXn75ZUl3Z475+/s/8vr79eun119/XZI0fPhwlSpVSr/99ptKlCihggULql+/fkbdnj17atWqVfr++++NfiTJx8dHn376qUW7fn5+mj9/vvr37y9JCg8PV/PmzVPd6/stXLhQxYsXV6lSpSRJrVq10uzZs43ZXXnz5jXu4/3328HBQYmJiRZlc+fO1c2bNzVv3jw5OTlJkqZOnaqGDRtq7Nixyp8/vyTJyclJs2bNkq2traS7MwEfdV/GjRun1q1bG+/2K168uCZPnqygoCB9+eWXKlSokEJDQxUeHq5KlSoZ1x8UFKRixYqlee3FixdXwYIFFRkZqSpVqigyMlJBQUHKly+fihUrpq1bt6pu3bqKjIw07seECRNUu3Zt43fV19dXhw8f1rhx4xQWFpbu36f7jRkzRsOHD3/gGAEAAAAAkFkw4y0LCAkJUXR0tMWne/fuxnFbW1t9/fXXWrx4sW7evGmxS+ijBAYGWnxPSEhQ//79VbJkSeXKlUvOzs46cuSIMeMtJiZGNjY2Fkktd3d3+fn5KSYmxiKmMmXKGN/vnXd/fyVKlFCuXLkeGeP97Xh6ekqSMVMuOTlZo0aNUpkyZeTu7i5nZ2etWbPGYoZeWtcpSZ07d1Z4eLjR3k8//aSOHTs+NJbZs2erbdu2xve2bdtqyZIlunLlyiOv459iYmJUtmxZI+kmSdWqVVNKSoqOHj1qlAUEBBhJt/s97L7s2bNHERERcnZ2Nj6hoaFKSUnRyZMnJUldunTRt99+q1u3bunOnTtasGDBI68/ODjYmOEXGRmp4OBgSVJQUJAiIyOVmJioHTt2qFatWsY1VqtWzaKNatWq6fjx40pOTk7379P9Bg0apKtXrxqfM2fOPDRmAAAAAAAyCjPesgAnJyf5+Pg8tM62bdskSZcuXdKlS5cskjmPavt+H374oVavXq3PPvtMPj4+cnBw0Jtvvmm81P/+95ndz2w2y2QyGd8dHBwsvt877/6y9MqRI4fx873z723WMH78eH3++eeaOHGiAgIC5OTkpD59+qTahCCt+9G+fXsNHDhQ27dv1/bt2+Xt7a0aNWo8MI7Dhw9r586d2rVrlwYMGGCUJycn69tvv9V77733WNf1z3t2v/vLHzSWD7svKSkpevfdd9WrV69U5xUuXFiS1LBhQ9nZ2Wnp0qWys7NTYmKimjVr9tCYQ0JC1Lt3b128eFH79u1TzZo1Jd1NvE2ZMkWvvvqqxfvd0rrG+3+H0vv7dD87Ozurb8ABAAAAAMCzQOLtBXDixAm9//77mjlzpr777ju1b99e69evV7Zsdyc02traKjk5OV1tbd68WWFhYcZS1evXrxtLGyWpZMmSSkpK0s6dO42lgRcvXtSxY8ceumzU399fSUlJ2r17typXrixJOnr06BPNFPtnvI0bNzZmoaWkpOj48ePpWsLq7u6uJk2aKDw8XNu3b9fbb7/90PqzZ89WzZo19cUXX1iUz58/X7Nnz9Z7771nzEz75/1OawxKliypuXPnKiEhwUiubd26VdmyZZOvr+8j43+YChUq6NChQw9N2NrY2KhDhw4KDw+XnZ2dWrVqJUdHx4e2GxISooSEBE2YMEHFixc3lsMGBQWpQ4cO+umnn1S0aFEVKVLEuMYtW7ZYtLFt2zb5+voqe/bsT/z7BAAAAABAVsBS0ywgMTFR58+ft/j8/fffku4meNq1a6dXX31Vb7/9tsLDw/Xrr79a7Bzp7e2tnTt36tSpU/r777+NWVFp8fHx0ZIlSxQdHa39+/erdevWFvWLFy+uxo0bq0uXLtqyZYv279+vtm3bqmDBgmrcuPED2/Xz81O9evXUpUsX7dy5U3v27FHnzp3l4ODwVPfGx8dHa9eu1bZt2xQTE6N3331X58+fT/f5nTt31ty5cxUTE6MOHTo8sN6dO3c0f/58vfXWWypdurTFp3PnztqzZ4/279+vfPnyycHBQatWrdKff/6pq1evSro7BgcOHNDRo0f1999/686dO2rTpo3s7e3VoUMH/frrr9q4caN69uypdu3aGQmtJzVgwABt375d3bt3V3R0tPEutZ49e6a6/g0bNujnn39+5DJTSSpWrJgKFy6sKVOmKCgoyCgvUKCAihQpoq+++sqY7SZJffv21fr16zVixAgdO3ZMc+fO1dSpU4338j3p7xMAAAAAAFkBibcsYNWqVfL09LT4VK9eXZI0atQonTp1SjNmzJAkeXh4aNasWfroo48UHR0t6e5L+O/NLsqbN2+q95/d7/PPP5ebm5uqVq2qhg0bKjQ0VBUqVLCoEx4erooVK6pBgwaqUqWKzGazVq5cabH0MS3h4eHy8vJSUFCQmjZtqnfeeUf58uV7ijsjDRkyRBUqVFBoaKiCg4Pl4eGhJk2apPv8OnXqyNPTU6GhoSpQoMAD6y1fvlwXL140ZgLer3jx4goICNDs2bNlY2OjyZMna/r06SpQoICRPOrSpYv8/PwUGBiovHnzauvWrXJ0dNTq1at16dIlVapUSW+++aZq166tqVOnPvZ9+KcyZcooKipKx48fV40aNVS+fHkNGTLEeBfc/bFXrVpVfn5+Fu9Ze5iQkBBdu3bNeL/bPUFBQbp27ZpF4q1ChQr67rvvtHDhQpUuXVoff/yx/vvf/1rsnPqkv08AAAAAAGR2JvODXrIE/AvcuHFDBQoU0Jw5c9S0adOMDue5M5vNKlGihN5991198MEHGR3OE4mPj5erq6uGbvpd9s4uGR0OAFjNwPJ5MjoEAAAA6P/+Dr169apy5sz50Lq84w3/SikpKTp//rzGjx8vV1dXNWrUKKNDeu4uXLig+fPn6+zZs498vx0AAAAAAHh8JN7wrxQbG6uiRYuqUKFCioiIkI3Nv+9RyJ8/v/LkyaMZM2bIzc0to8MBAAAAAOCF8+/LNgC6u9nBv32V9b/9+gEAAAAAsDY2VwAAAAAAAACsgBlvAF4IH5R1f+RLLQEAAAAAeJ6Y8QYAAAAAAABYAYk3AAAAAAAAwApIvAEAAAAAAABWQOINAAAAAAAAsAISbwAAAAAAAIAVsKspgBfChP0XZe98O6PDAJDFDSyfJ6NDAAAAwAuEGW8AAAAAAACAFZB4AwAAAAAAAKyAxBsAAAAAAABgBSTeAAAAAAAAACsg8QYAAAAAAABYAYk3ZDlhYWFq0qRJRoeRpuDgYPXp0yejw3gkk8mkZcuWZXQYAAAAAAC80Ei8ZQFms1l16tRRaGhoqmPTpk2Tq6urYmNjMyCyR/P29tbEiRMzOoxM5fbt2xo3bpwqVKggJycnubq6qmzZsvroo4907ty5Z9rXsGHDVK5cuWfaJgAAAAAASB8Sb1mAyWRSeHi4du7cqenTpxvlJ0+e1IABAzRp0iQVLlw4AyNEeiUmJqpu3boaPXq0wsLCtGnTJu3Zs0effvqpLl68qClTpmR0iAAAAAAA4Bkh8ZZFeHl5adKkSerXr59Onjwps9msTp06qXbt2ipatKgqV64sOzs7eXp6auDAgUpKSjLOTWvWWbly5TRs2DDju8lk0qxZs/TGG2/I0dFRxYsX1/Llyy3OWb58uYoXLy4HBweFhIRo7ty5MplMunLlyhNdU3Jysjp16qSiRYvKwcFBfn5+mjRpUqo6H3zwgXLlyiV3d3f1799fZrPZOD5v3jy5u7srMTHR4rxmzZqpffv2D+x7wIAB8vX1laOjo4oVK6YhQ4bozp07xvF7M8Xmz58vb29vubq6qlWrVrp27ZpRJyEhQe3bt5ezs7M8PT01fvz4R17z559/ri1btmjDhg3q1auXKlasKB8fH4WGhurLL7/U6NGjjbpms1mffvqpihUrJgcHB5UtW1Y//PCDcTwyMlImk0nr169XYGCgHB0dVbVqVR09elSSFBERoeHDh2v//v0ymUwymUyKiIhIM66zZ8+qZcuWcnNzk7u7uxo3bqxTp04Zx+8t7x09erTy58+vXLlyafjw4UpKStKHH36o3Llzq1ChQpozZ84zv88AAAAAAGRVJN6ykA4dOqh27dp6++23NXXqVP3666+aNGmS6tevr0qVKmn//v368ssvNXv2bI0cOfKx2x8+fLhatGihAwcOqH79+mrTpo0uXbokSTp16pTefPNNNWnSRNHR0Xr33Xc1ePDgp7qelJQUFSpUSN99950OHz6sjz/+WP/5z3/03XffGXXGjx+vOXPmaPbs2dqyZYsuXbqkpUuXGsebN2+u5ORkiyTh33//rRUrVujtt99+YN8uLi6KiIjQ4cOHNWnSJM2cOVOff/65RZ0TJ05o2bJlWrFihVasWKGoqCh98sknxvEPP/xQGzdu1NKlS7VmzRpFRkZqz549D73mb7/9VnXr1lX58uXTPG4ymYyfP/roI4WHh+vLL7/UoUOH9P7776tt27aKioqyOGfw4MEaP368du/eLRsbG3Xs2FGS1LJlS/Xt21elSpVSXFyc4uLi1LJly1R93rhxQyEhIXJ2dtamTZu0ZcsWOTs7q169erp9+7ZRb8OGDTp37pw2bdqkCRMmaNiwYWrQoIHc3Ny0c+dOde3aVV27dtWZM2ee6X3+p8TERMXHx1t8AAAAAADIjEi8ZTEzZszQ4cOH1adPH02fPl0zZsyQl5eXpk6dqhIlSqhJkyYaPny4xo8fr5SUlMdqOywsTG+99ZZ8fHw0evRoJSQk6JdffpEkffXVV/Lz89O4cePk5+enVq1aKSws7KmuJUeOHBo+fLgqVaqkokWLqk2bNgoLC7NIvE2cOFGDBg1Ss2bN5O/vr6+++kqurq7GcQcHB7Vu3Vrh4eFG2YIFC1SoUCEFBwc/sO+PPvpIVatWlbe3txo2bKi+ffta9CvdTQxGRESodOnSqlGjhtq1a6f169dLkq5fv67Zs2frs88+U926dRUQEKC5c+cqOTn5odd87Ngx+fn5WZS98cYbcnZ2lrOzs6pWrSrp7my6CRMmaM6cOQoNDVWxYsUUFhamtm3bWiw3lqRRo0YpKChIJUuW1MCBA7Vt2zbdunVLDg4OcnZ2lo2NjTw8POTh4SEHB4dUMS1cuFDZsmXTrFmzFBAQIH9/f4WHhys2NlaRkZFGvdy5c2vy5Mny8/NTx44d5efnpxs3bug///mPihcvrkGDBsnW1lZbt259Zvc5LWPGjJGrq6vx8fLyeug9BwAAAAAgo9hkdAB4PPny5dM777yjZcuW6Y033tD8+fNVpUoVi5lS1apV0/Xr1/XHH3881rvfypQpY/zs5OQkFxcXXbhwQZJ09OhRVapUyaJ+5cqVn/Jq7ib0Zs2apdOnT+vmzZu6ffu2sRnA1atXFRcXpypVqhj1bWxsFBgYaLHctEuXLqpUqZLOnj2rggULKjw8XGFhYRb35J9++OEHTZw4Ub/99puuX7+upKQk5cyZ06KOt7e3XFxcjO+enp7G/Thx4oRu375tEVvu3LlTJdXS8s+4pk2bpoSEBE2ePFmbNm2SJB0+fFi3bt1S3bp1Lerevn071Wy5+8fN09NTknThwoV0j/2ePXv022+/WVyrJN26dUsnTpwwvpcqVUrZsv1frj5//vwqXbq08T179uxyd3c37pH09Pc5LYMGDdIHH3xgfI+Pjyf5BgAAAADIlEi8ZUE2Njaysbk7dGazOVUi515S6l55tmzZLBJVkizes3VPjhw5LL6bTCZj1tzD+nlS3333nd5//32NHz9eVapUkYuLi8aNG6edO3c+Vjvly5dX2bJlNW/ePIWGhurgwYP68ccfH1h/x44datWqlYYPH67Q0FC5urpq4cKFqd7R9qj78SSKFy+uI0eOWJTdS5blzp3bKLvXz08//aSCBQta1Lezs3tgnPfG6HFmO6akpKhixYpasGBBqmN58+ZNs597fT3sHj2L+5wWOzu7VPcAAAAAAIDMiMRbFleyZEktXrzYIjG2bds2ubi4GAmbvHnzKi4uzjgnPj5eJ0+efKx+SpQooZUrV1qU7d69+6li37x5s6pWrapu3boZZffPsHJ1dZWnp6d27NihmjVrSpKSkpK0Z88eVahQwaKtzp076/PPP9fZs2dVp06dh86A2rp1q4oUKWLxjrrTp08/Vuw+Pj7KkSOHduzYYcwsu3z5so4dO6agoKAHnvfWW2/po48+0r59+x74njfp7rja2dkpNjb2oe09iq2t7SOXv1aoUEGLFi1Svnz5Us1GexrP4j4DAAAAAJCV8Y63LK5bt246c+aMevbsqSNHjuh///ufhg4dqg8++MBYFlirVi3Nnz9fmzdv1q+//qoOHTooe/bsj9XPu+++qyNHjmjAgAE6duyYvvvuO2OHzIct6ZTu7pgZHR1t8bl06ZJ8fHy0e/durV69WseOHdOQIUO0a9cui3N79+6tTz75REuXLtWRI0fUrVu3NHdRbdOmjc6ePauZM2camws8iI+Pj2JjY7Vw4UKdOHFCkydPttiwIT2cnZ3VqVMnffjhh1q/fr1+/fVXhYWFWSzFTMv777+vKlWqqFatWpo0aZL27t2rkydPavXq1fr555+NcXFxcVG/fv30/vvva+7cuTpx4oT27dunL774QnPnzk13nN7e3jp58qSio6P1999/p9r9Vbp77/LkyaPGjRtr8+bNOnnypKKiotS7d2/98ccfj3Vf7vcs7jMAAAAAAFkZibcsrmDBglq5cqV++eUXlS1bVl27dlWnTp300UcfGXUGDRqkmjVrqkGDBqpfv76aNGmil1566bH6KVq0qH744QctWbJEZcqU0ZdffmnMZHrUsr/PPvtM5cuXt/gsX75cXbt2VdOmTdWyZUu9/PLLunjxosXsN0nq27ev2rdvr7CwMGM56htvvJGqj5w5c6pZs2ZydnZWkyZNHhpP48aN9f7776tHjx4qV66ctm3bpiFDhjzW/ZCkcePGqWbNmmrUqJHq1Kmj6tWrq2LFig89x97eXuvXr9fAgQMVHh6u6tWry9/fX3369FG1atW0bNkyo+6IESP08ccfa8yYMfL391doaKh+/PFHFS1aNN0xNmvWTPXq1VNISIjy5s2rb7/9NlUdR0dHbdq0SYULF1bTpk3l7++vjh076ubNm081A+5Z3WcAAAAAALIqk/lpX9SFf61Ro0bpq6++0pkzZzI6FElS3bp15e/vr8mTJ2d0KHiO4uPj5erqqqGbfpe9s8ujTwCAhxhYPk9GhwAAAIBM7t7foVevXn3khBXe8YZ0mzZtmipVqiR3d3dt3bpV48aNU48ePTI6LF26dElr1qzRhg0bNHXq1IwOBwAAAAAAQBKJNzyG48ePa+TIkbp06ZIKFy6svn37atCgQRkdlipUqKDLly9r7Nix8vPzy+hwAAAAAAAAJLHUFEAWx1JTAM8SS00BAADwKI+z1JTNFQAAAAAAAAArIPEGAAAAAAAAWAHveAPwQvigrPsjp/gCAAAAAPA8MeMNAAAAAAAAsAISbwAAAAAAAIAVkHgDAAAAAAAArIDEGwAAAAAAAGAFJN4AAAAAAAAAKyDxBgAAAAAAAFgBiTcAAAAAAADACki8AQAAAAAAAFZA4g0AAAAAAACwAhJvAAAAAAAAgBWQeAMAAAAAAACsgMQbAAAAAAAAYAU2GR0AADwNs9ksSYqPj8/gSAAAAAAA/wb3/v689/fow5B4A5ClXbx4UZLk5eWVwZEAAAAAAP5Nrl27JldX14fWIfEGIEvLnTu3JCk2NvaR/8BDxoqPj5eXl5fOnDmjnDlzZnQ4eAjGKutgrLIOxirrYKyyDsYq62Cssg7GKn3MZrOuXbumAgUKPLIuiTcAWVq2bHdfVenq6sq/GLKInDlzMlZZBGOVdTBWWQdjlXUwVlkHY5V1MFZZB2P1aOmd+MHmCgAAAAAAAIAVkHgDAAAAAAAArIDEG4Aszc7OTkOHDpWdnV1Gh4JHYKyyDsYq62Cssg7GKutgrLIOxirrYKyyDsbq2TOZ07P3KQAAAAAAAIDHwow3AAAAAAAAwApIvAEAAAAAAABWQOINAAAAAAAAsAISbwAAAAAAAIAVkHgDkKVNmzZNRYsWlb29vSpWrKjNmzdndEj/asOGDZPJZLL4eHh4GMfNZrOGDRumAgUKyMHBQcHBwTp06FAGRvzvsWnTJjVs2FAFChSQyWTSsmXLLI6nZ2wSExPVs2dP5cmTR05OTmrUqJH++OOP53gV/w6PGquwsLBUz9krr7xiUYexej7GjBmjSpUqycXFRfny5VOTJk109OhRizo8W5lDesaKZytz+PLLL1WmTBnlzJlTOXPmVJUqVfTzzz8bx3mmModHjRPPU+Y1ZswYmUwm9enTxyjjubIuEm8AsqxFixapT58+Gjx4sPbt26caNWrotddeU2xsbEaH9q9WqlQpxcXFGZ+DBw8axz799FNNmDBBU6dO1a5du+Th4aG6devq2rVrGRjxv0NCQoLKli2rqVOnpnk8PWPTp08fLV26VAsXLtSWLVt0/fp1NWjQQMnJyc/rMv4VHjVWklSvXj2L52zlypUWxxmr5yMqKkrdu3fXjh07tHbtWiUlJenVV19VQkKCUYdnK3NIz1hJPFuZQaFChfTJJ59o9+7d2r17t2rVqqXGjRsbSQCeqczhUeMk8TxlRrt27dKMGTNUpkwZi3KeKyszA0AWVblyZXPXrl0tykqUKGEeOHBgBkWEoUOHmsuWLZvmsZSUFLOHh4f5k08+Mcpu3bpldnV1NX/11VfPKUKYzWazJPPSpUuN7+kZmytXrphz5MhhXrhwoVHn7Nmz5mzZsplXrVr13GL/t/nnWJnNZnOHDh3MjRs3fuA5jFXGuXDhglmSOSoqymw282xlZv8cK7OZZyszc3NzM8+aNYtnKpO7N05mM89TZnTt2jVz8eLFzWvXrjUHBQWZe/fubTab+XfV88CMNwBZ0u3bt7Vnzx69+uqrFuWvvvqqtm3blkFRQZKOHz+uAgUKqGjRomrVqpV+//13SdLJkyd1/vx5izGzs7NTUFAQY5bB0jM2e/bs0Z07dyzqFChQQKVLl2b8MkBkZKTy5csnX19fdenSRRcuXDCOMVYZ5+rVq5Kk3LlzS+LZysz+OVb38GxlLsnJyVq4cKESEhJUpUoVnqlM6p/jdA/PU+bSvXt3vf7666pTp45FOc+V9dlkdAAA8CT+/vtvJScnK3/+/Bbl+fPn1/nz5zMoKrz88suaN2+efH199eeff2rkyJGqWrWqDh06ZIxLWmN2+vTpjAgX/196xub8+fOytbWVm5tbqjo8c8/Xa6+9pubNm6tIkSI6efKkhgwZolq1amnPnj2ys7NjrDKI2WzWBx98oOrVq6t06dKSeLYyq7TGSuLZykwOHjyoKlWq6NatW3J2dtbSpUtVsmRJ4w98nqnM4UHjJPE8ZTYLFy7U3r17tWvXrlTH+HeV9ZF4A5ClmUwmi+9mszlVGZ6f1157zfg5ICBAVapU0UsvvaS5c+caL9RlzDKvJxkbxu/5a9mypfFz6dKlFRgYqCJFiuinn35S06ZNH3geY2VdPXr00IEDB7Rly5ZUx3i2MpcHjRXPVubh5+en6OhoXblyRYsXL1aHDh0UFRVlHOeZyhweNE4lS5bkecpEzpw5o969e2vNmjWyt7d/YD2eK+thqSmALClPnjzKnj17qv/CcuHChVT/tQYZx8nJSQEBATp+/LixuyljlvmkZ2w8PDx0+/ZtXb58+YF1kDE8PT1VpEgRHT9+XBJjlRF69uyp5cuXa+PGjSpUqJBRzrOV+TxorNLCs5VxbG1t5ePjo8DAQI0ZM0Zly5bVpEmTeKYymQeNU1p4njLOnj17dOHCBVWsWFE2NjaysbFRVFSUJk+eLBsbG+N+81xZD4k3AFmSra2tKlasqLVr11qUr127VlWrVs2gqPBPiYmJiomJkaenp4oWLSoPDw+LMbt9+7aioqIYswyWnrGpWLGicuTIYVEnLi5Ov/76K+OXwS5evKgzZ87I09NTEmP1PJnNZvXo0UNLlizRhg0bVLRoUYvjPFuZx6PGKi08W5mH2WxWYmIiz1Qmd2+c0sLzlHFq166tgwcPKjo62vgEBgaqTZs2io6OVrFixXiurO05b+YAAM/MwoULzTly5DDPnj3bfPjwYXOfPn3MTk5O5lOnTmV0aP9affv2NUdGRpp///13844dO8wNGjQwu7i4GGPyySefmF1dXc1LliwxHzx40PzWW2+ZPT09zfHx8Rkc+Yvv2rVr5n379pn37dtnlmSeMGGCed++febTp0+bzeb0jU3Xrl3NhQoVMq9bt868d+9ec61atcxly5Y1JyUlZdRlvZAeNlbXrl0z9+3b17xt2zbzyZMnzRs3bjRXqVLFXLBgQcYqA7z33ntmV1dXc2RkpDkuLs743Lhxw6jDs5U5PGqseLYyj0GDBpk3bdpkPnnypPnAgQPm//znP+Zs2bKZ16xZYzabeaYyi4eNE89T5nf/rqZmM8+VtZF4A5ClffHFF+YiRYqYbW1tzRUqVDBHRUVldEj/ai1btjR7enqac+TIYS5QoID5/7V3byFRrX0cx38jngbNY9ooZiqG2QGlorBMFCvbYGJaCUZp5k1QdtIKCqyuQgu6KSHRUZKKoAORZReRUFBqhSElSVZ4oxXmTdph0vVevLzzMtva7WYze6b6fmBgnOe/nvVf87Bg/LHWTEFBgfHkyRP7+MTEhFFdXW1YLBbDz8/PyMjIMHp6etzY8e/j9u3bhqRJj5KSEsMw/t7afPjwwdi2bZsRFhZmmM1mIzc31xgYGHDD0fza/mqtxsbGjJUrVxoRERGGj4+PERsba5SUlExaB9bq3/G1dZJkWK1Wew3nlmf43lpxbnmOsrIy+2e7iIgIIzs72x66GQbnlKf4q3XifPJ8fw7eOK9cy2QYhvHvXV8HAAAAAAAA/B74jjcAAAAAAADABQjeAAAAAAAAABcgeAMAAAAAAABcgOANAAAAAAAAcAGCNwAAAAAAAMAFCN4AAAAAAAAAFyB4AwAAAAAAAFyA4A0AAAAAAABwAYI3AAAA4DdVWlqq/Pz8fzxPU1OTQkJC/vE8AAD8agjeAAAAADcoLS2VyWSSyWSSj4+PEhISVFlZqdHRUXe39sOKiorU19dn//vQoUNKTU11X0MAAHgIb3c3AAAAAPyuVq1aJavVKpvNpjt37qi8vFyjo6Oqq6tzd2t/m81mk9lsltlsdncrAAB4HK54AwAAANzEz89PFotF06dPV3FxsTZs2KArV67o06dPqqioUGRkpPz9/ZWenq6uri77du3t7TKZTGptbVVKSor8/f21ePFi9fT02Gu+dtXZiRMnFBcX981+2tralJ6erpCQEIWHhys3N1f9/f328VevXslkMunChQvKzMyUv7+/WlpaHG41bWpq0uHDh/X48WP7FX1NTU0qKytTbm6uw/6+fPkii8WixsZG599EAAA8GMEbAAAA4CHMZrNsNpv27t2rixcvqrm5WY8ePVJiYqJycnL07t07h/qqqiodO3ZMXV1dioyMVF5enmw2m9P7Hx0d1e7du9XV1aVbt27Jy8tLa9as0cTEhEPdvn37VFFRod7eXuXk5DiMFRUVac+ePZozZ44GBwc1ODiooqIilZeXq62tTYODg/ba69ev6/3791q/fr3TPQMA4MkI3gAAAAAP0NnZqbNnzyorK0t1dXWqra3VH3/8odmzZ6u+vl5ms1kNDQ0O21RXV2vFihWaN2+empub9fr1a12+fNnpHgoLC1VQUKCZM2cqNTVVDQ0N6unp0dOnTx3qdu7cqYKCAsXHxys6OtphzGw2KzAwUN7e3rJYLLJYLDKbzVqyZImSkpJ05swZe63VatW6desUGBjodM8AAHgygjcAAADATa5du6bAwED5+/srLS1NGRkZ2r59u2w2m5YuXWqv8/Hx0aJFi9Tb2+uwfVpamv15WFiYkpKSJtX8iP7+fhUXFyshIUFBQUGKj4+XJA0MDDjULVy40Kn5y8vLZbVaJUlv3rxRa2urysrKnO4XAABPR/AGAAAAuElWVpa6u7v17Nkzffz4UZcuXVJwcLAkyWQyOdQahjHpta/5X42Xl5cMw3AY+95tqKtXr9bw8LDq6+vV0dGhjo4OSdLnz58d6gICAr7bx9ds2rRJL1680L1799TS0qK4uDgtW7bMqbkAAPgZELwBAAAAbhIQEKDExETNmDFDPj4+kqTExET5+vrq7t279jqbzaYHDx4oOTnZYfv79+/bn4+MjKivr0+zZs2SJEVERGhoaMghfOvu7v5mL8PDw+rt7dXBgweVnZ2t5ORkjYyMOHVcvr6+Gh8fn/R6eHi48vPzZbVaZbVatXnzZqfmBwDgZ+Ht7gYAAAAA/F9AQIC2bt2qqqoqhYWFKTY2VjU1NRobG9OWLVscao8cOaLw8HBNmzZNBw4c0NSpU5Wfny9JyszM1Nu3b1VTU6O1a9eqra1NN27cUFBQ0Ff3GxoaqvDwcJ0+fVpRUVEaGBjQ/v37nTqGuLg4vXz5Ut3d3YqJidGUKVPk5+cn6b+3m+bm5mp8fFwlJSVOzQ8AwM+CK94AAAAAD3P06FEVFhZq48aNmj9/vp4/f66bN28qNDR0Ut2OHTu0YMECDQ4O6urVq/L19ZUkJScn69SpUzp58qRSUlLU2dmpysrKb+7Ty8tL58+f18OHDzV37lzt2rVLtbW1TvVfWFioVatWKSsrSxERETp37px9bPny5YqKilJOTs6kH2YAAOBXYzL+/MUPAAAAADxae3u7srKyNDIyopCQEHe380PGxsYUHR2txsZGFRQUuLsdAABciltNAQAAALjcxMSEhoaGdPz4cQUHBysvL8/dLQEA4HIEbwAAAABcbmBgQPHx8YqJiVFTU5O8vflXBADw6+NWUwAAAAAAAMAF+HEFAAAAAAAAwAUI3gAAAAAAAAAXIHgDAAAAAAAAXIDgDQAAAAAAAHABgjcAAAAAAADABQjeAAAAAAAAABcgeAMAAAAAAABcgOANAAAAAAAAcIH/AHkBfx4iMWf4AAAAAElFTkSuQmCC",
      "text/plain": [
       "<Figure size 1200x400 with 1 Axes>"
      ]
     },
     "metadata": {},
     "output_type": "display_data"
    }
   ],
   "source": [
    "pop= df.sort_values('popularity', ascending=False)\n",
    "import matplotlib.pyplot as plt\n",
    "plt.figure(figsize=(12,4))\n",
    "\n",
    "plt.barh(pop['name'].head(10),pop['popularity'].head(10), align='center',\n",
    "        color='skyblue')\n",
    "plt.gca().invert_yaxis()\n",
    "plt.xlabel(\"Popularity\")\n",
    "plt.title(\"Popular Drama\")\n",
    "plt.show()"
   ]
  },
  {
   "cell_type": "code",
   "execution_count": 242,
   "id": "5fb2a278-0b94-49ec-bcdc-4b7e96dd68bd",
   "metadata": {},
   "outputs": [
    {
     "data": {
      "image/png": "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",
      "text/plain": [
       "<Figure size 1200x400 with 1 Axes>"
      ]
     },
     "metadata": {},
     "output_type": "display_data"
    }
   ],
   "source": [
    "q_drama = q_drama.sort_values('score', ascending=False)\n",
    "import matplotlib.pyplot as plt\n",
    "plt.figure(figsize=(12,4))\n",
    "\n",
    "plt.barh(q_drama['name'].head(10), q_drama['score'].head(10), align='center',\n",
    "        color = 'lightgreen')\n",
    "plt.gca().invert_yaxis()\n",
    "plt.xlabel(\"rating_count, average_rating\")\n",
    "plt.title(\"Rating Drama\")\n",
    "plt.show()"
   ]
  },
  {
   "cell_type": "code",
   "execution_count": 243,
   "id": "2c53a84e-5d31-47fb-a955-503e532b258a",
   "metadata": {},
   "outputs": [],
   "source": [
    "# ids를 실제 값으로 변경하기\n",
    "def translate_ids_to_names(main_df, target_column, target_df):\n",
    "    \n",
    "    # id가 str 로 되어 있어서, 리스트로 변환하기\n",
    "    for index, value in main_df[target_column].items():\n",
    "        \n",
    "        new_values = []\n",
    "        \n",
    "        if not pd.isna(value):\n",
    "            values = value.split(\", \")\n",
    "\n",
    "            for element in values:\n",
    "   \n",
    "                id = int(element)\n",
    "                name = target_df.loc[target_df[\"tmdb_id\"] == id, \"name\"].item()\n",
    "        \n",
    "                new_values.append(name)\n",
    "                \n",
    "            if not new_values:\n",
    "                print(\"ERROR\")\n",
    "            else:\n",
    "                new_values = \", \".join(new_values)\n",
    "                main_df.at[index, target_column] = new_values"
   ]
  },
  {
   "cell_type": "code",
   "execution_count": 244,
   "id": "15fa02db-1dd9-4ab3-ba3c-a0dec5957434",
   "metadata": {},
   "outputs": [],
   "source": [
    "# 장르\n",
    "translate_ids_to_names(df, \"genres_ids\", df_genres)\n",
    "# 방송\n",
    "translate_ids_to_names(df, \"networks_ids\", df_networks)\n",
    "# 감독\n",
    "translate_ids_to_names(df, \"directors_ids\", df_people)\n",
    "# 캐스팅 배우\n",
    "translate_ids_to_names(df, \"cast_ids\", df_people) "
   ]
  },
  {
   "cell_type": "code",
   "execution_count": 245,
   "id": "ba70aac2-394f-4256-a1c2-b9912801b7a2",
   "metadata": {},
   "outputs": [
    {
     "data": {
      "text/html": [
       "<div>\n",
       "<style scoped>\n",
       "    .dataframe tbody tr th:only-of-type {\n",
       "        vertical-align: middle;\n",
       "    }\n",
       "\n",
       "    .dataframe tbody tr th {\n",
       "        vertical-align: top;\n",
       "    }\n",
       "\n",
       "    .dataframe thead th {\n",
       "        text-align: right;\n",
       "    }\n",
       "</style>\n",
       "<table border=\"1\" class=\"dataframe\">\n",
       "  <thead>\n",
       "    <tr style=\"text-align: right;\">\n",
       "      <th></th>\n",
       "      <th>tmdb_id</th>\n",
       "      <th>name</th>\n",
       "      <th>original_name</th>\n",
       "      <th>keywords</th>\n",
       "      <th>poster_img_url</th>\n",
       "      <th>directors_ids</th>\n",
       "      <th>cast_ids</th>\n",
       "      <th>genres_ids</th>\n",
       "      <th>number_of_episodes</th>\n",
       "      <th>episode_run_time</th>\n",
       "      <th>synopsis</th>\n",
       "      <th>popularity</th>\n",
       "      <th>average_rating</th>\n",
       "      <th>rating_count</th>\n",
       "      <th>networks_ids</th>\n",
       "    </tr>\n",
       "  </thead>\n",
       "  <tbody>\n",
       "    <tr>\n",
       "      <th>0</th>\n",
       "      <td>208249</td>\n",
       "      <td>Game of Witches</td>\n",
       "      <td>마녀의 게임</td>\n",
       "      <td>NaN</td>\n",
       "      <td>https://image.tmdb.org/t/p/w500/9bTjPzX48VZGal...</td>\n",
       "      <td>NaN</td>\n",
       "      <td>Jang Seo-hee, Kim Gyu-sun, Oh Chang-seok</td>\n",
       "      <td>Drama, Crime, Mystery</td>\n",
       "      <td>29.0</td>\n",
       "      <td>30.0</td>\n",
       "      <td>Yu Kyung is a successful woman who is proficie...</td>\n",
       "      <td>414.151</td>\n",
       "      <td>NaN</td>\n",
       "      <td>NaN</td>\n",
       "      <td>MBC</td>\n",
       "    </tr>\n",
       "    <tr>\n",
       "      <th>1</th>\n",
       "      <td>99966</td>\n",
       "      <td>All of Us Are Dead</td>\n",
       "      <td>지금 우리 학교는</td>\n",
       "      <td>high school, bullying, based on comic, horror,...</td>\n",
       "      <td>https://image.tmdb.org/t/p/w500/6zUUtzj7aJzOdo...</td>\n",
       "      <td>JQ Lee</td>\n",
       "      <td>Park Ji-hu, Yoon Chan-young, Cho Yi-hyun, Lomo...</td>\n",
       "      <td>Action &amp; Adventure, Drama, Sci-Fi &amp; Fantasy</td>\n",
       "      <td>12.0</td>\n",
       "      <td>65.0</td>\n",
       "      <td>A high school becomes ground zero for a zombie...</td>\n",
       "      <td>398.111</td>\n",
       "      <td>8.421</td>\n",
       "      <td>2750.0</td>\n",
       "      <td>Netflix</td>\n",
       "    </tr>\n",
       "    <tr>\n",
       "      <th>2</th>\n",
       "      <td>112888</td>\n",
       "      <td>True Beauty</td>\n",
       "      <td>여신강림</td>\n",
       "      <td>high school, beauty, makeover, hidden identity...</td>\n",
       "      <td>https://image.tmdb.org/t/p/w500/sld43SJArZqlnA...</td>\n",
       "      <td>NaN</td>\n",
       "      <td>Moon Ga-young, Cha Eun-woo, Hwang In-yeop, Par...</td>\n",
       "      <td>Comedy, Drama</td>\n",
       "      <td>16.0</td>\n",
       "      <td>75.0</td>\n",
       "      <td>Lim Ju-kyung is a high school student. Since s...</td>\n",
       "      <td>396.708</td>\n",
       "      <td>8.524</td>\n",
       "      <td>1156.0</td>\n",
       "      <td>NaN</td>\n",
       "    </tr>\n",
       "    <tr>\n",
       "      <th>3</th>\n",
       "      <td>93405</td>\n",
       "      <td>Squid Game</td>\n",
       "      <td>오징어 게임</td>\n",
       "      <td>secret organization, challenge, survival, fict...</td>\n",
       "      <td>https://image.tmdb.org/t/p/w500/dDlEmu3EZ0Pgg9...</td>\n",
       "      <td>Hwang Dong-hyuk</td>\n",
       "      <td>Lee Jung-jae, Park Hae-soo, Jung Ho-yeon, Wi H...</td>\n",
       "      <td>Action &amp; Adventure, Mystery, Drama</td>\n",
       "      <td>9.0</td>\n",
       "      <td>54.0</td>\n",
       "      <td>Hundreds of cash-strapped players accept a str...</td>\n",
       "      <td>323.945</td>\n",
       "      <td>7.835</td>\n",
       "      <td>11835.0</td>\n",
       "      <td>Netflix</td>\n",
       "    </tr>\n",
       "    <tr>\n",
       "      <th>4</th>\n",
       "      <td>211174</td>\n",
       "      <td>Vengeance of the Bride</td>\n",
       "      <td>태풍의 신부</td>\n",
       "      <td>revenge, daughter–in–law, enemy, woman</td>\n",
       "      <td>https://image.tmdb.org/t/p/w500/aHUyK2XA76mn9G...</td>\n",
       "      <td>NaN</td>\n",
       "      <td>Park Ha-na, Kang Ji-sub, Park Yoon-jae, Son Ch...</td>\n",
       "      <td>Drama, Mystery, Family</td>\n",
       "      <td>30.0</td>\n",
       "      <td>40.0</td>\n",
       "      <td>The story of a woman who becomes the daughter-...</td>\n",
       "      <td>302.588</td>\n",
       "      <td>NaN</td>\n",
       "      <td>NaN</td>\n",
       "      <td>KBS2</td>\n",
       "    </tr>\n",
       "  </tbody>\n",
       "</table>\n",
       "</div>"
      ],
      "text/plain": [
       "   tmdb_id                    name original_name  \\\n",
       "0   208249         Game of Witches        마녀의 게임   \n",
       "1    99966      All of Us Are Dead     지금 우리 학교는   \n",
       "2   112888             True Beauty          여신강림   \n",
       "3    93405              Squid Game        오징어 게임   \n",
       "4   211174  Vengeance of the Bride        태풍의 신부   \n",
       "\n",
       "                                            keywords  \\\n",
       "0                                                NaN   \n",
       "1  high school, bullying, based on comic, horror,...   \n",
       "2  high school, beauty, makeover, hidden identity...   \n",
       "3  secret organization, challenge, survival, fict...   \n",
       "4             revenge, daughter–in–law, enemy, woman   \n",
       "\n",
       "                                      poster_img_url    directors_ids  \\\n",
       "0  https://image.tmdb.org/t/p/w500/9bTjPzX48VZGal...              NaN   \n",
       "1  https://image.tmdb.org/t/p/w500/6zUUtzj7aJzOdo...           JQ Lee   \n",
       "2  https://image.tmdb.org/t/p/w500/sld43SJArZqlnA...              NaN   \n",
       "3  https://image.tmdb.org/t/p/w500/dDlEmu3EZ0Pgg9...  Hwang Dong-hyuk   \n",
       "4  https://image.tmdb.org/t/p/w500/aHUyK2XA76mn9G...              NaN   \n",
       "\n",
       "                                            cast_ids  \\\n",
       "0           Jang Seo-hee, Kim Gyu-sun, Oh Chang-seok   \n",
       "1  Park Ji-hu, Yoon Chan-young, Cho Yi-hyun, Lomo...   \n",
       "2  Moon Ga-young, Cha Eun-woo, Hwang In-yeop, Par...   \n",
       "3  Lee Jung-jae, Park Hae-soo, Jung Ho-yeon, Wi H...   \n",
       "4  Park Ha-na, Kang Ji-sub, Park Yoon-jae, Son Ch...   \n",
       "\n",
       "                                    genres_ids  number_of_episodes  \\\n",
       "0                        Drama, Crime, Mystery                29.0   \n",
       "1  Action & Adventure, Drama, Sci-Fi & Fantasy                12.0   \n",
       "2                                Comedy, Drama                16.0   \n",
       "3           Action & Adventure, Mystery, Drama                 9.0   \n",
       "4                       Drama, Mystery, Family                30.0   \n",
       "\n",
       "   episode_run_time                                           synopsis  \\\n",
       "0              30.0  Yu Kyung is a successful woman who is proficie...   \n",
       "1              65.0  A high school becomes ground zero for a zombie...   \n",
       "2              75.0  Lim Ju-kyung is a high school student. Since s...   \n",
       "3              54.0  Hundreds of cash-strapped players accept a str...   \n",
       "4              40.0  The story of a woman who becomes the daughter-...   \n",
       "\n",
       "   popularity  average_rating  rating_count networks_ids  \n",
       "0     414.151             NaN           NaN          MBC  \n",
       "1     398.111           8.421        2750.0      Netflix  \n",
       "2     396.708           8.524        1156.0          NaN  \n",
       "3     323.945           7.835       11835.0      Netflix  \n",
       "4     302.588             NaN           NaN         KBS2  "
      ]
     },
     "execution_count": 245,
     "metadata": {},
     "output_type": "execute_result"
    }
   ],
   "source": [
    "df.head(5)"
   ]
  },
  {
   "cell_type": "code",
   "execution_count": 246,
   "id": "35791891-edd7-4331-a62f-2f29b7a244d0",
   "metadata": {},
   "outputs": [],
   "source": [
    "new_columns = {\"genres_ids\": \"genres\", \"networks_ids\": \"networks\", \"directors_ids\": \"directors\", \"cast_ids\": \"cast\"}\n",
    "df = df.rename(columns = new_columns)"
   ]
  },
  {
   "cell_type": "code",
   "execution_count": 247,
   "id": "1fa9c8bc-d893-4e94-9581-cb1b79c5a7c6",
   "metadata": {},
   "outputs": [
    {
     "data": {
      "text/plain": [
       "tmdb_id                  0\n",
       "name                     0\n",
       "original_name            0\n",
       "keywords               542\n",
       "poster_img_url          94\n",
       "directors             1350\n",
       "cast                    40\n",
       "genres                   0\n",
       "number_of_episodes      13\n",
       "episode_run_time       220\n",
       "synopsis                78\n",
       "popularity               0\n",
       "average_rating         387\n",
       "rating_count           387\n",
       "networks               205\n",
       "dtype: int64"
      ]
     },
     "execution_count": 247,
     "metadata": {},
     "output_type": "execute_result"
    }
   ],
   "source": [
    "df.isna().sum()"
   ]
  },
  {
   "cell_type": "code",
   "execution_count": 248,
   "id": "d63217e3-83bb-4079-8898-dfba04399b09",
   "metadata": {},
   "outputs": [],
   "source": [
    "new_df = df[['tmdb_id', 'name', 'cast', 'genres', 'synopsis']]"
   ]
  },
  {
   "cell_type": "code",
   "execution_count": 249,
   "id": "60b5281b-3998-4161-ad74-ea5e579a0962",
   "metadata": {},
   "outputs": [
    {
     "data": {
      "text/html": [
       "<div>\n",
       "<style scoped>\n",
       "    .dataframe tbody tr th:only-of-type {\n",
       "        vertical-align: middle;\n",
       "    }\n",
       "\n",
       "    .dataframe tbody tr th {\n",
       "        vertical-align: top;\n",
       "    }\n",
       "\n",
       "    .dataframe thead th {\n",
       "        text-align: right;\n",
       "    }\n",
       "</style>\n",
       "<table border=\"1\" class=\"dataframe\">\n",
       "  <thead>\n",
       "    <tr style=\"text-align: right;\">\n",
       "      <th></th>\n",
       "      <th>tmdb_id</th>\n",
       "      <th>name</th>\n",
       "      <th>cast</th>\n",
       "      <th>genres</th>\n",
       "      <th>synopsis</th>\n",
       "    </tr>\n",
       "  </thead>\n",
       "  <tbody>\n",
       "    <tr>\n",
       "      <th>0</th>\n",
       "      <td>208249</td>\n",
       "      <td>Game of Witches</td>\n",
       "      <td>Jang Seo-hee, Kim Gyu-sun, Oh Chang-seok</td>\n",
       "      <td>Drama, Crime, Mystery</td>\n",
       "      <td>Yu Kyung is a successful woman who is proficie...</td>\n",
       "    </tr>\n",
       "    <tr>\n",
       "      <th>1</th>\n",
       "      <td>99966</td>\n",
       "      <td>All of Us Are Dead</td>\n",
       "      <td>Park Ji-hu, Yoon Chan-young, Cho Yi-hyun, Lomo...</td>\n",
       "      <td>Action &amp; Adventure, Drama, Sci-Fi &amp; Fantasy</td>\n",
       "      <td>A high school becomes ground zero for a zombie...</td>\n",
       "    </tr>\n",
       "    <tr>\n",
       "      <th>2</th>\n",
       "      <td>112888</td>\n",
       "      <td>True Beauty</td>\n",
       "      <td>Moon Ga-young, Cha Eun-woo, Hwang In-yeop, Par...</td>\n",
       "      <td>Comedy, Drama</td>\n",
       "      <td>Lim Ju-kyung is a high school student. Since s...</td>\n",
       "    </tr>\n",
       "    <tr>\n",
       "      <th>3</th>\n",
       "      <td>93405</td>\n",
       "      <td>Squid Game</td>\n",
       "      <td>Lee Jung-jae, Park Hae-soo, Jung Ho-yeon, Wi H...</td>\n",
       "      <td>Action &amp; Adventure, Mystery, Drama</td>\n",
       "      <td>Hundreds of cash-strapped players accept a str...</td>\n",
       "    </tr>\n",
       "    <tr>\n",
       "      <th>4</th>\n",
       "      <td>211174</td>\n",
       "      <td>Vengeance of the Bride</td>\n",
       "      <td>Park Ha-na, Kang Ji-sub, Park Yoon-jae, Son Ch...</td>\n",
       "      <td>Drama, Mystery, Family</td>\n",
       "      <td>The story of a woman who becomes the daughter-...</td>\n",
       "    </tr>\n",
       "  </tbody>\n",
       "</table>\n",
       "</div>"
      ],
      "text/plain": [
       "   tmdb_id                    name  \\\n",
       "0   208249         Game of Witches   \n",
       "1    99966      All of Us Are Dead   \n",
       "2   112888             True Beauty   \n",
       "3    93405              Squid Game   \n",
       "4   211174  Vengeance of the Bride   \n",
       "\n",
       "                                                cast  \\\n",
       "0           Jang Seo-hee, Kim Gyu-sun, Oh Chang-seok   \n",
       "1  Park Ji-hu, Yoon Chan-young, Cho Yi-hyun, Lomo...   \n",
       "2  Moon Ga-young, Cha Eun-woo, Hwang In-yeop, Par...   \n",
       "3  Lee Jung-jae, Park Hae-soo, Jung Ho-yeon, Wi H...   \n",
       "4  Park Ha-na, Kang Ji-sub, Park Yoon-jae, Son Ch...   \n",
       "\n",
       "                                        genres  \\\n",
       "0                        Drama, Crime, Mystery   \n",
       "1  Action & Adventure, Drama, Sci-Fi & Fantasy   \n",
       "2                                Comedy, Drama   \n",
       "3           Action & Adventure, Mystery, Drama   \n",
       "4                       Drama, Mystery, Family   \n",
       "\n",
       "                                            synopsis  \n",
       "0  Yu Kyung is a successful woman who is proficie...  \n",
       "1  A high school becomes ground zero for a zombie...  \n",
       "2  Lim Ju-kyung is a high school student. Since s...  \n",
       "3  Hundreds of cash-strapped players accept a str...  \n",
       "4  The story of a woman who becomes the daughter-...  "
      ]
     },
     "execution_count": 249,
     "metadata": {},
     "output_type": "execute_result"
    }
   ],
   "source": [
    "new_df.head()"
   ]
  },
  {
   "cell_type": "code",
   "execution_count": 250,
   "id": "b0642e5d-50d7-4a33-aea2-5716b7254f25",
   "metadata": {},
   "outputs": [],
   "source": [
    "new_df = new_df.dropna()"
   ]
  },
  {
   "cell_type": "code",
   "execution_count": 251,
   "id": "77558d6c-53dd-4cf5-9141-3586f618ac4a",
   "metadata": {},
   "outputs": [
    {
     "data": {
      "text/plain": [
       "tmdb_id     0\n",
       "name        0\n",
       "cast        0\n",
       "genres      0\n",
       "synopsis    0\n",
       "dtype: int64"
      ]
     },
     "execution_count": 251,
     "metadata": {},
     "output_type": "execute_result"
    }
   ],
   "source": [
    "new_df.isna().sum()"
   ]
  },
  {
   "cell_type": "code",
   "execution_count": 252,
   "id": "dcde5709-3e08-45ba-893f-1b9a713a70b2",
   "metadata": {},
   "outputs": [
    {
     "data": {
      "text/plain": [
       "0"
      ]
     },
     "execution_count": 252,
     "metadata": {},
     "output_type": "execute_result"
    }
   ],
   "source": [
    "new_df.duplicated().sum()"
   ]
  },
  {
   "cell_type": "code",
   "execution_count": 253,
   "id": "8266e922-9cd3-48df-bc67-2bd16ce0c141",
   "metadata": {},
   "outputs": [],
   "source": [
    "def split_and_remove_spaces(x):\n",
    "    \n",
    "    x = x.split(\", \")\n",
    "    x = [i.replace(\" \", \"\") for i in x]\n",
    "        \n",
    "    return x"
   ]
  },
  {
   "cell_type": "code",
   "execution_count": 254,
   "id": "ef028dc9-cf44-4a99-aec9-f36876efd87b",
   "metadata": {},
   "outputs": [],
   "source": [
    "new_df[\"cast\"] = new_df[\"cast\"].apply(lambda x: split_and_remove_spaces(x))\n",
    "new_df[\"genres\"] = new_df[\"genres\"].apply(lambda x: split_and_remove_spaces(x))\n",
    "new_df[\"synopsis\"] = new_df[\"synopsis\"].apply(lambda x: x.split()) "
   ]
  },
  {
   "cell_type": "code",
   "execution_count": 255,
   "id": "f4630329-93db-4090-a137-23e53d74d335",
   "metadata": {},
   "outputs": [
    {
     "data": {
      "text/html": [
       "<div>\n",
       "<style scoped>\n",
       "    .dataframe tbody tr th:only-of-type {\n",
       "        vertical-align: middle;\n",
       "    }\n",
       "\n",
       "    .dataframe tbody tr th {\n",
       "        vertical-align: top;\n",
       "    }\n",
       "\n",
       "    .dataframe thead th {\n",
       "        text-align: right;\n",
       "    }\n",
       "</style>\n",
       "<table border=\"1\" class=\"dataframe\">\n",
       "  <thead>\n",
       "    <tr style=\"text-align: right;\">\n",
       "      <th></th>\n",
       "      <th>tmdb_id</th>\n",
       "      <th>name</th>\n",
       "      <th>cast</th>\n",
       "      <th>genres</th>\n",
       "      <th>synopsis</th>\n",
       "    </tr>\n",
       "  </thead>\n",
       "  <tbody>\n",
       "    <tr>\n",
       "      <th>0</th>\n",
       "      <td>208249</td>\n",
       "      <td>Game of Witches</td>\n",
       "      <td>[JangSeo-hee, KimGyu-sun, OhChang-seok]</td>\n",
       "      <td>[Drama, Crime, Mystery]</td>\n",
       "      <td>[Yu, Kyung, is, a, successful, woman, who, is,...</td>\n",
       "    </tr>\n",
       "    <tr>\n",
       "      <th>1</th>\n",
       "      <td>99966</td>\n",
       "      <td>All of Us Are Dead</td>\n",
       "      <td>[ParkJi-hu, YoonChan-young, ChoYi-hyun, Lomon,...</td>\n",
       "      <td>[Action&amp;Adventure, Drama, Sci-Fi&amp;Fantasy]</td>\n",
       "      <td>[A, high, school, becomes, ground, zero, for, ...</td>\n",
       "    </tr>\n",
       "    <tr>\n",
       "      <th>2</th>\n",
       "      <td>112888</td>\n",
       "      <td>True Beauty</td>\n",
       "      <td>[MoonGa-young, ChaEun-woo, HwangIn-yeop, ParkY...</td>\n",
       "      <td>[Comedy, Drama]</td>\n",
       "      <td>[Lim, Ju-kyung, is, a, high, school, student.,...</td>\n",
       "    </tr>\n",
       "    <tr>\n",
       "      <th>3</th>\n",
       "      <td>93405</td>\n",
       "      <td>Squid Game</td>\n",
       "      <td>[LeeJung-jae, ParkHae-soo, JungHo-yeon, WiHa-j...</td>\n",
       "      <td>[Action&amp;Adventure, Mystery, Drama]</td>\n",
       "      <td>[Hundreds, of, cash-strapped, players, accept,...</td>\n",
       "    </tr>\n",
       "    <tr>\n",
       "      <th>4</th>\n",
       "      <td>211174</td>\n",
       "      <td>Vengeance of the Bride</td>\n",
       "      <td>[ParkHa-na, KangJi-sub, ParkYoon-jae, SonChang...</td>\n",
       "      <td>[Drama, Mystery, Family]</td>\n",
       "      <td>[The, story, of, a, woman, who, becomes, the, ...</td>\n",
       "    </tr>\n",
       "  </tbody>\n",
       "</table>\n",
       "</div>"
      ],
      "text/plain": [
       "   tmdb_id                    name  \\\n",
       "0   208249         Game of Witches   \n",
       "1    99966      All of Us Are Dead   \n",
       "2   112888             True Beauty   \n",
       "3    93405              Squid Game   \n",
       "4   211174  Vengeance of the Bride   \n",
       "\n",
       "                                                cast  \\\n",
       "0            [JangSeo-hee, KimGyu-sun, OhChang-seok]   \n",
       "1  [ParkJi-hu, YoonChan-young, ChoYi-hyun, Lomon,...   \n",
       "2  [MoonGa-young, ChaEun-woo, HwangIn-yeop, ParkY...   \n",
       "3  [LeeJung-jae, ParkHae-soo, JungHo-yeon, WiHa-j...   \n",
       "4  [ParkHa-na, KangJi-sub, ParkYoon-jae, SonChang...   \n",
       "\n",
       "                                      genres  \\\n",
       "0                    [Drama, Crime, Mystery]   \n",
       "1  [Action&Adventure, Drama, Sci-Fi&Fantasy]   \n",
       "2                            [Comedy, Drama]   \n",
       "3         [Action&Adventure, Mystery, Drama]   \n",
       "4                   [Drama, Mystery, Family]   \n",
       "\n",
       "                                            synopsis  \n",
       "0  [Yu, Kyung, is, a, successful, woman, who, is,...  \n",
       "1  [A, high, school, becomes, ground, zero, for, ...  \n",
       "2  [Lim, Ju-kyung, is, a, high, school, student.,...  \n",
       "3  [Hundreds, of, cash-strapped, players, accept,...  \n",
       "4  [The, story, of, a, woman, who, becomes, the, ...  "
      ]
     },
     "execution_count": 255,
     "metadata": {},
     "output_type": "execute_result"
    }
   ],
   "source": [
    "new_df.head()"
   ]
  },
  {
   "cell_type": "code",
   "execution_count": 256,
   "id": "6d641153-8383-4293-bfe3-550982e3eb48",
   "metadata": {},
   "outputs": [],
   "source": [
    "# 태그 컬럼 만들기\n",
    "new_df[\"tags\"] = new_df[\"cast\"] + new_df[\"synopsis\"] + new_df[\"genres\"]"
   ]
  },
  {
   "cell_type": "code",
   "execution_count": 257,
   "id": "c361d353-9bc1-4cbb-aafa-de27c1e9e65b",
   "metadata": {},
   "outputs": [],
   "source": [
    "main_df = new_df[[\"tmdb_id\", \"name\", \"tags\"]]"
   ]
  },
  {
   "cell_type": "code",
   "execution_count": 258,
   "id": "03b8068f-05b2-4424-95b6-3d84e967aa8b",
   "metadata": {},
   "outputs": [
    {
     "data": {
      "text/html": [
       "<div>\n",
       "<style scoped>\n",
       "    .dataframe tbody tr th:only-of-type {\n",
       "        vertical-align: middle;\n",
       "    }\n",
       "\n",
       "    .dataframe tbody tr th {\n",
       "        vertical-align: top;\n",
       "    }\n",
       "\n",
       "    .dataframe thead th {\n",
       "        text-align: right;\n",
       "    }\n",
       "</style>\n",
       "<table border=\"1\" class=\"dataframe\">\n",
       "  <thead>\n",
       "    <tr style=\"text-align: right;\">\n",
       "      <th></th>\n",
       "      <th>tmdb_id</th>\n",
       "      <th>name</th>\n",
       "      <th>tags</th>\n",
       "    </tr>\n",
       "  </thead>\n",
       "  <tbody>\n",
       "    <tr>\n",
       "      <th>0</th>\n",
       "      <td>208249</td>\n",
       "      <td>Game of Witches</td>\n",
       "      <td>[JangSeo-hee, KimGyu-sun, OhChang-seok, Yu, Ky...</td>\n",
       "    </tr>\n",
       "    <tr>\n",
       "      <th>1</th>\n",
       "      <td>99966</td>\n",
       "      <td>All of Us Are Dead</td>\n",
       "      <td>[ParkJi-hu, YoonChan-young, ChoYi-hyun, Lomon,...</td>\n",
       "    </tr>\n",
       "    <tr>\n",
       "      <th>2</th>\n",
       "      <td>112888</td>\n",
       "      <td>True Beauty</td>\n",
       "      <td>[MoonGa-young, ChaEun-woo, HwangIn-yeop, ParkY...</td>\n",
       "    </tr>\n",
       "    <tr>\n",
       "      <th>3</th>\n",
       "      <td>93405</td>\n",
       "      <td>Squid Game</td>\n",
       "      <td>[LeeJung-jae, ParkHae-soo, JungHo-yeon, WiHa-j...</td>\n",
       "    </tr>\n",
       "    <tr>\n",
       "      <th>4</th>\n",
       "      <td>211174</td>\n",
       "      <td>Vengeance of the Bride</td>\n",
       "      <td>[ParkHa-na, KangJi-sub, ParkYoon-jae, SonChang...</td>\n",
       "    </tr>\n",
       "  </tbody>\n",
       "</table>\n",
       "</div>"
      ],
      "text/plain": [
       "   tmdb_id                    name  \\\n",
       "0   208249         Game of Witches   \n",
       "1    99966      All of Us Are Dead   \n",
       "2   112888             True Beauty   \n",
       "3    93405              Squid Game   \n",
       "4   211174  Vengeance of the Bride   \n",
       "\n",
       "                                                tags  \n",
       "0  [JangSeo-hee, KimGyu-sun, OhChang-seok, Yu, Ky...  \n",
       "1  [ParkJi-hu, YoonChan-young, ChoYi-hyun, Lomon,...  \n",
       "2  [MoonGa-young, ChaEun-woo, HwangIn-yeop, ParkY...  \n",
       "3  [LeeJung-jae, ParkHae-soo, JungHo-yeon, WiHa-j...  \n",
       "4  [ParkHa-na, KangJi-sub, ParkYoon-jae, SonChang...  "
      ]
     },
     "execution_count": 258,
     "metadata": {},
     "output_type": "execute_result"
    }
   ],
   "source": [
    "main_df.head()"
   ]
  },
  {
   "cell_type": "code",
   "execution_count": 259,
   "id": "bc923dd7-7715-48c0-ab16-ad056dee9ef6",
   "metadata": {},
   "outputs": [
    {
     "name": "stderr",
     "output_type": "stream",
     "text": [
      "C:\\Users\\yoonmiri\\AppData\\Local\\Temp\\ipykernel_2164\\3995551907.py:2: SettingWithCopyWarning: \n",
      "A value is trying to be set on a copy of a slice from a DataFrame.\n",
      "Try using .loc[row_indexer,col_indexer] = value instead\n",
      "\n",
      "See the caveats in the documentation: https://pandas.pydata.org/pandas-docs/stable/user_guide/indexing.html#returning-a-view-versus-a-copy\n",
      "  main_df[\"tags\"] = main_df[\"tags\"].apply(lambda x: \" \".join(x))\n"
     ]
    }
   ],
   "source": [
    "main_df[\"tags\"] = main_df[\"tags\"].apply(lambda x: \" \".join(x))"
   ]
  },
  {
   "cell_type": "code",
   "execution_count": 260,
   "id": "38a7bf5b-3ff9-4c15-b5a5-b166f6b1d90c",
   "metadata": {},
   "outputs": [
    {
     "data": {
      "text/html": [
       "<div>\n",
       "<style scoped>\n",
       "    .dataframe tbody tr th:only-of-type {\n",
       "        vertical-align: middle;\n",
       "    }\n",
       "\n",
       "    .dataframe tbody tr th {\n",
       "        vertical-align: top;\n",
       "    }\n",
       "\n",
       "    .dataframe thead th {\n",
       "        text-align: right;\n",
       "    }\n",
       "</style>\n",
       "<table border=\"1\" class=\"dataframe\">\n",
       "  <thead>\n",
       "    <tr style=\"text-align: right;\">\n",
       "      <th></th>\n",
       "      <th>tmdb_id</th>\n",
       "      <th>name</th>\n",
       "      <th>tags</th>\n",
       "    </tr>\n",
       "  </thead>\n",
       "  <tbody>\n",
       "    <tr>\n",
       "      <th>0</th>\n",
       "      <td>208249</td>\n",
       "      <td>Game of Witches</td>\n",
       "      <td>JangSeo-hee KimGyu-sun OhChang-seok Yu Kyung i...</td>\n",
       "    </tr>\n",
       "    <tr>\n",
       "      <th>1</th>\n",
       "      <td>99966</td>\n",
       "      <td>All of Us Are Dead</td>\n",
       "      <td>ParkJi-hu YoonChan-young ChoYi-hyun Lomon YooI...</td>\n",
       "    </tr>\n",
       "    <tr>\n",
       "      <th>2</th>\n",
       "      <td>112888</td>\n",
       "      <td>True Beauty</td>\n",
       "      <td>MoonGa-young ChaEun-woo HwangIn-yeop ParkYou-n...</td>\n",
       "    </tr>\n",
       "    <tr>\n",
       "      <th>3</th>\n",
       "      <td>93405</td>\n",
       "      <td>Squid Game</td>\n",
       "      <td>LeeJung-jae ParkHae-soo JungHo-yeon WiHa-jun O...</td>\n",
       "    </tr>\n",
       "    <tr>\n",
       "      <th>4</th>\n",
       "      <td>211174</td>\n",
       "      <td>Vengeance of the Bride</td>\n",
       "      <td>ParkHa-na KangJi-sub ParkYoon-jae SonChang-min...</td>\n",
       "    </tr>\n",
       "  </tbody>\n",
       "</table>\n",
       "</div>"
      ],
      "text/plain": [
       "   tmdb_id                    name  \\\n",
       "0   208249         Game of Witches   \n",
       "1    99966      All of Us Are Dead   \n",
       "2   112888             True Beauty   \n",
       "3    93405              Squid Game   \n",
       "4   211174  Vengeance of the Bride   \n",
       "\n",
       "                                                tags  \n",
       "0  JangSeo-hee KimGyu-sun OhChang-seok Yu Kyung i...  \n",
       "1  ParkJi-hu YoonChan-young ChoYi-hyun Lomon YooI...  \n",
       "2  MoonGa-young ChaEun-woo HwangIn-yeop ParkYou-n...  \n",
       "3  LeeJung-jae ParkHae-soo JungHo-yeon WiHa-jun O...  \n",
       "4  ParkHa-na KangJi-sub ParkYoon-jae SonChang-min...  "
      ]
     },
     "execution_count": 260,
     "metadata": {},
     "output_type": "execute_result"
    }
   ],
   "source": [
    "main_df.head()"
   ]
  },
  {
   "cell_type": "code",
   "execution_count": 261,
   "id": "2a1bfaf5-252e-4c9f-af28-eb94a58fd9c5",
   "metadata": {},
   "outputs": [
    {
     "name": "stderr",
     "output_type": "stream",
     "text": [
      "C:\\Users\\yoonmiri\\AppData\\Local\\Temp\\ipykernel_2164\\1479730451.py:1: SettingWithCopyWarning: \n",
      "A value is trying to be set on a copy of a slice from a DataFrame.\n",
      "Try using .loc[row_indexer,col_indexer] = value instead\n",
      "\n",
      "See the caveats in the documentation: https://pandas.pydata.org/pandas-docs/stable/user_guide/indexing.html#returning-a-view-versus-a-copy\n",
      "  main_df[\"tags\"] = main_df[\"tags\"].apply(lambda x: x.lower())\n"
     ]
    }
   ],
   "source": [
    "main_df[\"tags\"] = main_df[\"tags\"].apply(lambda x: x.lower())"
   ]
  },
  {
   "cell_type": "code",
   "execution_count": 262,
   "id": "785e866b-dc5f-4c06-ba1c-92d6078c2c38",
   "metadata": {},
   "outputs": [
    {
     "data": {
      "text/plain": [
       "'jangseo-hee kimgyu-sun ohchang-seok yu kyung is a successful woman who is proficient enough to become an executive director of chunha group when she started as a secretary. she recently found out her daughter is alive, so she plans to get her back and take her revenge. meanwhile, hye soo is a strong girl who faces challenges head-on. she has a daughter with ji ho, and she would do anything for her. however, she gets tragically betrayed by ji ho, the love of her life, over power and money. how will those two mothers end their fierce revenge? drama crime mystery'"
      ]
     },
     "execution_count": 262,
     "metadata": {},
     "output_type": "execute_result"
    }
   ],
   "source": [
    "main_df[\"tags\"][0]"
   ]
  },
  {
   "cell_type": "code",
   "execution_count": 263,
   "id": "6d76e8dc-6af5-41c3-9ba1-9dec2c6c24c1",
   "metadata": {},
   "outputs": [],
   "source": [
    "# PorterStemmer를 사용해 단어의 형태를 표준화하여 기본 형태로 변환\n",
    "ps = PorterStemmer()\n",
    "\n",
    "def get_stem(text):\n",
    "    y = []\n",
    "    \n",
    "    for i in text.split():\n",
    "        y.append(ps.stem(i))\n",
    "        \n",
    "    return  \" \".join(y) "
   ]
  },
  {
   "cell_type": "code",
   "execution_count": 264,
   "id": "e3fb8fef-a72a-4cf1-9481-d8f533588c62",
   "metadata": {},
   "outputs": [
    {
     "name": "stderr",
     "output_type": "stream",
     "text": [
      "C:\\Users\\yoonmiri\\AppData\\Local\\Temp\\ipykernel_2164\\937532948.py:1: SettingWithCopyWarning: \n",
      "A value is trying to be set on a copy of a slice from a DataFrame.\n",
      "Try using .loc[row_indexer,col_indexer] = value instead\n",
      "\n",
      "See the caveats in the documentation: https://pandas.pydata.org/pandas-docs/stable/user_guide/indexing.html#returning-a-view-versus-a-copy\n",
      "  main_df[\"tags\"] = main_df[\"tags\"].apply(get_stem)\n"
     ]
    }
   ],
   "source": [
    "main_df[\"tags\"] = main_df[\"tags\"].apply(get_stem)"
   ]
  },
  {
   "cell_type": "code",
   "execution_count": 265,
   "id": "be57e621-02bd-4f5c-a2b5-1a12d89f4f21",
   "metadata": {},
   "outputs": [
    {
     "data": {
      "text/plain": [
       "'jangseo-he kimgyu-sun ohchang-seok yu kyung is a success woman who is profici enough to becom an execut director of chunha group when she start as a secretary. she recent found out her daughter is alive, so she plan to get her back and take her revenge. meanwhile, hye soo is a strong girl who face challeng head-on. she ha a daughter with ji ho, and she would do anyth for her. however, she get tragic betray by ji ho, the love of her life, over power and money. how will those two mother end their fierc revenge? drama crime mysteri'"
      ]
     },
     "execution_count": 265,
     "metadata": {},
     "output_type": "execute_result"
    }
   ],
   "source": [
    "main_df[\"tags\"][0]"
   ]
  },
  {
   "cell_type": "code",
   "execution_count": 266,
   "id": "0f213440-79d4-4e07-a47b-3cb3e8b84a01",
   "metadata": {},
   "outputs": [],
   "source": [
    "cv = CountVectorizer(max_features = 5000, stop_words = \"english\")"
   ]
  },
  {
   "cell_type": "code",
   "execution_count": 267,
   "id": "b61e6f22-6476-49f8-9748-0d83752cc5a4",
   "metadata": {},
   "outputs": [],
   "source": [
    "vectors = cv.fit_transform(main_df[\"tags\"]).toarray()"
   ]
  },
  {
   "cell_type": "code",
   "execution_count": 268,
   "id": "1c624ff0-ed7f-462c-823c-7e0c3eca44e4",
   "metadata": {},
   "outputs": [
    {
     "data": {
      "text/plain": [
       "array([[0, 0, 0, ..., 0, 0, 0],\n",
       "       [0, 0, 0, ..., 1, 0, 1],\n",
       "       [0, 0, 0, ..., 0, 0, 0],\n",
       "       ...,\n",
       "       [0, 0, 0, ..., 0, 0, 0],\n",
       "       [1, 0, 0, ..., 1, 0, 0],\n",
       "       [0, 0, 0, ..., 0, 0, 0]], dtype=int64)"
      ]
     },
     "execution_count": 268,
     "metadata": {},
     "output_type": "execute_result"
    }
   ],
   "source": [
    "vectors"
   ]
  },
  {
   "cell_type": "code",
   "execution_count": 269,
   "id": "506859fc-dbab-4bb4-a7f9-a6b4d9d1fd88",
   "metadata": {},
   "outputs": [
    {
     "data": {
      "text/plain": [
       "array(['00', '000', '05', ..., 'zero', 'zin', 'zombi'], dtype=object)"
      ]
     },
     "execution_count": 269,
     "metadata": {},
     "output_type": "execute_result"
    }
   ],
   "source": [
    "cv.get_feature_names_out()"
   ]
  },
  {
   "cell_type": "code",
   "execution_count": 270,
   "id": "2efb7027-5025-489c-9c7e-b24f0591fbb1",
   "metadata": {},
   "outputs": [],
   "source": [
    "# 벡터화된 데이터 코사인 유사도 계산\n",
    "similarity = cosine_similarity(vectors)"
   ]
  },
  {
   "cell_type": "code",
   "execution_count": 271,
   "id": "73230d9b-e5bd-4fef-9777-011db966bf79",
   "metadata": {},
   "outputs": [],
   "source": [
    "# 추천하기 함수\n",
    "def recommend(df):    \n",
    "    \n",
    "    # 입력된 드라마 이름으로 해당 드라마의 인덱스를 찾는다.\n",
    "    df_index = main_df[main_df[\"name\"] == df].index[0]    \n",
    "    \n",
    "    # 해당 드라마와 다른 드라마들 간의 유사도를 가져온다.\n",
    "    distances = similarity[df_index]    \n",
    "    \n",
    "    # 유사도 값을 기준으로 상위 10개의 비슷한 드라마를 찾는다.\n",
    "    df_list = sorted(list(enumerate(distances)), reverse=True, key=lambda x: x[1])[1:11]    \n",
    "    \n",
    "    # 추천된 드라마의 이름을 출력한다.\n",
    "    for i in df_list:\n",
    "        print(main_df.iloc[i[0]][\"name\"])"
   ]
  },
  {
   "cell_type": "code",
   "execution_count": 272,
   "id": "2815e481-855c-40bb-b4ac-b05b0feb73b7",
   "metadata": {},
   "outputs": [
    {
     "name": "stdout",
     "output_type": "stream",
     "text": [
      "Lie After Lie\n",
      "We Are Dating Now\n",
      "Man Who Dies to Live\n",
      "My Wonderful Life\n",
      "Finding Dorothy\n",
      "Jang Bo Ri Is Here\n",
      "My Name\n",
      "The Witch Store\n",
      "Five Fingers\n",
      "Vengeance of the Bride\n"
     ]
    }
   ],
   "source": [
    "recommend(\"Game of Witches\")"
   ]
  },
  {
   "cell_type": "code",
   "execution_count": 273,
   "id": "1cfd0e54-fa7b-4b47-a2cd-05d37191dc81",
   "metadata": {},
   "outputs": [
    {
     "name": "stdout",
     "output_type": "stream",
     "text": [
      "A Man's Story\n",
      "Did We Really Love?\n",
      "First Love, Again\n",
      "I Am Legend\n",
      "28 Faces of the Moon\n",
      "Kill It\n",
      "Ruby Ring\n",
      "Star in My Heart\n",
      "Legend of the Patriots\n",
      "Lookism\n"
     ]
    }
   ],
   "source": [
    "recommend(\"Lie After Lie\")"
   ]
  },
  {
   "cell_type": "code",
   "execution_count": 274,
   "id": "851468ca-6178-40f0-b911-15430d8457f7",
   "metadata": {},
   "outputs": [
    {
     "name": "stdout",
     "output_type": "stream",
     "text": [
      "All of Us Are Dead\n",
      "My Fantastic Funeral\n",
      "Finding Dorothy\n",
      "The Worst Evil\n",
      "Bad and Crazy\n",
      "It's Okay, That's Love\n",
      "Big Bet\n",
      "Lady Cha Dal-Rae's Lover\n",
      "Seasons of Blossom\n",
      "Warrior Baek Dong Soo\n"
     ]
    }
   ],
   "source": [
    "recommend(\"Squid Game\")"
   ]
  },
  {
   "cell_type": "code",
   "execution_count": 275,
   "id": "a4aec947-aaf6-41a6-86e4-fba0fd800e01",
   "metadata": {},
   "outputs": [
    {
     "name": "stdout",
     "output_type": "stream",
     "text": [
      "Just Dance\n",
      "Squid Game\n",
      "Ultimate Weapon Alice\n",
      "Adolescence Medley\n",
      "My Strange Hero\n",
      "My Fantastic Funeral\n",
      "Sweet Home\n",
      "Seasons of Blossom\n",
      "Hi Bye, Mama!\n",
      "One More Time\n"
     ]
    }
   ],
   "source": [
    "recommend(\"All of Us Are Dead\")"
   ]
  },
  {
   "cell_type": "code",
   "execution_count": 276,
   "id": "da9f3234-7c64-4595-b808-fb306267b1dc",
   "metadata": {},
   "outputs": [],
   "source": [
    "import os"
   ]
  },
  {
   "cell_type": "code",
   "execution_count": 277,
   "id": "930b7ef2-ad03-4fb5-8676-493901b7a4ac",
   "metadata": {},
   "outputs": [
    {
     "ename": "FileExistsError",
     "evalue": "[WinError 183] 파일이 이미 있으므로 만들 수 없습니다: 'model'",
     "output_type": "error",
     "traceback": [
      "\u001b[1;31m---------------------------------------------------------------------------\u001b[0m",
      "\u001b[1;31mFileExistsError\u001b[0m                           Traceback (most recent call last)",
      "Cell \u001b[1;32mIn[277], line 1\u001b[0m\n\u001b[1;32m----> 1\u001b[0m os\u001b[38;5;241m.\u001b[39mmakedirs(\u001b[38;5;124m'\u001b[39m\u001b[38;5;124mmodel\u001b[39m\u001b[38;5;124m'\u001b[39m)\n",
      "File \u001b[1;32m<frozen os>:225\u001b[0m, in \u001b[0;36mmakedirs\u001b[1;34m(name, mode, exist_ok)\u001b[0m\n",
      "\u001b[1;31mFileExistsError\u001b[0m: [WinError 183] 파일이 이미 있으므로 만들 수 없습니다: 'model'"
     ]
    }
   ],
   "source": [
    "os.makedirs('model')"
   ]
  },
  {
   "cell_type": "code",
   "execution_count": null,
   "id": "c0c0a790-6462-4555-8881-f7127527296c",
   "metadata": {},
   "outputs": [],
   "source": [
    "import joblib"
   ]
  },
  {
   "cell_type": "code",
   "execution_count": null,
   "id": "1ce8e612-3b1f-4b91-99b9-d087ef953037",
   "metadata": {},
   "outputs": [],
   "source": [
    "joblib.dump(cv, 'cv_model.pkl')"
   ]
  },
  {
   "cell_type": "code",
   "execution_count": null,
   "id": "ddd894bf-bef3-4185-bbd9-ac0309a6d769",
   "metadata": {},
   "outputs": [],
   "source": [
    "joblib.dump(similarity, 'similarity_matrix.pkl')"
   ]
  },
  {
   "cell_type": "code",
   "execution_count": null,
   "id": "cdf885b5-08c7-41b9-b591-5a6a9fe66d95",
   "metadata": {
    "scrolled": true
   },
   "outputs": [],
   "source": [
    "joblib.dump(main_df, 'main_df.pkl')"
   ]
  },
  {
   "cell_type": "code",
   "execution_count": null,
   "id": "e1e1a1f6-cf55-47ab-9436-ee2866a061b6",
   "metadata": {},
   "outputs": [],
   "source": []
  },
  {
   "cell_type": "code",
   "execution_count": 300,
   "id": "44f7233b-603b-4904-bd0e-6a1931202e26",
   "metadata": {},
   "outputs": [],
   "source": [
    "import matplotlib.pyplot as plt\n",
    "import seaborn as sb\n",
    "\n",
    "%matplotlib inline\n",
    "\n",
    "import platform\n",
    "\n",
    "from matplotlib import font_manager, rc\n",
    "plt.rcParams['axes.unicode_minus'] = False\n",
    "\n",
    "if platform.system() == 'Darwin':\n",
    "    rc('font', family='AppleGothic')\n",
    "elif platform.system() == 'Windows':\n",
    "    path = \"c:/Windows/Fonts/malgun.ttf\"\n",
    "    font_name = font_manager.FontProperties(fname=path).get_name()\n",
    "    rc('font', family=font_name)\n",
    "else:\n",
    "    print('Unknown system... sorry~~~~')"
   ]
  },
  {
   "cell_type": "code",
   "execution_count": 280,
   "id": "c1899e26-59ea-4abe-b55e-3104962cd0e6",
   "metadata": {},
   "outputs": [
    {
     "data": {
      "text/plain": [
       "Index(['tmdb_id', 'name', 'original_name', 'keywords', 'poster_img_url',\n",
       "       'directors', 'cast', 'genres', 'number_of_episodes', 'episode_run_time',\n",
       "       'synopsis', 'popularity', 'average_rating', 'rating_count', 'networks'],\n",
       "      dtype='object')"
      ]
     },
     "execution_count": 280,
     "metadata": {},
     "output_type": "execute_result"
    }
   ],
   "source": [
    "df.columns"
   ]
  },
  {
   "cell_type": "code",
   "execution_count": 282,
   "id": "80b98868-efeb-4a09-b728-ceab66e5a813",
   "metadata": {},
   "outputs": [
    {
     "data": {
      "text/plain": [
       "array(['MBC', 'Netflix', nan, 'KBS2', 'Netflix, ENA', 'SBS, Netflix',\n",
       "       'Viki, LINE TV, WeTV', 'Disney+', 'Netflix, JTBC', 'KBS1',\n",
       "       'Kakao TV', 'SBS', 'Netflix, Kakao TV', 'TVING', 'JTBC', 'watcha',\n",
       "       'Apple TV+', 'TV Chosun', 'JTBC, ViuTV', 'Viki, GagaOOLala',\n",
       "       'Viki, U-NEXT', 'KBS2, wavve', 'OCN', 'Seezn', 'SBS, Lifetime',\n",
       "       'ENA', 'MBN', 'iQiyi, Viki', 'wavve', 'NAVER TV', 'Coupang Play',\n",
       "       'Viki, WHYNOT', 'Viki, Viu', 'Seezn, Olleh TV, ENA', 'oksusu',\n",
       "       'MBC, wavve', 'MBN, Sohu', 'YouTube Premium', 'SBS, wavve',\n",
       "       'Netflix, OCN', 'MBN, Dramax', 'EBS 1', 'Viki, WeTV, watcha',\n",
       "       'Viu', 'Viki, WeTV, W-STORY', 'V LIVE', 'TV Chosun, Seezn',\n",
       "       'Channel A', 'YouTube, NAVER NOW', 'YouTube, NAVER TV', 'Mnet',\n",
       "       'MBN, wavve', 'YouTube, NAVER TV, V LIVE',\n",
       "       'Animax Korea, AniOne, Daekyo Kids TV, Daewon Broadcasting',\n",
       "       'NAVER TV, MBC Drama', 'YouTube', 'Lifetime',\n",
       "       'Netflix, Viki, LINE TV, Tencent Video', 'MBC, NAVER TV, V LIVE',\n",
       "       'MBN, iHQ', 'MBC, MBC every1', 'YouTube, NAVER TV, Daum tvPot',\n",
       "       'Kakao TV, watcha', 'TV Chosun, wavve', 'MBC, V LIVE',\n",
       "       'NAVER TV, V LIVE', 'DRAMAcube', 'SBS Plus', 'JTBC4',\n",
       "       'Seezn, Olleh TV, skyTV', 'Sohu', 'KBS W', 'Viki, W-STORY',\n",
       "       'Tooniverse, LG U+', 'SBS, GTV', 'MBC every1', 'Viki',\n",
       "       'Viki, bilibili', 'Dramax, UMAX', 'YouTube, NAVER TV, vLive',\n",
       "       'Viki, Viu, W-STORY', 'JTBC, NAVER TV',\n",
       "       'sky Drama, Seezn, Olleh TV, SkyLife', 'Daum tvPot', 'Viki, Seezn',\n",
       "       'JTBC, iQiyi', 'MBC Drama, Seezn', 'SBS, V LIVE',\n",
       "       'Tencent Video, WeTV', 'LINE TV, Tencent Video, WeTV',\n",
       "       'NAVER TV, iQiyi', 'Channel A, wavve',\n",
       "       'bilibili, GagaOOLala, Cinema Heaven', 'KBS Drama',\n",
       "       'YouTube, Viki, Kocowa', 'Viki, Kakao TV, WeTV', 'MBC, NAVER TV',\n",
       "       'E Channel', 'NAVER TV, SNS', 'MBC ON', 'MBC, Tooniverse', 'CGNTV',\n",
       "       'OCN movies', 'Tooniverse', 'SBS, BR Fernsehen',\n",
       "       'Viki, LINE TV, GagaOOLala, Rakuten TV',\n",
       "       'YouTube, NAVER TV, MBC every1', 'KBS Joy', 'Olleh TV',\n",
       "       'NAVER TV, Facebook', 'Olive', 'Amazon', 'MBC Drama'], dtype=object)"
      ]
     },
     "execution_count": 282,
     "metadata": {},
     "output_type": "execute_result"
    }
   ],
   "source": [
    "df['networks'].unique()"
   ]
  },
  {
   "cell_type": "code",
   "execution_count": 288,
   "id": "68e13983-afca-4714-8b22-b64474506441",
   "metadata": {},
   "outputs": [
    {
     "data": {
      "text/plain": [
       "52"
      ]
     },
     "execution_count": 288,
     "metadata": {},
     "output_type": "execute_result"
    }
   ],
   "source": [
    "netflix_count = df[df['networks'].str.contains('Netflix', case=False, na=False)].shape[0] #대소문자를 구분하지 않고, NaN 값은 무시\n",
    "netflix_count"
   ]
  },
  {
   "cell_type": "code",
   "execution_count": 290,
   "id": "1aba26dd-f705-4be7-b25f-dbca6d35192d",
   "metadata": {},
   "outputs": [
    {
     "data": {
      "text/plain": [
       "networks\n",
       "MBC                                                          281\n",
       "SBS                                                          258\n",
       "KBS2                                                         246\n",
       "JTBC                                                          94\n",
       "NAVER TV                                                      50\n",
       "                                                            ... \n",
       "MBC, NAVER TV, V LIVE                                          1\n",
       "NAVER TV, MBC Drama                                            1\n",
       "Animax Korea, AniOne, Daekyo Kids TV, Daewon Broadcasting      1\n",
       "MBN, wavve                                                     1\n",
       "MBC Drama                                                      1\n",
       "Name: count, Length: 112, dtype: int64"
      ]
     },
     "execution_count": 290,
     "metadata": {},
     "output_type": "execute_result"
    }
   ],
   "source": [
    "# 네트워크별 드라마 수 계산\n",
    "network_counts = df['networks'].value_counts()\n",
    "network_counts"
   ]
  },
  {
   "cell_type": "code",
   "execution_count": 296,
   "id": "110c7d40-73bb-4644-9b47-c53dd67a68e6",
   "metadata": {},
   "outputs": [
    {
     "name": "stdout",
     "output_type": "stream",
     "text": [
      "Netflix가 포함된 데이터 개수: 52\n",
      "Wavve가 포함된 데이터 개수: 20\n",
      "ENA가 포함된 데이터 개수: 7\n",
      "tvN가 포함된 데이터 개수: 0\n",
      "jTBC가 포함된 데이터 개수: 105\n",
      "OCN가 포함된 데이터 개수: 35\n",
      "SBS가 포함된 데이터 개수: 270\n",
      "KBS2가 포함된 데이터 개수: 250\n",
      "KBS1가 포함된 데이터 개수: 39\n",
      "MBC가 포함된 데이터 개수: 297\n",
      "Olleh TV가 포함된 데이터 개수: 6\n",
      "Disney+가 포함된 데이터 개수: 10\n",
      "Channel A가 포함된 데이터 개수: 7\n",
      "TV Chosun가 포함된 데이터 개수: 13\n",
      "MBN가 포함된 데이터 개수: 13\n",
      "YouTube가 포함된 데이터 개수: 39\n",
      "Tooniverse가 포함된 데이터 개수: 3\n",
      "Coupang Play가 포함된 데이터 개수: 6\n"
     ]
    }
   ],
   "source": [
    "# 'Netflix,  tvN ' 두개가 합쳐진 값도 각각의 단어로 검색 시 데이터 개수에 합산될 수 있도록 해보기\n",
    "# 검색할 단어들 리스트 정의(우리나라 방송 위주로)\n",
    "search_words = ['Netflix', 'Wavve', 'ENA', 'tvN', 'jTBC', 'OCN', 'SBS', 'KBS2', 'KBS1', 'MBC', 'Olleh TV', 'Disney+', 'Channel A', 'TV Chosun', 'MBN', 'YouTube', 'Tooniverse', 'Coupang Play'  ]\n",
    "\n",
    "# 각 단어들이 포함된 데이터 개수 계산\n",
    "counts = {}\n",
    "for word in search_words:\n",
    "    counts[word] = df[df['networks'].str.contains(word, case=False, na=False)].shape[0]\n",
    "\n",
    "# 결과 출력\n",
    "for word, count in counts.items():\n",
    "    print(f\"{word}가 포함된 데이터 개수: {count}\")"
   ]
  },
  {
   "cell_type": "code",
   "execution_count": 302,
   "id": "2d11bd01-0965-498e-8b19-f776dcc6a93e",
   "metadata": {},
   "outputs": [
    {
     "data": {
      "image/png": "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",
      "text/plain": [
       "<Figure size 1200x800 with 1 Axes>"
      ]
     },
     "metadata": {},
     "output_type": "display_data"
    }
   ],
   "source": [
    "# 딕셔너리를 값(counts)으로 내림차순 정렬\n",
    "counts_sorted = dict(sorted(counts.items(), key=lambda item: item[1], reverse=False))\n",
    "\n",
    "# 결과를 가로 막대 그래프로 출력\n",
    "plt.figure(figsize=(12, 8))\n",
    "plt.barh(list(counts_sorted.keys()), list(counts_sorted.values()), color='skyblue')\n",
    "plt.xlabel('Number of Dramas')\n",
    "plt.ylabel('Network')\n",
    "plt.title('방송사별 방영된 드라마 수')\n",
    "plt.grid(axis='x')  # x축에 그리드 추가\n",
    "plt.show()"
   ]
  },
  {
   "cell_type": "code",
   "execution_count": 304,
   "id": "27d60542-0be7-4ec8-b908-3bd3c4377e9d",
   "metadata": {},
   "outputs": [
    {
     "name": "stdout",
     "output_type": "stream",
     "text": [
      "Counter({'Drama': 1515, 'Comedy': 393, 'Mystery': 160, 'Family': 153, 'Sci-Fi & Fantasy': 112, 'Crime': 107, 'Action & Adventure': 95, 'Romance': 76, 'War & Politics': 22, 'Soap': 18, 'History': 9, 'Animation': 8, 'Kids': 4, 'Reality': 3, 'Documentary': 1})\n"
     ]
    }
   ],
   "source": [
    "from collections import Counter\n",
    "# 각 장르 단어의 등장 횟수 세기\n",
    "genre_counts = Counter()\n",
    "\n",
    "# 데이터에서 각 행을 읽어와서 장르 단어를 분리하고 카운트하기\n",
    "for i in df['genres']:\n",
    "    genres = i.split(', ')\n",
    "    for genre in genres:\n",
    "        genre_counts[genre.strip()] += 1\n",
    "\n",
    "print(genre_counts)"
   ]
  },
  {
   "cell_type": "code",
   "execution_count": 308,
   "id": "e2175423-9752-469d-a8db-56227b758b94",
   "metadata": {},
   "outputs": [
    {
     "data": {
      "image/png": "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",
      "text/plain": [
       "<Figure size 1000x800 with 1 Axes>"
      ]
     },
     "metadata": {},
     "output_type": "display_data"
    }
   ],
   "source": [
    "# 상위 10개 장르와 나머지 장르 추출\n",
    "top_genres = genre_counts.most_common(10)\n",
    "top_labels = [genre[0] for genre in top_genres]\n",
    "top_sizes = [genre[1] for genre in top_genres]\n",
    "\n",
    "# 나머지 장르를 'etc'로 묶기\n",
    "other_count = sum(count for genre, count in genre_counts.items() if genre not in top_labels)\n",
    "top_labels.append('etc')\n",
    "top_sizes.append(other_count)\n",
    "\n",
    "# 파이차트 그리기\n",
    "plt.figure(figsize=(10, 8))\n",
    "plt.pie(top_sizes, labels=top_labels, autopct='%1.1f%%', startangle=30, wedgeprops={'width':0.7})\n",
    "plt.axis('equal')  # 원 모양으로 조정\n",
    "plt.title('장르별 드라마 수 비율')\n",
    "plt.show()"
   ]
  },
  {
   "cell_type": "code",
   "execution_count": 312,
   "id": "6378aa95-ca46-4936-8920-6b6415311fc6",
   "metadata": {},
   "outputs": [
    {
     "data": {
      "image/png": "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",
      "text/plain": [
       "<Figure size 1000x600 with 1 Axes>"
      ]
     },
     "metadata": {},
     "output_type": "display_data"
    }
   ],
   "source": [
    "# 에피소드 수와 시청 시간 시각화\n",
    "# 사분위수 및 IQR 계산\n",
    "Q1 = df[['number_of_episodes', 'episode_run_time']].quantile(0.25)\n",
    "Q3 = df[['number_of_episodes', 'episode_run_time']].quantile(0.75)\n",
    "IQR = Q3 - Q1\n",
    "\n",
    "# 이상치 필터링\n",
    "filtered_df = df[\n",
    "    (df['number_of_episodes'] >= (Q1['number_of_episodes'] - 1.5 * IQR['number_of_episodes'])) &\n",
    "    (df['number_of_episodes'] <= (Q3['number_of_episodes'] + 1.5 * IQR['number_of_episodes'])) &\n",
    "    (df['episode_run_time'] >= (Q1['episode_run_time'] - 1.5 * IQR['episode_run_time'])) &\n",
    "    (df['episode_run_time'] <= (Q3['episode_run_time'] + 1.5 * IQR['episode_run_time']))\n",
    "]\n",
    "\n",
    "# 시각화\n",
    "plt.figure(figsize=(10, 6))\n",
    "sb.scatterplot(x='number_of_episodes', y='episode_run_time', data=filtered_df)\n",
    "plt.title('Number of Episodes vs. Duration (Filtered)')\n",
    "plt.xlabel('Number of Episodes')\n",
    "plt.ylabel('Duration (minutes)')\n",
    "plt.grid(True)\n",
    "plt.show()"
   ]
  },
  {
   "cell_type": "code",
   "execution_count": 314,
   "id": "0b54cde4-aa4a-45ee-894e-c2664d3a24a3",
   "metadata": {},
   "outputs": [
    {
     "data": {
      "image/png": "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",
      "text/plain": [
       "<Figure size 1200x800 with 1 Axes>"
      ]
     },
     "metadata": {},
     "output_type": "display_data"
    }
   ],
   "source": [
    "# 감독별 제작한 드라마 수 계산\n",
    "director_counts = df[df['directors'] != ''].groupby('directors').size().sort_values(ascending=False).head(10)\n",
    "\n",
    "# 시각화\n",
    "plt.figure(figsize=(12, 8))\n",
    "director_counts.plot(kind='bar')\n",
    "plt.title('Top 10 Directors by Number of Dramas')\n",
    "plt.xlabel('Director')\n",
    "plt.ylabel('Number of Dramas')\n",
    "plt.xticks(rotation=45)\n",
    "plt.show()"
   ]
  },
  {
   "cell_type": "code",
   "execution_count": 316,
   "id": "089ad37d-a014-465d-8f96-33d35b2f4755",
   "metadata": {},
   "outputs": [
    {
     "data": {
      "image/png": "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",
      "text/plain": [
       "<Figure size 1200x2000 with 1 Axes>"
      ]
     },
     "metadata": {},
     "output_type": "display_data"
    }
   ],
   "source": [
    "# 캐스트별 출연 횟수 계산\n",
    "cast_counts = df['cast'].str.split(',').explode().str.strip().value_counts()\n",
    "\n",
    "# 상위 10명 캐스트만 추출\n",
    "top_cast = cast_counts.head(10)\n",
    "\n",
    "# 시각화\n",
    "plt.figure(figsize=(12, 20))\n",
    "top_cast.plot(kind='barh')\n",
    "plt.title('Top 10 Cast Members by Number of Dramas')\n",
    "plt.xlabel('Number of Dramas')\n",
    "plt.ylabel('Cast Member')\n",
    "plt.gca().invert_yaxis()  # 순서 뒤집기 (가장 많은 것이 위에 오도록)\n",
    "plt.show()"
   ]
  },
  {
   "cell_type": "code",
   "execution_count": 344,
   "id": "41dc0970-35ac-4ffd-9e06-716696e752cc",
   "metadata": {},
   "outputs": [
    {
     "data": {
      "text/plain": [
       "airing_date\n",
       "1983.0      2\n",
       "1984.0      2\n",
       "1985.0      2\n",
       "1986.0      2\n",
       "1988.0      2\n",
       "1989.0      1\n",
       "1990.0      1\n",
       "1991.0      1\n",
       "1992.0      1\n",
       "1994.0      2\n",
       "1995.0      2\n",
       "1996.0      4\n",
       "1997.0      5\n",
       "1998.0      3\n",
       "1999.0      8\n",
       "2000.0     10\n",
       "2001.0     12\n",
       "2002.0     14\n",
       "2003.0     22\n",
       "2004.0     23\n",
       "2005.0     34\n",
       "2006.0     40\n",
       "2007.0     37\n",
       "2008.0     40\n",
       "2009.0     42\n",
       "2010.0     47\n",
       "2011.0     51\n",
       "2012.0     52\n",
       "2013.0     64\n",
       "2014.0     71\n",
       "2015.0     69\n",
       "2016.0     89\n",
       "2017.0     92\n",
       "2018.0    110\n",
       "2019.0    105\n",
       "2020.0    108\n",
       "2021.0    141\n",
       "2022.0    137\n",
       "2023.0      2\n",
       "Name: count, dtype: int64"
      ]
     },
     "execution_count": 344,
     "metadata": {},
     "output_type": "execute_result"
    }
   ],
   "source": [
    "air_series = pd.to_datetime(df_series['airing_date'])\n",
    "air_series = air_series.dt.year.value_counts().sort_index()\n",
    "air_series"
   ]
  },
  {
   "cell_type": "code",
   "execution_count": 346,
   "id": "6f229235-6868-4322-bd5e-48060c2aacba",
   "metadata": {},
   "outputs": [
    {
     "data": {
      "image/png": "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",
      "text/plain": [
       "<Figure size 640x480 with 1 Axes>"
      ]
     },
     "metadata": {},
     "output_type": "display_data"
    }
   ],
   "source": [
    "plt.bar(air_series.index, air_series.values, color='green')\n",
    "plt.xlabel('Year')\n",
    "plt.ylabel('Number of Dramas')\n",
    "plt.title('Number of Dramas by Year')\n",
    "plt.xticks(rotation=45)\n",
    "plt.grid(axis='y')  # y축에 그리드 추가\n",
    "plt.show()"
   ]
  },
  {
   "cell_type": "code",
   "execution_count": null,
   "id": "84d18f55-d0c1-41eb-bcfd-b40e5d871ca8",
   "metadata": {},
   "outputs": [],
   "source": []
  },
  {
   "cell_type": "code",
   "execution_count": null,
   "id": "292d6a14-f116-44e0-b287-f0737cf2b3d6",
   "metadata": {},
   "outputs": [],
   "source": []
  },
  {
   "cell_type": "code",
   "execution_count": null,
   "id": "1342489d-d765-44d8-9745-f32dc7c9cbe9",
   "metadata": {},
   "outputs": [],
   "source": []
  },
  {
   "cell_type": "code",
   "execution_count": null,
   "id": "4ccd9494-d974-426f-b357-64f496614347",
   "metadata": {},
   "outputs": [],
   "source": []
  },
  {
   "cell_type": "code",
   "execution_count": null,
   "id": "f4be6a67-0e42-4e3b-b4e5-dd555bf9d074",
   "metadata": {},
   "outputs": [],
   "source": []
  },
  {
   "cell_type": "code",
   "execution_count": null,
   "id": "4a958c17-288a-4d39-b8a4-879bf4a6a3d0",
   "metadata": {},
   "outputs": [],
   "source": []
  },
  {
   "cell_type": "code",
   "execution_count": null,
   "id": "39b2899a-fef2-475e-96e0-c7ab2255dbc8",
   "metadata": {},
   "outputs": [],
   "source": []
  }
 ],
 "metadata": {
  "kernelspec": {
   "display_name": "Python 3 (ipykernel)",
   "language": "python",
   "name": "python3"
  },
  "language_info": {
   "codemirror_mode": {
    "name": "ipython",
    "version": 3
   },
   "file_extension": ".py",
   "mimetype": "text/x-python",
   "name": "python",
   "nbconvert_exporter": "python",
   "pygments_lexer": "ipython3",
   "version": "3.12.4"
  }
 },
 "nbformat": 4,
 "nbformat_minor": 5
}
